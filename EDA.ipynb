{
 "cells": [
  {
   "cell_type": "markdown",
   "metadata": {},
   "source": [
    "# Ingesta, análisis exploratorio y visualización de datos"
   ]
  },
  {
   "cell_type": "code",
   "execution_count": 13,
   "metadata": {},
   "outputs": [],
   "source": [
    "import pandas as pd\n",
    "import matplotlib.pyplot as plt\n",
    "import seaborn as sns\n",
    "\n",
    "filename = 'data/sepsis_ejemplo.csv'\n",
    "df = pd.read_csv(filename)"
   ]
  },
  {
   "cell_type": "code",
   "execution_count": 3,
   "metadata": {},
   "outputs": [
    {
     "name": "stdout",
     "output_type": "stream",
     "text": [
      "<class 'pandas.core.frame.DataFrame'>\n",
      "RangeIndex: 15522 entries, 0 to 15521\n",
      "Data columns (total 45 columns):\n",
      " #   Column            Non-Null Count  Dtype  \n",
      "---  ------            --------------  -----  \n",
      " 0   Unnamed: 0.1      15522 non-null  int64  \n",
      " 1   Unnamed: 0        15522 non-null  int64  \n",
      " 2   Hour              15522 non-null  int64  \n",
      " 3   HR                13933 non-null  float64\n",
      " 4   O2Sat             13479 non-null  float64\n",
      " 5   Temp              5204 non-null   float64\n",
      " 6   SBP               13204 non-null  float64\n",
      " 7   MAP               13522 non-null  float64\n",
      " 8   DBP               10628 non-null  float64\n",
      " 9   Resp              13048 non-null  float64\n",
      " 10  EtCO2             570 non-null    float64\n",
      " 11  BaseExcess        779 non-null    float64\n",
      " 12  HCO3              643 non-null    float64\n",
      " 13  FiO2              1232 non-null   float64\n",
      " 14  pH                1001 non-null   float64\n",
      " 15  PaCO2             821 non-null    float64\n",
      " 16  SaO2              528 non-null    float64\n",
      " 17  AST               261 non-null    float64\n",
      " 18  BUN               1046 non-null   float64\n",
      " 19  Alkalinephos      263 non-null    float64\n",
      " 20  Calcium           922 non-null    float64\n",
      " 21  Chloride          700 non-null    float64\n",
      " 22  Creatinine        931 non-null    float64\n",
      " 23  Bilirubin_direct  36 non-null     float64\n",
      " 24  Glucose           2639 non-null   float64\n",
      " 25  Lactate           400 non-null    float64\n",
      " 26  Magnesium         948 non-null    float64\n",
      " 27  Phosphate         618 non-null    float64\n",
      " 28  Potassium         1419 non-null   float64\n",
      " 29  Bilirubin_total   254 non-null    float64\n",
      " 30  TroponinI         148 non-null    float64\n",
      " 31  Hct               1326 non-null   float64\n",
      " 32  Hgb               1153 non-null   float64\n",
      " 33  PTT               457 non-null    float64\n",
      " 34  WBC               993 non-null    float64\n",
      " 35  Fibrinogen        108 non-null    float64\n",
      " 36  Platelets         931 non-null    float64\n",
      " 37  Age               15522 non-null  float64\n",
      " 38  Gender            15522 non-null  int64  \n",
      " 39  Unit1             9418 non-null   float64\n",
      " 40  Unit2             9418 non-null   float64\n",
      " 41  HospAdmTime       15522 non-null  float64\n",
      " 42  ICULOS            15522 non-null  int64  \n",
      " 43  SepsisLabel       15522 non-null  int64  \n",
      " 44  Patient_ID        15522 non-null  int64  \n",
      "dtypes: float64(38), int64(7)\n",
      "memory usage: 5.3 MB\n"
     ]
    }
   ],
   "source": [
    "df.info()"
   ]
  },
  {
   "cell_type": "code",
   "execution_count": 30,
   "metadata": {},
   "outputs": [
    {
     "ename": "KeyError",
     "evalue": "'Porcentajevalores_faltantes'",
     "output_type": "error",
     "traceback": [
      "\u001b[0;31m---------------------------------------------------------------------------\u001b[0m",
      "\u001b[0;31mKeyError\u001b[0m                                  Traceback (most recent call last)",
      "\u001b[0;32m/var/folders/6h/trsnhb0j52v1jnlwx_k_wqfw0000gn/T/ipykernel_2705/727212505.py\u001b[0m in \u001b[0;36m?\u001b[0;34m()\u001b[0m\n\u001b[1;32m      1\u001b[0m \u001b[0mmissing_percentage\u001b[0m \u001b[0;34m=\u001b[0m \u001b[0mdf\u001b[0m\u001b[0;34m.\u001b[0m\u001b[0misnull\u001b[0m\u001b[0;34m(\u001b[0m\u001b[0;34m)\u001b[0m\u001b[0;34m.\u001b[0m\u001b[0mmean\u001b[0m\u001b[0;34m(\u001b[0m\u001b[0;34m)\u001b[0m\u001b[0;34m*\u001b[0m\u001b[0;36m100\u001b[0m\u001b[0;34m\u001b[0m\u001b[0;34m\u001b[0m\u001b[0m\n\u001b[1;32m      2\u001b[0m \u001b[0;34m\u001b[0m\u001b[0m\n\u001b[1;32m      3\u001b[0m \u001b[0mmissig_values_df\u001b[0m \u001b[0;34m=\u001b[0m \u001b[0mpd\u001b[0m\u001b[0;34m.\u001b[0m\u001b[0mDataFrame\u001b[0m\u001b[0;34m(\u001b[0m\u001b[0;34m{\u001b[0m\u001b[0;34m'conteo_valores_faltantes'\u001b[0m\u001b[0;34m:\u001b[0m \u001b[0mdf\u001b[0m\u001b[0;34m.\u001b[0m\u001b[0misnull\u001b[0m\u001b[0;34m(\u001b[0m\u001b[0;34m)\u001b[0m\u001b[0;34m.\u001b[0m\u001b[0msum\u001b[0m\u001b[0;34m(\u001b[0m\u001b[0;34m)\u001b[0m\u001b[0;34m,\u001b[0m\u001b[0;34m'Porcentaje_valores_faltantes'\u001b[0m\u001b[0;34m:\u001b[0m\u001b[0mmissing_percentage\u001b[0m\u001b[0;34m}\u001b[0m\u001b[0;34m)\u001b[0m\u001b[0;34m\u001b[0m\u001b[0;34m\u001b[0m\u001b[0m\n\u001b[0;32m----> 4\u001b[0;31m \u001b[0mmissing_values_df\u001b[0m \u001b[0;34m=\u001b[0m \u001b[0mmissig_values_df\u001b[0m\u001b[0;34m[\u001b[0m\u001b[0mmissig_values_df\u001b[0m\u001b[0;34m[\u001b[0m\u001b[0;34m'conteo_valores_faltantes'\u001b[0m\u001b[0;34m]\u001b[0m\u001b[0;34m>\u001b[0m\u001b[0;36m0\u001b[0m\u001b[0;34m]\u001b[0m\u001b[0;34m.\u001b[0m\u001b[0msort_values\u001b[0m\u001b[0;34m(\u001b[0m\u001b[0;34m'Porcentajevalores_faltantes'\u001b[0m\u001b[0;34m,\u001b[0m \u001b[0mascending\u001b[0m \u001b[0;34m=\u001b[0m \u001b[0;32mFalse\u001b[0m\u001b[0;34m)\u001b[0m\u001b[0;34m\u001b[0m\u001b[0;34m\u001b[0m\u001b[0m\n\u001b[0m\u001b[1;32m      5\u001b[0m \u001b[0mprint\u001b[0m\u001b[0;34m(\u001b[0m\u001b[0mmissig_values_df\u001b[0m\u001b[0;34m)\u001b[0m\u001b[0;34m\u001b[0m\u001b[0;34m\u001b[0m\u001b[0m\n",
      "\u001b[0;32m/usr/local/Caskroom/miniconda/base/envs/Tensorflow/lib/python3.10/site-packages/pandas/core/frame.py\u001b[0m in \u001b[0;36m?\u001b[0;34m(self, by, axis, ascending, inplace, kind, na_position, ignore_index, key)\u001b[0m\n\u001b[1;32m   7172\u001b[0m             )\n\u001b[1;32m   7173\u001b[0m         \u001b[0;32melif\u001b[0m \u001b[0mlen\u001b[0m\u001b[0;34m(\u001b[0m\u001b[0mby\u001b[0m\u001b[0;34m)\u001b[0m\u001b[0;34m:\u001b[0m\u001b[0;34m\u001b[0m\u001b[0;34m\u001b[0m\u001b[0m\n\u001b[1;32m   7174\u001b[0m             \u001b[0;31m# len(by) == 1\u001b[0m\u001b[0;34m\u001b[0m\u001b[0;34m\u001b[0m\u001b[0m\n\u001b[1;32m   7175\u001b[0m \u001b[0;34m\u001b[0m\u001b[0m\n\u001b[0;32m-> 7176\u001b[0;31m             \u001b[0mk\u001b[0m \u001b[0;34m=\u001b[0m \u001b[0mself\u001b[0m\u001b[0;34m.\u001b[0m\u001b[0m_get_label_or_level_values\u001b[0m\u001b[0;34m(\u001b[0m\u001b[0mby\u001b[0m\u001b[0;34m[\u001b[0m\u001b[0;36m0\u001b[0m\u001b[0;34m]\u001b[0m\u001b[0;34m,\u001b[0m \u001b[0maxis\u001b[0m\u001b[0;34m=\u001b[0m\u001b[0maxis\u001b[0m\u001b[0;34m)\u001b[0m\u001b[0;34m\u001b[0m\u001b[0;34m\u001b[0m\u001b[0m\n\u001b[0m\u001b[1;32m   7177\u001b[0m \u001b[0;34m\u001b[0m\u001b[0m\n\u001b[1;32m   7178\u001b[0m             \u001b[0;31m# need to rewrap column in Series to apply key function\u001b[0m\u001b[0;34m\u001b[0m\u001b[0;34m\u001b[0m\u001b[0m\n\u001b[1;32m   7179\u001b[0m             \u001b[0;32mif\u001b[0m \u001b[0mkey\u001b[0m \u001b[0;32mis\u001b[0m \u001b[0;32mnot\u001b[0m \u001b[0;32mNone\u001b[0m\u001b[0;34m:\u001b[0m\u001b[0;34m\u001b[0m\u001b[0;34m\u001b[0m\u001b[0m\n",
      "\u001b[0;32m/usr/local/Caskroom/miniconda/base/envs/Tensorflow/lib/python3.10/site-packages/pandas/core/generic.py\u001b[0m in \u001b[0;36m?\u001b[0;34m(self, key, axis)\u001b[0m\n\u001b[1;32m   1906\u001b[0m             \u001b[0mvalues\u001b[0m \u001b[0;34m=\u001b[0m \u001b[0mself\u001b[0m\u001b[0;34m.\u001b[0m\u001b[0mxs\u001b[0m\u001b[0;34m(\u001b[0m\u001b[0mkey\u001b[0m\u001b[0;34m,\u001b[0m \u001b[0maxis\u001b[0m\u001b[0;34m=\u001b[0m\u001b[0mother_axes\u001b[0m\u001b[0;34m[\u001b[0m\u001b[0;36m0\u001b[0m\u001b[0;34m]\u001b[0m\u001b[0;34m)\u001b[0m\u001b[0;34m.\u001b[0m\u001b[0m_values\u001b[0m\u001b[0;34m\u001b[0m\u001b[0;34m\u001b[0m\u001b[0m\n\u001b[1;32m   1907\u001b[0m         \u001b[0;32melif\u001b[0m \u001b[0mself\u001b[0m\u001b[0;34m.\u001b[0m\u001b[0m_is_level_reference\u001b[0m\u001b[0;34m(\u001b[0m\u001b[0mkey\u001b[0m\u001b[0;34m,\u001b[0m \u001b[0maxis\u001b[0m\u001b[0;34m=\u001b[0m\u001b[0maxis\u001b[0m\u001b[0;34m)\u001b[0m\u001b[0;34m:\u001b[0m\u001b[0;34m\u001b[0m\u001b[0;34m\u001b[0m\u001b[0m\n\u001b[1;32m   1908\u001b[0m             \u001b[0mvalues\u001b[0m \u001b[0;34m=\u001b[0m \u001b[0mself\u001b[0m\u001b[0;34m.\u001b[0m\u001b[0maxes\u001b[0m\u001b[0;34m[\u001b[0m\u001b[0maxis\u001b[0m\u001b[0;34m]\u001b[0m\u001b[0;34m.\u001b[0m\u001b[0mget_level_values\u001b[0m\u001b[0;34m(\u001b[0m\u001b[0mkey\u001b[0m\u001b[0;34m)\u001b[0m\u001b[0;34m.\u001b[0m\u001b[0m_values\u001b[0m\u001b[0;34m\u001b[0m\u001b[0;34m\u001b[0m\u001b[0m\n\u001b[1;32m   1909\u001b[0m         \u001b[0;32melse\u001b[0m\u001b[0;34m:\u001b[0m\u001b[0;34m\u001b[0m\u001b[0;34m\u001b[0m\u001b[0m\n\u001b[0;32m-> 1910\u001b[0;31m             \u001b[0;32mraise\u001b[0m \u001b[0mKeyError\u001b[0m\u001b[0;34m(\u001b[0m\u001b[0mkey\u001b[0m\u001b[0;34m)\u001b[0m\u001b[0;34m\u001b[0m\u001b[0;34m\u001b[0m\u001b[0m\n\u001b[0m\u001b[1;32m   1911\u001b[0m \u001b[0;34m\u001b[0m\u001b[0m\n\u001b[1;32m   1912\u001b[0m         \u001b[0;31m# Check for duplicates\u001b[0m\u001b[0;34m\u001b[0m\u001b[0;34m\u001b[0m\u001b[0m\n\u001b[1;32m   1913\u001b[0m         \u001b[0;32mif\u001b[0m \u001b[0mvalues\u001b[0m\u001b[0;34m.\u001b[0m\u001b[0mndim\u001b[0m \u001b[0;34m>\u001b[0m \u001b[0;36m1\u001b[0m\u001b[0;34m:\u001b[0m\u001b[0;34m\u001b[0m\u001b[0;34m\u001b[0m\u001b[0m\n",
      "\u001b[0;31mKeyError\u001b[0m: 'Porcentajevalores_faltantes'"
     ]
    }
   ],
   "source": [
    "missing_percentage = df.isnull().mean()*100\n",
    "\n",
    "missig_values_df = pd.DataFrame({'conteo_valores_faltantes': df.isnull().sum(),'Porcentaje_valores_faltantes':missing_percentage})\n",
    "missing_values_df = missig_values_df[missig_values_df['conteo_valores_faltantes']>0].sort_values('Porcentajevalores_faltantes', ascending = False)\n",
    "print(missig_values_df)"
   ]
  },
  {
   "cell_type": "code",
   "execution_count": 16,
   "metadata": {},
   "outputs": [
    {
     "name": "stdout",
     "output_type": "stream",
     "text": [
      "                  conteo_valores_faltantes  porcentaje_valores_faltantes\n",
      "Bilirubin_direct                     15486                     99.768071\n",
      "Fibrinogen                           15414                     99.304213\n",
      "TroponinI                            15374                     99.046515\n",
      "Bilirubin_total                      15268                     98.363613\n",
      "AST                                  15261                     98.318516\n",
      "Alkalinephos                         15259                     98.305631\n",
      "Lactate                              15122                     97.423012\n",
      "PTT                                  15065                     97.055792\n",
      "SaO2                                 14994                     96.598376\n",
      "EtCO2                                14952                     96.327793\n",
      "Phosphate                            14904                     96.018554\n",
      "HCO3                                 14879                     95.857493\n",
      "Chloride                             14822                     95.490272\n",
      "BaseExcess                           14743                     94.981317\n",
      "PaCO2                                14701                     94.710733\n",
      "Calcium                              14600                     94.060044\n",
      "Creatinine                           14591                     94.002062\n",
      "Platelets                            14591                     94.002062\n",
      "Magnesium                            14574                     93.892540\n",
      "WBC                                  14529                     93.602629\n",
      "pH                                   14521                     93.551089\n",
      "BUN                                  14476                     93.261178\n",
      "Hgb                                  14369                     92.571834\n",
      "FiO2                                 14290                     92.062878\n",
      "Hct                                  14196                     91.457286\n",
      "Potassium                            14103                     90.858137\n",
      "Glucose                              12883                     82.998325\n",
      "Temp                                 10318                     66.473393\n",
      "Unit1                                 6104                     39.324829\n",
      "Unit2                                 6104                     39.324829\n",
      "DBP                                   4894                     31.529442\n",
      "Resp                                  2474                     15.938668\n",
      "SBP                                   2318                     14.933643\n",
      "O2Sat                                 2043                     13.161964\n",
      "MAP                                   2000                     12.884938\n",
      "HR                                    1589                     10.237083\n"
     ]
    }
   ],
   "source": [
    "missing_percent = df.isnull().mean() * 100\n",
    "\n",
    "# Crear un DataFrame con los resultados\n",
    "missing_values_df = pd.DataFrame({'conteo_valores_faltantes': df.isnull().sum(), 'porcentaje_valores_faltantes': missing_percent})\n",
    "\n",
    "# Filtrar para mostrar solo las columnas con valores faltantes y ordenar por porcentaje de forma descendente\n",
    "missing_values_df = missing_values_df[missing_values_df['conteo_valores_faltantes'] > 0].sort_values('porcentaje_valores_faltantes', ascending=False)\n",
    "\n",
    "# Mostrar el resultado\n",
    "print(missing_values_df)"
   ]
  },
  {
   "cell_type": "code",
   "execution_count": null,
   "metadata": {},
   "outputs": [],
   "source": []
  }
 ],
 "metadata": {
  "kernelspec": {
   "display_name": "Tensorflow",
   "language": "python",
   "name": "python3"
  },
  "language_info": {
   "codemirror_mode": {
    "name": "ipython",
    "version": 3
   },
   "file_extension": ".py",
   "mimetype": "text/x-python",
   "name": "python",
   "nbconvert_exporter": "python",
   "pygments_lexer": "ipython3",
   "version": "3.10.0"
  }
 },
 "nbformat": 4,
 "nbformat_minor": 2
}
