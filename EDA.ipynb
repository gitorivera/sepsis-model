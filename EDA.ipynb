{
    "cells": [
        {
            "cell_type": "markdown",
            "metadata": {
                "cell_id": "6b6d88768be04338a2e57bb7fa8e34b1",
                "deepnote_cell_type": "markdown"
            },
            "source": "# Ingesta, análisis exploratorio y visualización de datos\nEn este notebook vamos a implementar el análisis exploratorio de datos (EDA) para analizar datasets para resumir sus principales características.\nUsando EDA, se puede entender una dataset de una manera fácil, encontrar patrones, identificar valores anómalos y explorar a relación entre variables usando técnicas tanto gráficas como no gráficas.\n\nEDA también nos ayuda a escoger cuál característica debe ser considerada para usar en nuestro modelo de machine learning.\n\n## Tabla de contenido\n1. Entendiendo el caso\n2. Descripción de las variables\n3. Entendimiento de las variables\n4. Limpieza de las variables\n5. Visualización de los datos\n\n## 1. Entendiendo el caso\nNuestro problema aborda una serie de datos clínicos, para-clínicos y socio demográficos de pacientes que han desarrollado sepsis. Nuestro equipo \"Health Tech Synergy\" desarrolla predictivo para determinar la suceptibilidad de un individuo par desarrollar sepsis a partir de estos datos.",
            "block_group": "42f2180cf1fb42c992929c158a50e024"
        },
        {
            "cell_type": "markdown",
            "metadata": {
                "cell_id": "49aac63390f04959a19eb7b2d4d2a305",
                "deepnote_cell_type": "markdown"
            },
            "source": "## 2. Descripción de las variables\nEstas son las variables contenidas en nuestra base de datos:\n\n| **Variable**       | **Tipo**         | **Descripción**                                                                                                                                           |\n|--------------------|------------------|-----------------------------------------------------------------------------------------------------------------------------------------------------------|\n| HR                 | Clínica           | Frecuencia cardíaca del paciente (pulsaciones por minuto).                                                                                                |\n| O2Sat              | Clínica           | Saturación de oxígeno en la sangre (%).                                                                                                                   |\n| Temp               | Clínica           | Temperatura corporal (°C).                                                                                                                                |\n| SBP                | Clínica           | Presión arterial sistólica (mmHg).                                                                                                                        |\n| MAP                | Clínica           | Presión arterial media (mmHg).                                                                                                                            |\n| DBP                | Clínica           | Presión arterial diastólica (mmHg).                                                                                                                       |\n| Resp               | Clínica           | Frecuencia respiratoria (respiraciones por minuto).                                                                                                        |\n| SepsisLabel        | Clínica           | Indicador de sepsis (0: No sepsis, 1: Sepsis).                                                                                                            |\n| ICULOS             | Clínica           | Duración de la estancia en la unidad de cuidados intensivos (horas).                                                                                       |\n| EtCO2              | Paraclínica       | Presión de dióxido de carbono al final de la espiración.                                                                                                   |\n| BaseExcess         | Paraclínica       | Exceso de base en la sangre (medido en mEq/L).                                                                                                            |\n| HCO3               | Paraclínica       | Bicarbonato en sangre (mEq/L).                                                                                                                            |\n| FiO2               | Paraclínica       | Fracción inspirada de oxígeno (porcentaje).                                                                                                               |\n| pH                 | Paraclínica       | pH sanguíneo.                                                                                                                                            |\n| PaCO2              | Paraclínica       | Presión parcial de dióxido de carbono (mmHg).                                                                                                             |\n| SaO2               | Paraclínica       | Saturación de oxígeno arterial (%).                                                                                                                       |\n| AST                | Paraclínica       | Aspartato aminotransferasa, un marcador de daño hepático.                                                                                                 |\n| BUN                | Paraclínica       | Nitrógeno ureico en sangre (mg/dL), indicador de función renal.                                                                                           |\n| Alkalinephos       | Paraclínica       | Fosfatasa alcalina, un marcador de función hepática y ósea.                                                                                               |\n| Calcium            | Paraclínica       | Nivel de calcio en la sangre (mg/dL).                                                                                                                     |\n| Chloride           | Paraclínica       | Nivel de cloro en la sangre (mmol/L).                                                                                                                     |\n| Creatinine         | Paraclínica       | Creatinina en sangre, indicador de la función renal (mg/dL).                                                                                              |\n| Bilirubin_direct   | Paraclínica       | Bilirrubina directa (mg/dL).                                                                                                                              |\n| Glucose            | Paraclínica       | Nivel de glucosa en sangre (mg/dL).                                                                                                                       |\n| Lactate            | Paraclínica       | Nivel de lactato en sangre, indicador de hipoxia (mmol/L).                                                                                                |\n| Magnesium          | Paraclínica       | Nivel de magnesio en sangre (mg/dL).                                                                                                                      |\n| Phosphate          | Paraclínica       | Nivel de fosfato en sangre (mg/dL).                                                                                                                       |\n| Potassium          | Paraclínica       | Nivel de potasio en sangre (mmol/L).                                                                                                                      |\n| Bilirubin_total    | Paraclínica       | Bilirrubina total en sangre (mg/dL).                                                                                                                      |\n| TroponinI          | Paraclínica       | Troponina I, un marcador de daño cardíaco.                                                                                                                |\n| Hct                | Paraclínica       | Hematocrito, proporción de glóbulos rojos en la sangre (%).                                                                                               |\n| Hgb                | Paraclínica       | Hemoglobina en sangre (g/dL).                                                                                                                             |\n| PTT                | Paraclínica       | Tiempo de tromboplastina parcial, evalúa la coagulación (segundos).                                                                                       |\n| WBC                | Paraclínica       | Recuento de glóbulos blancos (10^9/L).                                                                                                                    |\n| Fibrinogen         | Paraclínica       | Nivel de fibrinógeno en sangre (mg/dL), un factor de coagulación.                                                                                         |\n| Platelets          | Paraclínica       | Conteo de plaquetas en sangre (10^9/L).                                                                                                                   |\n| Age                | Sociodemográfica  | Edad del paciente (años).                                                                                                                                 |\n| Gender             | Sociodemográfica  | Género del paciente (0: Mujer, 1: Hombre).                                                                                                                |\n| Unit1              | Sociodemográfica  | Unidad en la que se encuentra el paciente (0: No es unidad 1, 1: Es unidad 1).                                                                            |\n| Unit2              | Sociodemográfica  | Segunda unidad en la que se encuentra el paciente (0: No es unidad 2, 1: Es unidad 2).                                                                    |\n| HospAdmTime        | Sociodemográfica  | Tiempo desde la admisión hospitalaria hasta el inicio del registro (horas).                                                                                |\n| Patient_ID         | Sociodemográfica  | Identificación única del paciente.                                                                                                                        |\n\n",
            "block_group": "80d7c0b279294dc8bb159db4142c9d26"
        },
        {
            "cell_type": "markdown",
            "metadata": {
                "cell_id": "93c7fe56293f4a089f96ff5613843771",
                "deepnote_cell_type": "markdown"
            },
            "source": "## 3. Entendimiento de los datos\nPara comprender los datos debemos cargarlos en nuestro sistema. Para comenzar cargamos las  librerías necesarias para nuestro análisis.",
            "block_group": "ca40e832e7cd4145970df2f9dd15a6fb"
        },
        {
            "cell_type": "code",
            "metadata": {
                "source_hash": "a31a436c",
                "execution_start": 1725726472298,
                "execution_millis": 1741,
                "deepnote_to_be_reexecuted": false,
                "cell_id": "c7648ada0c454868bd09fffa94405098",
                "deepnote_cell_type": "code"
            },
            "source": "import pandas as pd\nimport matplotlib.pyplot as plt\nimport seaborn as sns\n\nsns.set_style('whitegrid')\n\nimport warnings\nwarnings.filterwarnings('ignore')\n\nfilename = 'data/sepsis_ejemplo.csv'\ndf = pd.read_csv(filename)",
            "block_group": "ab898302137145c28e666326804c0c6b",
            "execution_count": 1,
            "outputs": [],
            "outputs_reference": null,
            "content_dependencies": null
        },
        {
            "cell_type": "markdown",
            "metadata": {
                "cell_id": "854478d31ecb42e893feabf3208099ac",
                "deepnote_cell_type": "markdown"
            },
            "source": "### Visualizando algunas variables\nObtenemos las 5 primeras filas del dataset. Esto se hace con la función *df.head()* para obtener una muestra al azar se usa *df.sample()*. Para obtener las últimas se usa *df.tail()*.",
            "block_group": "faeeb56de8ee4f17bd68f6fb4d4908eb"
        },
        {
            "cell_type": "code",
            "metadata": {
                "source_hash": "c085b6ba",
                "execution_start": 1725726504613,
                "execution_millis": 261,
                "deepnote_to_be_reexecuted": false,
                "cell_id": "5c1979d461184ec4b215093e1ec0590e",
                "deepnote_cell_type": "code"
            },
            "source": "df.head()",
            "block_group": "810d20c57cd64bfabe9cb527a086c137",
            "execution_count": 2,
            "outputs": [
                {
                    "output_type": "execute_result",
                    "execution_count": 2,
                    "data": {
                        "application/vnd.deepnote.dataframe.v3+json": {
                            "column_count": 45,
                            "row_count": 5,
                            "columns": [
                                {
                                    "name": "Unnamed: 0.1",
                                    "dtype": "int64",
                                    "stats": {
                                        "unique_count": 5,
                                        "nan_count": 0,
                                        "min": "15353",
                                        "max": "1353110",
                                        "histogram": [
                                            {
                                                "bin_start": 15353,
                                                "bin_end": 149128.7,
                                                "count": 1
                                            },
                                            {
                                                "bin_start": 149128.7,
                                                "bin_end": 282904.4,
                                                "count": 1
                                            },
                                            {
                                                "bin_start": 282904.4,
                                                "bin_end": 416680.10000000003,
                                                "count": 0
                                            },
                                            {
                                                "bin_start": 416680.10000000003,
                                                "bin_end": 550455.8,
                                                "count": 0
                                            },
                                            {
                                                "bin_start": 550455.8,
                                                "bin_end": 684231.5,
                                                "count": 0
                                            },
                                            {
                                                "bin_start": 684231.5,
                                                "bin_end": 818007.2000000001,
                                                "count": 0
                                            },
                                            {
                                                "bin_start": 818007.2000000001,
                                                "bin_end": 951782.9000000001,
                                                "count": 1
                                            },
                                            {
                                                "bin_start": 951782.9000000001,
                                                "bin_end": 1085558.6,
                                                "count": 0
                                            },
                                            {
                                                "bin_start": 1085558.6,
                                                "bin_end": 1219334.3,
                                                "count": 0
                                            },
                                            {
                                                "bin_start": 1219334.3,
                                                "bin_end": 1353110,
                                                "count": 2
                                            }
                                        ]
                                    }
                                },
                                {
                                    "name": "Unnamed: 0",
                                    "dtype": "int64",
                                    "stats": {
                                        "unique_count": 5,
                                        "nan_count": 0,
                                        "min": "15",
                                        "max": "53",
                                        "histogram": [
                                            {
                                                "bin_start": 15,
                                                "bin_end": 18.8,
                                                "count": 2
                                            },
                                            {
                                                "bin_start": 18.8,
                                                "bin_end": 22.6,
                                                "count": 0
                                            },
                                            {
                                                "bin_start": 22.6,
                                                "bin_end": 26.4,
                                                "count": 2
                                            },
                                            {
                                                "bin_start": 26.4,
                                                "bin_end": 30.2,
                                                "count": 0
                                            },
                                            {
                                                "bin_start": 30.2,
                                                "bin_end": 34,
                                                "count": 0
                                            },
                                            {
                                                "bin_start": 34,
                                                "bin_end": 37.8,
                                                "count": 0
                                            },
                                            {
                                                "bin_start": 37.8,
                                                "bin_end": 41.599999999999994,
                                                "count": 0
                                            },
                                            {
                                                "bin_start": 41.599999999999994,
                                                "bin_end": 45.4,
                                                "count": 0
                                            },
                                            {
                                                "bin_start": 45.4,
                                                "bin_end": 49.199999999999996,
                                                "count": 0
                                            },
                                            {
                                                "bin_start": 49.199999999999996,
                                                "bin_end": 53,
                                                "count": 1
                                            }
                                        ]
                                    }
                                },
                                {
                                    "name": "Hour",
                                    "dtype": "int64",
                                    "stats": {
                                        "unique_count": 5,
                                        "nan_count": 0,
                                        "min": "15",
                                        "max": "53",
                                        "histogram": [
                                            {
                                                "bin_start": 15,
                                                "bin_end": 18.8,
                                                "count": 2
                                            },
                                            {
                                                "bin_start": 18.8,
                                                "bin_end": 22.6,
                                                "count": 0
                                            },
                                            {
                                                "bin_start": 22.6,
                                                "bin_end": 26.4,
                                                "count": 2
                                            },
                                            {
                                                "bin_start": 26.4,
                                                "bin_end": 30.2,
                                                "count": 0
                                            },
                                            {
                                                "bin_start": 30.2,
                                                "bin_end": 34,
                                                "count": 0
                                            },
                                            {
                                                "bin_start": 34,
                                                "bin_end": 37.8,
                                                "count": 0
                                            },
                                            {
                                                "bin_start": 37.8,
                                                "bin_end": 41.599999999999994,
                                                "count": 0
                                            },
                                            {
                                                "bin_start": 41.599999999999994,
                                                "bin_end": 45.4,
                                                "count": 0
                                            },
                                            {
                                                "bin_start": 45.4,
                                                "bin_end": 49.199999999999996,
                                                "count": 0
                                            },
                                            {
                                                "bin_start": 49.199999999999996,
                                                "bin_end": 53,
                                                "count": 1
                                            }
                                        ]
                                    }
                                },
                                {
                                    "name": "HR",
                                    "dtype": "float64",
                                    "stats": {
                                        "unique_count": 5,
                                        "nan_count": 0,
                                        "min": "61.5",
                                        "max": "90.0",
                                        "histogram": [
                                            {
                                                "bin_start": 61.5,
                                                "bin_end": 64.35,
                                                "count": 1
                                            },
                                            {
                                                "bin_start": 64.35,
                                                "bin_end": 67.2,
                                                "count": 0
                                            },
                                            {
                                                "bin_start": 67.2,
                                                "bin_end": 70.05,
                                                "count": 0
                                            },
                                            {
                                                "bin_start": 70.05,
                                                "bin_end": 72.9,
                                                "count": 0
                                            },
                                            {
                                                "bin_start": 72.9,
                                                "bin_end": 75.75,
                                                "count": 0
                                            },
                                            {
                                                "bin_start": 75.75,
                                                "bin_end": 78.6,
                                                "count": 1
                                            },
                                            {
                                                "bin_start": 78.6,
                                                "bin_end": 81.45,
                                                "count": 0
                                            },
                                            {
                                                "bin_start": 81.45,
                                                "bin_end": 84.3,
                                                "count": 2
                                            },
                                            {
                                                "bin_start": 84.3,
                                                "bin_end": 87.15,
                                                "count": 0
                                            },
                                            {
                                                "bin_start": 87.15,
                                                "bin_end": 90,
                                                "count": 1
                                            }
                                        ]
                                    }
                                },
                                {
                                    "name": "O2Sat",
                                    "dtype": "float64",
                                    "stats": {
                                        "unique_count": 4,
                                        "nan_count": 0,
                                        "min": "95.0",
                                        "max": "99.5",
                                        "histogram": [
                                            {
                                                "bin_start": 95,
                                                "bin_end": 95.45,
                                                "count": 1
                                            },
                                            {
                                                "bin_start": 95.45,
                                                "bin_end": 95.9,
                                                "count": 0
                                            },
                                            {
                                                "bin_start": 95.9,
                                                "bin_end": 96.35,
                                                "count": 2
                                            },
                                            {
                                                "bin_start": 96.35,
                                                "bin_end": 96.8,
                                                "count": 0
                                            },
                                            {
                                                "bin_start": 96.8,
                                                "bin_end": 97.25,
                                                "count": 1
                                            },
                                            {
                                                "bin_start": 97.25,
                                                "bin_end": 97.7,
                                                "count": 0
                                            },
                                            {
                                                "bin_start": 97.7,
                                                "bin_end": 98.15,
                                                "count": 0
                                            },
                                            {
                                                "bin_start": 98.15,
                                                "bin_end": 98.6,
                                                "count": 0
                                            },
                                            {
                                                "bin_start": 98.6,
                                                "bin_end": 99.05,
                                                "count": 0
                                            },
                                            {
                                                "bin_start": 99.05,
                                                "bin_end": 99.5,
                                                "count": 1
                                            }
                                        ]
                                    }
                                },
                                {
                                    "name": "Temp",
                                    "dtype": "float64",
                                    "stats": {
                                        "unique_count": 2,
                                        "nan_count": 3,
                                        "min": "36.8",
                                        "max": "38.25",
                                        "histogram": [
                                            {
                                                "bin_start": 36.8,
                                                "bin_end": 36.945,
                                                "count": 1
                                            },
                                            {
                                                "bin_start": 36.945,
                                                "bin_end": 37.089999999999996,
                                                "count": 0
                                            },
                                            {
                                                "bin_start": 37.089999999999996,
                                                "bin_end": 37.235,
                                                "count": 0
                                            },
                                            {
                                                "bin_start": 37.235,
                                                "bin_end": 37.379999999999995,
                                                "count": 0
                                            },
                                            {
                                                "bin_start": 37.379999999999995,
                                                "bin_end": 37.525,
                                                "count": 0
                                            },
                                            {
                                                "bin_start": 37.525,
                                                "bin_end": 37.67,
                                                "count": 0
                                            },
                                            {
                                                "bin_start": 37.67,
                                                "bin_end": 37.815,
                                                "count": 0
                                            },
                                            {
                                                "bin_start": 37.815,
                                                "bin_end": 37.96,
                                                "count": 0
                                            },
                                            {
                                                "bin_start": 37.96,
                                                "bin_end": 38.105,
                                                "count": 0
                                            },
                                            {
                                                "bin_start": 38.105,
                                                "bin_end": 38.25,
                                                "count": 1
                                            }
                                        ]
                                    }
                                },
                                {
                                    "name": "SBP",
                                    "dtype": "float64",
                                    "stats": {
                                        "unique_count": 5,
                                        "nan_count": 0,
                                        "min": "121.0",
                                        "max": "151.0",
                                        "histogram": [
                                            {
                                                "bin_start": 121,
                                                "bin_end": 124,
                                                "count": 1
                                            },
                                            {
                                                "bin_start": 124,
                                                "bin_end": 127,
                                                "count": 1
                                            },
                                            {
                                                "bin_start": 127,
                                                "bin_end": 130,
                                                "count": 0
                                            },
                                            {
                                                "bin_start": 130,
                                                "bin_end": 133,
                                                "count": 0
                                            },
                                            {
                                                "bin_start": 133,
                                                "bin_end": 136,
                                                "count": 1
                                            },
                                            {
                                                "bin_start": 136,
                                                "bin_end": 139,
                                                "count": 0
                                            },
                                            {
                                                "bin_start": 139,
                                                "bin_end": 142,
                                                "count": 1
                                            },
                                            {
                                                "bin_start": 142,
                                                "bin_end": 145,
                                                "count": 0
                                            },
                                            {
                                                "bin_start": 145,
                                                "bin_end": 148,
                                                "count": 0
                                            },
                                            {
                                                "bin_start": 148,
                                                "bin_end": 151,
                                                "count": 1
                                            }
                                        ]
                                    }
                                },
                                {
                                    "name": "MAP",
                                    "dtype": "float64",
                                    "stats": {
                                        "unique_count": 5,
                                        "nan_count": 0,
                                        "min": "77.0",
                                        "max": "130.0",
                                        "histogram": [
                                            {
                                                "bin_start": 77,
                                                "bin_end": 82.3,
                                                "count": 2
                                            },
                                            {
                                                "bin_start": 82.3,
                                                "bin_end": 87.6,
                                                "count": 1
                                            },
                                            {
                                                "bin_start": 87.6,
                                                "bin_end": 92.9,
                                                "count": 1
                                            },
                                            {
                                                "bin_start": 92.9,
                                                "bin_end": 98.2,
                                                "count": 0
                                            },
                                            {
                                                "bin_start": 98.2,
                                                "bin_end": 103.5,
                                                "count": 0
                                            },
                                            {
                                                "bin_start": 103.5,
                                                "bin_end": 108.8,
                                                "count": 0
                                            },
                                            {
                                                "bin_start": 108.8,
                                                "bin_end": 114.1,
                                                "count": 0
                                            },
                                            {
                                                "bin_start": 114.1,
                                                "bin_end": 119.4,
                                                "count": 0
                                            },
                                            {
                                                "bin_start": 119.4,
                                                "bin_end": 124.69999999999999,
                                                "count": 0
                                            },
                                            {
                                                "bin_start": 124.69999999999999,
                                                "bin_end": 130,
                                                "count": 1
                                            }
                                        ]
                                    }
                                },
                                {
                                    "name": "DBP",
                                    "dtype": "float64",
                                    "stats": {
                                        "unique_count": 5,
                                        "nan_count": 0,
                                        "min": "54.0",
                                        "max": "115.0",
                                        "histogram": [
                                            {
                                                "bin_start": 54,
                                                "bin_end": 60.1,
                                                "count": 2
                                            },
                                            {
                                                "bin_start": 60.1,
                                                "bin_end": 66.2,
                                                "count": 1
                                            },
                                            {
                                                "bin_start": 66.2,
                                                "bin_end": 72.3,
                                                "count": 0
                                            },
                                            {
                                                "bin_start": 72.3,
                                                "bin_end": 78.4,
                                                "count": 1
                                            },
                                            {
                                                "bin_start": 78.4,
                                                "bin_end": 84.5,
                                                "count": 0
                                            },
                                            {
                                                "bin_start": 84.5,
                                                "bin_end": 90.6,
                                                "count": 0
                                            },
                                            {
                                                "bin_start": 90.6,
                                                "bin_end": 96.69999999999999,
                                                "count": 0
                                            },
                                            {
                                                "bin_start": 96.69999999999999,
                                                "bin_end": 102.8,
                                                "count": 0
                                            },
                                            {
                                                "bin_start": 102.8,
                                                "bin_end": 108.9,
                                                "count": 0
                                            },
                                            {
                                                "bin_start": 108.9,
                                                "bin_end": 115,
                                                "count": 1
                                            }
                                        ]
                                    }
                                },
                                {
                                    "name": "Resp",
                                    "dtype": "float64",
                                    "stats": {
                                        "unique_count": 4,
                                        "nan_count": 0,
                                        "min": "12.0",
                                        "max": "26.0",
                                        "histogram": [
                                            {
                                                "bin_start": 12,
                                                "bin_end": 13.4,
                                                "count": 1
                                            },
                                            {
                                                "bin_start": 13.4,
                                                "bin_end": 14.8,
                                                "count": 0
                                            },
                                            {
                                                "bin_start": 14.8,
                                                "bin_end": 16.2,
                                                "count": 0
                                            },
                                            {
                                                "bin_start": 16.2,
                                                "bin_end": 17.6,
                                                "count": 0
                                            },
                                            {
                                                "bin_start": 17.6,
                                                "bin_end": 19,
                                                "count": 0
                                            },
                                            {
                                                "bin_start": 19,
                                                "bin_end": 20.4,
                                                "count": 2
                                            },
                                            {
                                                "bin_start": 20.4,
                                                "bin_end": 21.799999999999997,
                                                "count": 1
                                            },
                                            {
                                                "bin_start": 21.799999999999997,
                                                "bin_end": 23.2,
                                                "count": 0
                                            },
                                            {
                                                "bin_start": 23.2,
                                                "bin_end": 24.6,
                                                "count": 0
                                            },
                                            {
                                                "bin_start": 24.6,
                                                "bin_end": 26,
                                                "count": 1
                                            }
                                        ]
                                    }
                                },
                                {
                                    "name": "EtCO2",
                                    "dtype": "float64",
                                    "stats": {
                                        "unique_count": 1,
                                        "nan_count": 4,
                                        "min": "34.5",
                                        "max": "34.5",
                                        "histogram": [
                                            {
                                                "bin_start": 34,
                                                "bin_end": 34.1,
                                                "count": 0
                                            },
                                            {
                                                "bin_start": 34.1,
                                                "bin_end": 34.2,
                                                "count": 0
                                            },
                                            {
                                                "bin_start": 34.2,
                                                "bin_end": 34.3,
                                                "count": 0
                                            },
                                            {
                                                "bin_start": 34.3,
                                                "bin_end": 34.4,
                                                "count": 0
                                            },
                                            {
                                                "bin_start": 34.4,
                                                "bin_end": 34.5,
                                                "count": 0
                                            },
                                            {
                                                "bin_start": 34.5,
                                                "bin_end": 34.6,
                                                "count": 1
                                            },
                                            {
                                                "bin_start": 34.6,
                                                "bin_end": 34.7,
                                                "count": 0
                                            },
                                            {
                                                "bin_start": 34.7,
                                                "bin_end": 34.8,
                                                "count": 0
                                            },
                                            {
                                                "bin_start": 34.8,
                                                "bin_end": 34.9,
                                                "count": 0
                                            },
                                            {
                                                "bin_start": 34.9,
                                                "bin_end": 35,
                                                "count": 0
                                            }
                                        ]
                                    }
                                },
                                {
                                    "name": "BaseExcess",
                                    "dtype": "float64",
                                    "stats": {
                                        "unique_count": 0,
                                        "nan_count": 5,
                                        "min": null,
                                        "max": null,
                                        "histogram": [
                                            {
                                                "bin_start": 0,
                                                "bin_end": 0.1,
                                                "count": 0
                                            },
                                            {
                                                "bin_start": 0.1,
                                                "bin_end": 0.2,
                                                "count": 0
                                            },
                                            {
                                                "bin_start": 0.2,
                                                "bin_end": 0.30000000000000004,
                                                "count": 0
                                            },
                                            {
                                                "bin_start": 0.30000000000000004,
                                                "bin_end": 0.4,
                                                "count": 0
                                            },
                                            {
                                                "bin_start": 0.4,
                                                "bin_end": 0.5,
                                                "count": 0
                                            },
                                            {
                                                "bin_start": 0.5,
                                                "bin_end": 0.6000000000000001,
                                                "count": 0
                                            },
                                            {
                                                "bin_start": 0.6000000000000001,
                                                "bin_end": 0.7000000000000001,
                                                "count": 0
                                            },
                                            {
                                                "bin_start": 0.7000000000000001,
                                                "bin_end": 0.8,
                                                "count": 0
                                            },
                                            {
                                                "bin_start": 0.8,
                                                "bin_end": 0.9,
                                                "count": 0
                                            },
                                            {
                                                "bin_start": 0.9,
                                                "bin_end": 1,
                                                "count": 0
                                            }
                                        ]
                                    }
                                },
                                {
                                    "name": "HCO3",
                                    "dtype": "float64",
                                    "stats": {
                                        "unique_count": 0,
                                        "nan_count": 5,
                                        "min": null,
                                        "max": null,
                                        "histogram": [
                                            {
                                                "bin_start": 0,
                                                "bin_end": 0.1,
                                                "count": 0
                                            },
                                            {
                                                "bin_start": 0.1,
                                                "bin_end": 0.2,
                                                "count": 0
                                            },
                                            {
                                                "bin_start": 0.2,
                                                "bin_end": 0.30000000000000004,
                                                "count": 0
                                            },
                                            {
                                                "bin_start": 0.30000000000000004,
                                                "bin_end": 0.4,
                                                "count": 0
                                            },
                                            {
                                                "bin_start": 0.4,
                                                "bin_end": 0.5,
                                                "count": 0
                                            },
                                            {
                                                "bin_start": 0.5,
                                                "bin_end": 0.6000000000000001,
                                                "count": 0
                                            },
                                            {
                                                "bin_start": 0.6000000000000001,
                                                "bin_end": 0.7000000000000001,
                                                "count": 0
                                            },
                                            {
                                                "bin_start": 0.7000000000000001,
                                                "bin_end": 0.8,
                                                "count": 0
                                            },
                                            {
                                                "bin_start": 0.8,
                                                "bin_end": 0.9,
                                                "count": 0
                                            },
                                            {
                                                "bin_start": 0.9,
                                                "bin_end": 1,
                                                "count": 0
                                            }
                                        ]
                                    }
                                },
                                {
                                    "name": "FiO2",
                                    "dtype": "float64",
                                    "stats": {
                                        "unique_count": 0,
                                        "nan_count": 5,
                                        "min": null,
                                        "max": null,
                                        "histogram": [
                                            {
                                                "bin_start": 0,
                                                "bin_end": 0.1,
                                                "count": 0
                                            },
                                            {
                                                "bin_start": 0.1,
                                                "bin_end": 0.2,
                                                "count": 0
                                            },
                                            {
                                                "bin_start": 0.2,
                                                "bin_end": 0.30000000000000004,
                                                "count": 0
                                            },
                                            {
                                                "bin_start": 0.30000000000000004,
                                                "bin_end": 0.4,
                                                "count": 0
                                            },
                                            {
                                                "bin_start": 0.4,
                                                "bin_end": 0.5,
                                                "count": 0
                                            },
                                            {
                                                "bin_start": 0.5,
                                                "bin_end": 0.6000000000000001,
                                                "count": 0
                                            },
                                            {
                                                "bin_start": 0.6000000000000001,
                                                "bin_end": 0.7000000000000001,
                                                "count": 0
                                            },
                                            {
                                                "bin_start": 0.7000000000000001,
                                                "bin_end": 0.8,
                                                "count": 0
                                            },
                                            {
                                                "bin_start": 0.8,
                                                "bin_end": 0.9,
                                                "count": 0
                                            },
                                            {
                                                "bin_start": 0.9,
                                                "bin_end": 1,
                                                "count": 0
                                            }
                                        ]
                                    }
                                },
                                {
                                    "name": "pH",
                                    "dtype": "float64",
                                    "stats": {
                                        "unique_count": 0,
                                        "nan_count": 5,
                                        "min": null,
                                        "max": null,
                                        "histogram": [
                                            {
                                                "bin_start": 0,
                                                "bin_end": 0.1,
                                                "count": 0
                                            },
                                            {
                                                "bin_start": 0.1,
                                                "bin_end": 0.2,
                                                "count": 0
                                            },
                                            {
                                                "bin_start": 0.2,
                                                "bin_end": 0.30000000000000004,
                                                "count": 0
                                            },
                                            {
                                                "bin_start": 0.30000000000000004,
                                                "bin_end": 0.4,
                                                "count": 0
                                            },
                                            {
                                                "bin_start": 0.4,
                                                "bin_end": 0.5,
                                                "count": 0
                                            },
                                            {
                                                "bin_start": 0.5,
                                                "bin_end": 0.6000000000000001,
                                                "count": 0
                                            },
                                            {
                                                "bin_start": 0.6000000000000001,
                                                "bin_end": 0.7000000000000001,
                                                "count": 0
                                            },
                                            {
                                                "bin_start": 0.7000000000000001,
                                                "bin_end": 0.8,
                                                "count": 0
                                            },
                                            {
                                                "bin_start": 0.8,
                                                "bin_end": 0.9,
                                                "count": 0
                                            },
                                            {
                                                "bin_start": 0.9,
                                                "bin_end": 1,
                                                "count": 0
                                            }
                                        ]
                                    }
                                },
                                {
                                    "name": "PaCO2",
                                    "dtype": "float64",
                                    "stats": {
                                        "unique_count": 0,
                                        "nan_count": 5,
                                        "min": null,
                                        "max": null,
                                        "histogram": [
                                            {
                                                "bin_start": 0,
                                                "bin_end": 0.1,
                                                "count": 0
                                            },
                                            {
                                                "bin_start": 0.1,
                                                "bin_end": 0.2,
                                                "count": 0
                                            },
                                            {
                                                "bin_start": 0.2,
                                                "bin_end": 0.30000000000000004,
                                                "count": 0
                                            },
                                            {
                                                "bin_start": 0.30000000000000004,
                                                "bin_end": 0.4,
                                                "count": 0
                                            },
                                            {
                                                "bin_start": 0.4,
                                                "bin_end": 0.5,
                                                "count": 0
                                            },
                                            {
                                                "bin_start": 0.5,
                                                "bin_end": 0.6000000000000001,
                                                "count": 0
                                            },
                                            {
                                                "bin_start": 0.6000000000000001,
                                                "bin_end": 0.7000000000000001,
                                                "count": 0
                                            },
                                            {
                                                "bin_start": 0.7000000000000001,
                                                "bin_end": 0.8,
                                                "count": 0
                                            },
                                            {
                                                "bin_start": 0.8,
                                                "bin_end": 0.9,
                                                "count": 0
                                            },
                                            {
                                                "bin_start": 0.9,
                                                "bin_end": 1,
                                                "count": 0
                                            }
                                        ]
                                    }
                                },
                                {
                                    "name": "SaO2",
                                    "dtype": "float64",
                                    "stats": {
                                        "unique_count": 0,
                                        "nan_count": 5,
                                        "min": null,
                                        "max": null,
                                        "histogram": [
                                            {
                                                "bin_start": 0,
                                                "bin_end": 0.1,
                                                "count": 0
                                            },
                                            {
                                                "bin_start": 0.1,
                                                "bin_end": 0.2,
                                                "count": 0
                                            },
                                            {
                                                "bin_start": 0.2,
                                                "bin_end": 0.30000000000000004,
                                                "count": 0
                                            },
                                            {
                                                "bin_start": 0.30000000000000004,
                                                "bin_end": 0.4,
                                                "count": 0
                                            },
                                            {
                                                "bin_start": 0.4,
                                                "bin_end": 0.5,
                                                "count": 0
                                            },
                                            {
                                                "bin_start": 0.5,
                                                "bin_end": 0.6000000000000001,
                                                "count": 0
                                            },
                                            {
                                                "bin_start": 0.6000000000000001,
                                                "bin_end": 0.7000000000000001,
                                                "count": 0
                                            },
                                            {
                                                "bin_start": 0.7000000000000001,
                                                "bin_end": 0.8,
                                                "count": 0
                                            },
                                            {
                                                "bin_start": 0.8,
                                                "bin_end": 0.9,
                                                "count": 0
                                            },
                                            {
                                                "bin_start": 0.9,
                                                "bin_end": 1,
                                                "count": 0
                                            }
                                        ]
                                    }
                                },
                                {
                                    "name": "AST",
                                    "dtype": "float64",
                                    "stats": {
                                        "unique_count": 0,
                                        "nan_count": 5,
                                        "min": null,
                                        "max": null,
                                        "histogram": [
                                            {
                                                "bin_start": 0,
                                                "bin_end": 0.1,
                                                "count": 0
                                            },
                                            {
                                                "bin_start": 0.1,
                                                "bin_end": 0.2,
                                                "count": 0
                                            },
                                            {
                                                "bin_start": 0.2,
                                                "bin_end": 0.30000000000000004,
                                                "count": 0
                                            },
                                            {
                                                "bin_start": 0.30000000000000004,
                                                "bin_end": 0.4,
                                                "count": 0
                                            },
                                            {
                                                "bin_start": 0.4,
                                                "bin_end": 0.5,
                                                "count": 0
                                            },
                                            {
                                                "bin_start": 0.5,
                                                "bin_end": 0.6000000000000001,
                                                "count": 0
                                            },
                                            {
                                                "bin_start": 0.6000000000000001,
                                                "bin_end": 0.7000000000000001,
                                                "count": 0
                                            },
                                            {
                                                "bin_start": 0.7000000000000001,
                                                "bin_end": 0.8,
                                                "count": 0
                                            },
                                            {
                                                "bin_start": 0.8,
                                                "bin_end": 0.9,
                                                "count": 0
                                            },
                                            {
                                                "bin_start": 0.9,
                                                "bin_end": 1,
                                                "count": 0
                                            }
                                        ]
                                    }
                                },
                                {
                                    "name": "BUN",
                                    "dtype": "float64",
                                    "stats": {
                                        "unique_count": 0,
                                        "nan_count": 5,
                                        "min": null,
                                        "max": null,
                                        "histogram": [
                                            {
                                                "bin_start": 0,
                                                "bin_end": 0.1,
                                                "count": 0
                                            },
                                            {
                                                "bin_start": 0.1,
                                                "bin_end": 0.2,
                                                "count": 0
                                            },
                                            {
                                                "bin_start": 0.2,
                                                "bin_end": 0.30000000000000004,
                                                "count": 0
                                            },
                                            {
                                                "bin_start": 0.30000000000000004,
                                                "bin_end": 0.4,
                                                "count": 0
                                            },
                                            {
                                                "bin_start": 0.4,
                                                "bin_end": 0.5,
                                                "count": 0
                                            },
                                            {
                                                "bin_start": 0.5,
                                                "bin_end": 0.6000000000000001,
                                                "count": 0
                                            },
                                            {
                                                "bin_start": 0.6000000000000001,
                                                "bin_end": 0.7000000000000001,
                                                "count": 0
                                            },
                                            {
                                                "bin_start": 0.7000000000000001,
                                                "bin_end": 0.8,
                                                "count": 0
                                            },
                                            {
                                                "bin_start": 0.8,
                                                "bin_end": 0.9,
                                                "count": 0
                                            },
                                            {
                                                "bin_start": 0.9,
                                                "bin_end": 1,
                                                "count": 0
                                            }
                                        ]
                                    }
                                },
                                {
                                    "name": "Alkalinephos",
                                    "dtype": "float64",
                                    "stats": {
                                        "unique_count": 0,
                                        "nan_count": 5,
                                        "min": null,
                                        "max": null,
                                        "histogram": [
                                            {
                                                "bin_start": 0,
                                                "bin_end": 0.1,
                                                "count": 0
                                            },
                                            {
                                                "bin_start": 0.1,
                                                "bin_end": 0.2,
                                                "count": 0
                                            },
                                            {
                                                "bin_start": 0.2,
                                                "bin_end": 0.30000000000000004,
                                                "count": 0
                                            },
                                            {
                                                "bin_start": 0.30000000000000004,
                                                "bin_end": 0.4,
                                                "count": 0
                                            },
                                            {
                                                "bin_start": 0.4,
                                                "bin_end": 0.5,
                                                "count": 0
                                            },
                                            {
                                                "bin_start": 0.5,
                                                "bin_end": 0.6000000000000001,
                                                "count": 0
                                            },
                                            {
                                                "bin_start": 0.6000000000000001,
                                                "bin_end": 0.7000000000000001,
                                                "count": 0
                                            },
                                            {
                                                "bin_start": 0.7000000000000001,
                                                "bin_end": 0.8,
                                                "count": 0
                                            },
                                            {
                                                "bin_start": 0.8,
                                                "bin_end": 0.9,
                                                "count": 0
                                            },
                                            {
                                                "bin_start": 0.9,
                                                "bin_end": 1,
                                                "count": 0
                                            }
                                        ]
                                    }
                                },
                                {
                                    "name": "Calcium",
                                    "dtype": "float64",
                                    "stats": {
                                        "unique_count": 0,
                                        "nan_count": 5,
                                        "min": null,
                                        "max": null,
                                        "histogram": [
                                            {
                                                "bin_start": 0,
                                                "bin_end": 0.1,
                                                "count": 0
                                            },
                                            {
                                                "bin_start": 0.1,
                                                "bin_end": 0.2,
                                                "count": 0
                                            },
                                            {
                                                "bin_start": 0.2,
                                                "bin_end": 0.30000000000000004,
                                                "count": 0
                                            },
                                            {
                                                "bin_start": 0.30000000000000004,
                                                "bin_end": 0.4,
                                                "count": 0
                                            },
                                            {
                                                "bin_start": 0.4,
                                                "bin_end": 0.5,
                                                "count": 0
                                            },
                                            {
                                                "bin_start": 0.5,
                                                "bin_end": 0.6000000000000001,
                                                "count": 0
                                            },
                                            {
                                                "bin_start": 0.6000000000000001,
                                                "bin_end": 0.7000000000000001,
                                                "count": 0
                                            },
                                            {
                                                "bin_start": 0.7000000000000001,
                                                "bin_end": 0.8,
                                                "count": 0
                                            },
                                            {
                                                "bin_start": 0.8,
                                                "bin_end": 0.9,
                                                "count": 0
                                            },
                                            {
                                                "bin_start": 0.9,
                                                "bin_end": 1,
                                                "count": 0
                                            }
                                        ]
                                    }
                                },
                                {
                                    "name": "Chloride",
                                    "dtype": "float64",
                                    "stats": {
                                        "unique_count": 0,
                                        "nan_count": 5,
                                        "min": null,
                                        "max": null,
                                        "histogram": [
                                            {
                                                "bin_start": 0,
                                                "bin_end": 0.1,
                                                "count": 0
                                            },
                                            {
                                                "bin_start": 0.1,
                                                "bin_end": 0.2,
                                                "count": 0
                                            },
                                            {
                                                "bin_start": 0.2,
                                                "bin_end": 0.30000000000000004,
                                                "count": 0
                                            },
                                            {
                                                "bin_start": 0.30000000000000004,
                                                "bin_end": 0.4,
                                                "count": 0
                                            },
                                            {
                                                "bin_start": 0.4,
                                                "bin_end": 0.5,
                                                "count": 0
                                            },
                                            {
                                                "bin_start": 0.5,
                                                "bin_end": 0.6000000000000001,
                                                "count": 0
                                            },
                                            {
                                                "bin_start": 0.6000000000000001,
                                                "bin_end": 0.7000000000000001,
                                                "count": 0
                                            },
                                            {
                                                "bin_start": 0.7000000000000001,
                                                "bin_end": 0.8,
                                                "count": 0
                                            },
                                            {
                                                "bin_start": 0.8,
                                                "bin_end": 0.9,
                                                "count": 0
                                            },
                                            {
                                                "bin_start": 0.9,
                                                "bin_end": 1,
                                                "count": 0
                                            }
                                        ]
                                    }
                                },
                                {
                                    "name": "Creatinine",
                                    "dtype": "float64",
                                    "stats": {
                                        "unique_count": 0,
                                        "nan_count": 5,
                                        "min": null,
                                        "max": null,
                                        "histogram": [
                                            {
                                                "bin_start": 0,
                                                "bin_end": 0.1,
                                                "count": 0
                                            },
                                            {
                                                "bin_start": 0.1,
                                                "bin_end": 0.2,
                                                "count": 0
                                            },
                                            {
                                                "bin_start": 0.2,
                                                "bin_end": 0.30000000000000004,
                                                "count": 0
                                            },
                                            {
                                                "bin_start": 0.30000000000000004,
                                                "bin_end": 0.4,
                                                "count": 0
                                            },
                                            {
                                                "bin_start": 0.4,
                                                "bin_end": 0.5,
                                                "count": 0
                                            },
                                            {
                                                "bin_start": 0.5,
                                                "bin_end": 0.6000000000000001,
                                                "count": 0
                                            },
                                            {
                                                "bin_start": 0.6000000000000001,
                                                "bin_end": 0.7000000000000001,
                                                "count": 0
                                            },
                                            {
                                                "bin_start": 0.7000000000000001,
                                                "bin_end": 0.8,
                                                "count": 0
                                            },
                                            {
                                                "bin_start": 0.8,
                                                "bin_end": 0.9,
                                                "count": 0
                                            },
                                            {
                                                "bin_start": 0.9,
                                                "bin_end": 1,
                                                "count": 0
                                            }
                                        ]
                                    }
                                },
                                {
                                    "name": "Bilirubin_direct",
                                    "dtype": "float64",
                                    "stats": {
                                        "unique_count": 0,
                                        "nan_count": 5,
                                        "min": null,
                                        "max": null,
                                        "histogram": [
                                            {
                                                "bin_start": 0,
                                                "bin_end": 0.1,
                                                "count": 0
                                            },
                                            {
                                                "bin_start": 0.1,
                                                "bin_end": 0.2,
                                                "count": 0
                                            },
                                            {
                                                "bin_start": 0.2,
                                                "bin_end": 0.30000000000000004,
                                                "count": 0
                                            },
                                            {
                                                "bin_start": 0.30000000000000004,
                                                "bin_end": 0.4,
                                                "count": 0
                                            },
                                            {
                                                "bin_start": 0.4,
                                                "bin_end": 0.5,
                                                "count": 0
                                            },
                                            {
                                                "bin_start": 0.5,
                                                "bin_end": 0.6000000000000001,
                                                "count": 0
                                            },
                                            {
                                                "bin_start": 0.6000000000000001,
                                                "bin_end": 0.7000000000000001,
                                                "count": 0
                                            },
                                            {
                                                "bin_start": 0.7000000000000001,
                                                "bin_end": 0.8,
                                                "count": 0
                                            },
                                            {
                                                "bin_start": 0.8,
                                                "bin_end": 0.9,
                                                "count": 0
                                            },
                                            {
                                                "bin_start": 0.9,
                                                "bin_end": 1,
                                                "count": 0
                                            }
                                        ]
                                    }
                                },
                                {
                                    "name": "Glucose",
                                    "dtype": "float64",
                                    "stats": {
                                        "unique_count": 0,
                                        "nan_count": 5,
                                        "min": null,
                                        "max": null,
                                        "histogram": [
                                            {
                                                "bin_start": 0,
                                                "bin_end": 0.1,
                                                "count": 0
                                            },
                                            {
                                                "bin_start": 0.1,
                                                "bin_end": 0.2,
                                                "count": 0
                                            },
                                            {
                                                "bin_start": 0.2,
                                                "bin_end": 0.30000000000000004,
                                                "count": 0
                                            },
                                            {
                                                "bin_start": 0.30000000000000004,
                                                "bin_end": 0.4,
                                                "count": 0
                                            },
                                            {
                                                "bin_start": 0.4,
                                                "bin_end": 0.5,
                                                "count": 0
                                            },
                                            {
                                                "bin_start": 0.5,
                                                "bin_end": 0.6000000000000001,
                                                "count": 0
                                            },
                                            {
                                                "bin_start": 0.6000000000000001,
                                                "bin_end": 0.7000000000000001,
                                                "count": 0
                                            },
                                            {
                                                "bin_start": 0.7000000000000001,
                                                "bin_end": 0.8,
                                                "count": 0
                                            },
                                            {
                                                "bin_start": 0.8,
                                                "bin_end": 0.9,
                                                "count": 0
                                            },
                                            {
                                                "bin_start": 0.9,
                                                "bin_end": 1,
                                                "count": 0
                                            }
                                        ]
                                    }
                                },
                                {
                                    "name": "Lactate",
                                    "dtype": "float64",
                                    "stats": {
                                        "unique_count": 0,
                                        "nan_count": 5,
                                        "min": null,
                                        "max": null,
                                        "histogram": [
                                            {
                                                "bin_start": 0,
                                                "bin_end": 0.1,
                                                "count": 0
                                            },
                                            {
                                                "bin_start": 0.1,
                                                "bin_end": 0.2,
                                                "count": 0
                                            },
                                            {
                                                "bin_start": 0.2,
                                                "bin_end": 0.30000000000000004,
                                                "count": 0
                                            },
                                            {
                                                "bin_start": 0.30000000000000004,
                                                "bin_end": 0.4,
                                                "count": 0
                                            },
                                            {
                                                "bin_start": 0.4,
                                                "bin_end": 0.5,
                                                "count": 0
                                            },
                                            {
                                                "bin_start": 0.5,
                                                "bin_end": 0.6000000000000001,
                                                "count": 0
                                            },
                                            {
                                                "bin_start": 0.6000000000000001,
                                                "bin_end": 0.7000000000000001,
                                                "count": 0
                                            },
                                            {
                                                "bin_start": 0.7000000000000001,
                                                "bin_end": 0.8,
                                                "count": 0
                                            },
                                            {
                                                "bin_start": 0.8,
                                                "bin_end": 0.9,
                                                "count": 0
                                            },
                                            {
                                                "bin_start": 0.9,
                                                "bin_end": 1,
                                                "count": 0
                                            }
                                        ]
                                    }
                                },
                                {
                                    "name": "Magnesium",
                                    "dtype": "float64",
                                    "stats": {
                                        "unique_count": 0,
                                        "nan_count": 5,
                                        "min": null,
                                        "max": null,
                                        "histogram": [
                                            {
                                                "bin_start": 0,
                                                "bin_end": 0.1,
                                                "count": 0
                                            },
                                            {
                                                "bin_start": 0.1,
                                                "bin_end": 0.2,
                                                "count": 0
                                            },
                                            {
                                                "bin_start": 0.2,
                                                "bin_end": 0.30000000000000004,
                                                "count": 0
                                            },
                                            {
                                                "bin_start": 0.30000000000000004,
                                                "bin_end": 0.4,
                                                "count": 0
                                            },
                                            {
                                                "bin_start": 0.4,
                                                "bin_end": 0.5,
                                                "count": 0
                                            },
                                            {
                                                "bin_start": 0.5,
                                                "bin_end": 0.6000000000000001,
                                                "count": 0
                                            },
                                            {
                                                "bin_start": 0.6000000000000001,
                                                "bin_end": 0.7000000000000001,
                                                "count": 0
                                            },
                                            {
                                                "bin_start": 0.7000000000000001,
                                                "bin_end": 0.8,
                                                "count": 0
                                            },
                                            {
                                                "bin_start": 0.8,
                                                "bin_end": 0.9,
                                                "count": 0
                                            },
                                            {
                                                "bin_start": 0.9,
                                                "bin_end": 1,
                                                "count": 0
                                            }
                                        ]
                                    }
                                },
                                {
                                    "name": "Phosphate",
                                    "dtype": "float64",
                                    "stats": {
                                        "unique_count": 0,
                                        "nan_count": 5,
                                        "min": null,
                                        "max": null,
                                        "histogram": [
                                            {
                                                "bin_start": 0,
                                                "bin_end": 0.1,
                                                "count": 0
                                            },
                                            {
                                                "bin_start": 0.1,
                                                "bin_end": 0.2,
                                                "count": 0
                                            },
                                            {
                                                "bin_start": 0.2,
                                                "bin_end": 0.30000000000000004,
                                                "count": 0
                                            },
                                            {
                                                "bin_start": 0.30000000000000004,
                                                "bin_end": 0.4,
                                                "count": 0
                                            },
                                            {
                                                "bin_start": 0.4,
                                                "bin_end": 0.5,
                                                "count": 0
                                            },
                                            {
                                                "bin_start": 0.5,
                                                "bin_end": 0.6000000000000001,
                                                "count": 0
                                            },
                                            {
                                                "bin_start": 0.6000000000000001,
                                                "bin_end": 0.7000000000000001,
                                                "count": 0
                                            },
                                            {
                                                "bin_start": 0.7000000000000001,
                                                "bin_end": 0.8,
                                                "count": 0
                                            },
                                            {
                                                "bin_start": 0.8,
                                                "bin_end": 0.9,
                                                "count": 0
                                            },
                                            {
                                                "bin_start": 0.9,
                                                "bin_end": 1,
                                                "count": 0
                                            }
                                        ]
                                    }
                                },
                                {
                                    "name": "Potassium",
                                    "dtype": "float64",
                                    "stats": {
                                        "unique_count": 0,
                                        "nan_count": 5,
                                        "min": null,
                                        "max": null,
                                        "histogram": [
                                            {
                                                "bin_start": 0,
                                                "bin_end": 0.1,
                                                "count": 0
                                            },
                                            {
                                                "bin_start": 0.1,
                                                "bin_end": 0.2,
                                                "count": 0
                                            },
                                            {
                                                "bin_start": 0.2,
                                                "bin_end": 0.30000000000000004,
                                                "count": 0
                                            },
                                            {
                                                "bin_start": 0.30000000000000004,
                                                "bin_end": 0.4,
                                                "count": 0
                                            },
                                            {
                                                "bin_start": 0.4,
                                                "bin_end": 0.5,
                                                "count": 0
                                            },
                                            {
                                                "bin_start": 0.5,
                                                "bin_end": 0.6000000000000001,
                                                "count": 0
                                            },
                                            {
                                                "bin_start": 0.6000000000000001,
                                                "bin_end": 0.7000000000000001,
                                                "count": 0
                                            },
                                            {
                                                "bin_start": 0.7000000000000001,
                                                "bin_end": 0.8,
                                                "count": 0
                                            },
                                            {
                                                "bin_start": 0.8,
                                                "bin_end": 0.9,
                                                "count": 0
                                            },
                                            {
                                                "bin_start": 0.9,
                                                "bin_end": 1,
                                                "count": 0
                                            }
                                        ]
                                    }
                                },
                                {
                                    "name": "Bilirubin_total",
                                    "dtype": "float64",
                                    "stats": {
                                        "unique_count": 0,
                                        "nan_count": 5,
                                        "min": null,
                                        "max": null,
                                        "histogram": [
                                            {
                                                "bin_start": 0,
                                                "bin_end": 0.1,
                                                "count": 0
                                            },
                                            {
                                                "bin_start": 0.1,
                                                "bin_end": 0.2,
                                                "count": 0
                                            },
                                            {
                                                "bin_start": 0.2,
                                                "bin_end": 0.30000000000000004,
                                                "count": 0
                                            },
                                            {
                                                "bin_start": 0.30000000000000004,
                                                "bin_end": 0.4,
                                                "count": 0
                                            },
                                            {
                                                "bin_start": 0.4,
                                                "bin_end": 0.5,
                                                "count": 0
                                            },
                                            {
                                                "bin_start": 0.5,
                                                "bin_end": 0.6000000000000001,
                                                "count": 0
                                            },
                                            {
                                                "bin_start": 0.6000000000000001,
                                                "bin_end": 0.7000000000000001,
                                                "count": 0
                                            },
                                            {
                                                "bin_start": 0.7000000000000001,
                                                "bin_end": 0.8,
                                                "count": 0
                                            },
                                            {
                                                "bin_start": 0.8,
                                                "bin_end": 0.9,
                                                "count": 0
                                            },
                                            {
                                                "bin_start": 0.9,
                                                "bin_end": 1,
                                                "count": 0
                                            }
                                        ]
                                    }
                                },
                                {
                                    "name": "TroponinI",
                                    "dtype": "float64",
                                    "stats": {
                                        "unique_count": 0,
                                        "nan_count": 5,
                                        "min": null,
                                        "max": null,
                                        "histogram": [
                                            {
                                                "bin_start": 0,
                                                "bin_end": 0.1,
                                                "count": 0
                                            },
                                            {
                                                "bin_start": 0.1,
                                                "bin_end": 0.2,
                                                "count": 0
                                            },
                                            {
                                                "bin_start": 0.2,
                                                "bin_end": 0.30000000000000004,
                                                "count": 0
                                            },
                                            {
                                                "bin_start": 0.30000000000000004,
                                                "bin_end": 0.4,
                                                "count": 0
                                            },
                                            {
                                                "bin_start": 0.4,
                                                "bin_end": 0.5,
                                                "count": 0
                                            },
                                            {
                                                "bin_start": 0.5,
                                                "bin_end": 0.6000000000000001,
                                                "count": 0
                                            },
                                            {
                                                "bin_start": 0.6000000000000001,
                                                "bin_end": 0.7000000000000001,
                                                "count": 0
                                            },
                                            {
                                                "bin_start": 0.7000000000000001,
                                                "bin_end": 0.8,
                                                "count": 0
                                            },
                                            {
                                                "bin_start": 0.8,
                                                "bin_end": 0.9,
                                                "count": 0
                                            },
                                            {
                                                "bin_start": 0.9,
                                                "bin_end": 1,
                                                "count": 0
                                            }
                                        ]
                                    }
                                },
                                {
                                    "name": "Hct",
                                    "dtype": "float64",
                                    "stats": {
                                        "unique_count": 0,
                                        "nan_count": 5,
                                        "min": null,
                                        "max": null,
                                        "histogram": [
                                            {
                                                "bin_start": 0,
                                                "bin_end": 0.1,
                                                "count": 0
                                            },
                                            {
                                                "bin_start": 0.1,
                                                "bin_end": 0.2,
                                                "count": 0
                                            },
                                            {
                                                "bin_start": 0.2,
                                                "bin_end": 0.30000000000000004,
                                                "count": 0
                                            },
                                            {
                                                "bin_start": 0.30000000000000004,
                                                "bin_end": 0.4,
                                                "count": 0
                                            },
                                            {
                                                "bin_start": 0.4,
                                                "bin_end": 0.5,
                                                "count": 0
                                            },
                                            {
                                                "bin_start": 0.5,
                                                "bin_end": 0.6000000000000001,
                                                "count": 0
                                            },
                                            {
                                                "bin_start": 0.6000000000000001,
                                                "bin_end": 0.7000000000000001,
                                                "count": 0
                                            },
                                            {
                                                "bin_start": 0.7000000000000001,
                                                "bin_end": 0.8,
                                                "count": 0
                                            },
                                            {
                                                "bin_start": 0.8,
                                                "bin_end": 0.9,
                                                "count": 0
                                            },
                                            {
                                                "bin_start": 0.9,
                                                "bin_end": 1,
                                                "count": 0
                                            }
                                        ]
                                    }
                                },
                                {
                                    "name": "Hgb",
                                    "dtype": "float64",
                                    "stats": {
                                        "unique_count": 0,
                                        "nan_count": 5,
                                        "min": null,
                                        "max": null,
                                        "histogram": [
                                            {
                                                "bin_start": 0,
                                                "bin_end": 0.1,
                                                "count": 0
                                            },
                                            {
                                                "bin_start": 0.1,
                                                "bin_end": 0.2,
                                                "count": 0
                                            },
                                            {
                                                "bin_start": 0.2,
                                                "bin_end": 0.30000000000000004,
                                                "count": 0
                                            },
                                            {
                                                "bin_start": 0.30000000000000004,
                                                "bin_end": 0.4,
                                                "count": 0
                                            },
                                            {
                                                "bin_start": 0.4,
                                                "bin_end": 0.5,
                                                "count": 0
                                            },
                                            {
                                                "bin_start": 0.5,
                                                "bin_end": 0.6000000000000001,
                                                "count": 0
                                            },
                                            {
                                                "bin_start": 0.6000000000000001,
                                                "bin_end": 0.7000000000000001,
                                                "count": 0
                                            },
                                            {
                                                "bin_start": 0.7000000000000001,
                                                "bin_end": 0.8,
                                                "count": 0
                                            },
                                            {
                                                "bin_start": 0.8,
                                                "bin_end": 0.9,
                                                "count": 0
                                            },
                                            {
                                                "bin_start": 0.9,
                                                "bin_end": 1,
                                                "count": 0
                                            }
                                        ]
                                    }
                                },
                                {
                                    "name": "PTT",
                                    "dtype": "float64",
                                    "stats": {
                                        "unique_count": 0,
                                        "nan_count": 5,
                                        "min": null,
                                        "max": null,
                                        "histogram": [
                                            {
                                                "bin_start": 0,
                                                "bin_end": 0.1,
                                                "count": 0
                                            },
                                            {
                                                "bin_start": 0.1,
                                                "bin_end": 0.2,
                                                "count": 0
                                            },
                                            {
                                                "bin_start": 0.2,
                                                "bin_end": 0.30000000000000004,
                                                "count": 0
                                            },
                                            {
                                                "bin_start": 0.30000000000000004,
                                                "bin_end": 0.4,
                                                "count": 0
                                            },
                                            {
                                                "bin_start": 0.4,
                                                "bin_end": 0.5,
                                                "count": 0
                                            },
                                            {
                                                "bin_start": 0.5,
                                                "bin_end": 0.6000000000000001,
                                                "count": 0
                                            },
                                            {
                                                "bin_start": 0.6000000000000001,
                                                "bin_end": 0.7000000000000001,
                                                "count": 0
                                            },
                                            {
                                                "bin_start": 0.7000000000000001,
                                                "bin_end": 0.8,
                                                "count": 0
                                            },
                                            {
                                                "bin_start": 0.8,
                                                "bin_end": 0.9,
                                                "count": 0
                                            },
                                            {
                                                "bin_start": 0.9,
                                                "bin_end": 1,
                                                "count": 0
                                            }
                                        ]
                                    }
                                },
                                {
                                    "name": "WBC",
                                    "dtype": "float64",
                                    "stats": {
                                        "unique_count": 0,
                                        "nan_count": 5,
                                        "min": null,
                                        "max": null,
                                        "histogram": [
                                            {
                                                "bin_start": 0,
                                                "bin_end": 0.1,
                                                "count": 0
                                            },
                                            {
                                                "bin_start": 0.1,
                                                "bin_end": 0.2,
                                                "count": 0
                                            },
                                            {
                                                "bin_start": 0.2,
                                                "bin_end": 0.30000000000000004,
                                                "count": 0
                                            },
                                            {
                                                "bin_start": 0.30000000000000004,
                                                "bin_end": 0.4,
                                                "count": 0
                                            },
                                            {
                                                "bin_start": 0.4,
                                                "bin_end": 0.5,
                                                "count": 0
                                            },
                                            {
                                                "bin_start": 0.5,
                                                "bin_end": 0.6000000000000001,
                                                "count": 0
                                            },
                                            {
                                                "bin_start": 0.6000000000000001,
                                                "bin_end": 0.7000000000000001,
                                                "count": 0
                                            },
                                            {
                                                "bin_start": 0.7000000000000001,
                                                "bin_end": 0.8,
                                                "count": 0
                                            },
                                            {
                                                "bin_start": 0.8,
                                                "bin_end": 0.9,
                                                "count": 0
                                            },
                                            {
                                                "bin_start": 0.9,
                                                "bin_end": 1,
                                                "count": 0
                                            }
                                        ]
                                    }
                                },
                                {
                                    "name": "Fibrinogen",
                                    "dtype": "float64",
                                    "stats": {
                                        "unique_count": 0,
                                        "nan_count": 5,
                                        "min": null,
                                        "max": null,
                                        "histogram": [
                                            {
                                                "bin_start": 0,
                                                "bin_end": 0.1,
                                                "count": 0
                                            },
                                            {
                                                "bin_start": 0.1,
                                                "bin_end": 0.2,
                                                "count": 0
                                            },
                                            {
                                                "bin_start": 0.2,
                                                "bin_end": 0.30000000000000004,
                                                "count": 0
                                            },
                                            {
                                                "bin_start": 0.30000000000000004,
                                                "bin_end": 0.4,
                                                "count": 0
                                            },
                                            {
                                                "bin_start": 0.4,
                                                "bin_end": 0.5,
                                                "count": 0
                                            },
                                            {
                                                "bin_start": 0.5,
                                                "bin_end": 0.6000000000000001,
                                                "count": 0
                                            },
                                            {
                                                "bin_start": 0.6000000000000001,
                                                "bin_end": 0.7000000000000001,
                                                "count": 0
                                            },
                                            {
                                                "bin_start": 0.7000000000000001,
                                                "bin_end": 0.8,
                                                "count": 0
                                            },
                                            {
                                                "bin_start": 0.8,
                                                "bin_end": 0.9,
                                                "count": 0
                                            },
                                            {
                                                "bin_start": 0.9,
                                                "bin_end": 1,
                                                "count": 0
                                            }
                                        ]
                                    }
                                },
                                {
                                    "name": "Platelets",
                                    "dtype": "float64",
                                    "stats": {
                                        "unique_count": 0,
                                        "nan_count": 5,
                                        "min": null,
                                        "max": null,
                                        "histogram": [
                                            {
                                                "bin_start": 0,
                                                "bin_end": 0.1,
                                                "count": 0
                                            },
                                            {
                                                "bin_start": 0.1,
                                                "bin_end": 0.2,
                                                "count": 0
                                            },
                                            {
                                                "bin_start": 0.2,
                                                "bin_end": 0.30000000000000004,
                                                "count": 0
                                            },
                                            {
                                                "bin_start": 0.30000000000000004,
                                                "bin_end": 0.4,
                                                "count": 0
                                            },
                                            {
                                                "bin_start": 0.4,
                                                "bin_end": 0.5,
                                                "count": 0
                                            },
                                            {
                                                "bin_start": 0.5,
                                                "bin_end": 0.6000000000000001,
                                                "count": 0
                                            },
                                            {
                                                "bin_start": 0.6000000000000001,
                                                "bin_end": 0.7000000000000001,
                                                "count": 0
                                            },
                                            {
                                                "bin_start": 0.7000000000000001,
                                                "bin_end": 0.8,
                                                "count": 0
                                            },
                                            {
                                                "bin_start": 0.8,
                                                "bin_end": 0.9,
                                                "count": 0
                                            },
                                            {
                                                "bin_start": 0.9,
                                                "bin_end": 1,
                                                "count": 0
                                            }
                                        ]
                                    }
                                },
                                {
                                    "name": "Age",
                                    "dtype": "float64",
                                    "stats": {
                                        "unique_count": 5,
                                        "nan_count": 0,
                                        "min": "55.0",
                                        "max": "75.0",
                                        "histogram": [
                                            {
                                                "bin_start": 55,
                                                "bin_end": 57,
                                                "count": 1
                                            },
                                            {
                                                "bin_start": 57,
                                                "bin_end": 59,
                                                "count": 0
                                            },
                                            {
                                                "bin_start": 59,
                                                "bin_end": 61,
                                                "count": 0
                                            },
                                            {
                                                "bin_start": 61,
                                                "bin_end": 63,
                                                "count": 0
                                            },
                                            {
                                                "bin_start": 63,
                                                "bin_end": 65,
                                                "count": 0
                                            },
                                            {
                                                "bin_start": 65,
                                                "bin_end": 67,
                                                "count": 1
                                            },
                                            {
                                                "bin_start": 67,
                                                "bin_end": 69,
                                                "count": 1
                                            },
                                            {
                                                "bin_start": 69,
                                                "bin_end": 71,
                                                "count": 0
                                            },
                                            {
                                                "bin_start": 71,
                                                "bin_end": 73,
                                                "count": 1
                                            },
                                            {
                                                "bin_start": 73,
                                                "bin_end": 75,
                                                "count": 1
                                            }
                                        ]
                                    }
                                },
                                {
                                    "name": "Gender",
                                    "dtype": "int64",
                                    "stats": {
                                        "unique_count": 2,
                                        "nan_count": 0,
                                        "min": "0",
                                        "max": "1",
                                        "histogram": [
                                            {
                                                "bin_start": 0,
                                                "bin_end": 0.1,
                                                "count": 2
                                            },
                                            {
                                                "bin_start": 0.1,
                                                "bin_end": 0.2,
                                                "count": 0
                                            },
                                            {
                                                "bin_start": 0.2,
                                                "bin_end": 0.30000000000000004,
                                                "count": 0
                                            },
                                            {
                                                "bin_start": 0.30000000000000004,
                                                "bin_end": 0.4,
                                                "count": 0
                                            },
                                            {
                                                "bin_start": 0.4,
                                                "bin_end": 0.5,
                                                "count": 0
                                            },
                                            {
                                                "bin_start": 0.5,
                                                "bin_end": 0.6000000000000001,
                                                "count": 0
                                            },
                                            {
                                                "bin_start": 0.6000000000000001,
                                                "bin_end": 0.7000000000000001,
                                                "count": 0
                                            },
                                            {
                                                "bin_start": 0.7000000000000001,
                                                "bin_end": 0.8,
                                                "count": 0
                                            },
                                            {
                                                "bin_start": 0.8,
                                                "bin_end": 0.9,
                                                "count": 0
                                            },
                                            {
                                                "bin_start": 0.9,
                                                "bin_end": 1,
                                                "count": 3
                                            }
                                        ]
                                    }
                                },
                                {
                                    "name": "Unit1",
                                    "dtype": "float64",
                                    "stats": {
                                        "unique_count": 1,
                                        "nan_count": 1,
                                        "min": "0.0",
                                        "max": "0.0",
                                        "histogram": [
                                            {
                                                "bin_start": -0.5,
                                                "bin_end": -0.4,
                                                "count": 0
                                            },
                                            {
                                                "bin_start": -0.4,
                                                "bin_end": -0.3,
                                                "count": 0
                                            },
                                            {
                                                "bin_start": -0.3,
                                                "bin_end": -0.19999999999999996,
                                                "count": 0
                                            },
                                            {
                                                "bin_start": -0.19999999999999996,
                                                "bin_end": -0.09999999999999998,
                                                "count": 0
                                            },
                                            {
                                                "bin_start": -0.09999999999999998,
                                                "bin_end": 0,
                                                "count": 0
                                            },
                                            {
                                                "bin_start": 0,
                                                "bin_end": 0.10000000000000009,
                                                "count": 4
                                            },
                                            {
                                                "bin_start": 0.10000000000000009,
                                                "bin_end": 0.20000000000000007,
                                                "count": 0
                                            },
                                            {
                                                "bin_start": 0.20000000000000007,
                                                "bin_end": 0.30000000000000004,
                                                "count": 0
                                            },
                                            {
                                                "bin_start": 0.30000000000000004,
                                                "bin_end": 0.4,
                                                "count": 0
                                            },
                                            {
                                                "bin_start": 0.4,
                                                "bin_end": 0.5,
                                                "count": 0
                                            }
                                        ]
                                    }
                                },
                                {
                                    "name": "Unit2",
                                    "dtype": "float64",
                                    "stats": {
                                        "unique_count": 1,
                                        "nan_count": 1,
                                        "min": "1.0",
                                        "max": "1.0",
                                        "histogram": [
                                            {
                                                "bin_start": 0.5,
                                                "bin_end": 0.6,
                                                "count": 0
                                            },
                                            {
                                                "bin_start": 0.6,
                                                "bin_end": 0.7,
                                                "count": 0
                                            },
                                            {
                                                "bin_start": 0.7,
                                                "bin_end": 0.8,
                                                "count": 0
                                            },
                                            {
                                                "bin_start": 0.8,
                                                "bin_end": 0.9,
                                                "count": 0
                                            },
                                            {
                                                "bin_start": 0.9,
                                                "bin_end": 1,
                                                "count": 0
                                            },
                                            {
                                                "bin_start": 1,
                                                "bin_end": 1.1,
                                                "count": 4
                                            },
                                            {
                                                "bin_start": 1.1,
                                                "bin_end": 1.2000000000000002,
                                                "count": 0
                                            },
                                            {
                                                "bin_start": 1.2000000000000002,
                                                "bin_end": 1.3,
                                                "count": 0
                                            },
                                            {
                                                "bin_start": 1.3,
                                                "bin_end": 1.4,
                                                "count": 0
                                            },
                                            {
                                                "bin_start": 1.4,
                                                "bin_end": 1.5,
                                                "count": 0
                                            }
                                        ]
                                    }
                                },
                                {
                                    "name": "HospAdmTime",
                                    "dtype": "float64",
                                    "stats": {
                                        "unique_count": 5,
                                        "nan_count": 0,
                                        "min": "-84.73",
                                        "max": "-0.02",
                                        "histogram": [
                                            {
                                                "bin_start": -84.73,
                                                "bin_end": -76.259,
                                                "count": 1
                                            },
                                            {
                                                "bin_start": -76.259,
                                                "bin_end": -67.78800000000001,
                                                "count": 0
                                            },
                                            {
                                                "bin_start": -67.78800000000001,
                                                "bin_end": -59.31700000000001,
                                                "count": 1
                                            },
                                            {
                                                "bin_start": -59.31700000000001,
                                                "bin_end": -50.846000000000004,
                                                "count": 0
                                            },
                                            {
                                                "bin_start": -50.846000000000004,
                                                "bin_end": -42.375,
                                                "count": 0
                                            },
                                            {
                                                "bin_start": -42.375,
                                                "bin_end": -33.904,
                                                "count": 0
                                            },
                                            {
                                                "bin_start": -33.904,
                                                "bin_end": -25.433000000000007,
                                                "count": 1
                                            },
                                            {
                                                "bin_start": -25.433000000000007,
                                                "bin_end": -16.962000000000003,
                                                "count": 0
                                            },
                                            {
                                                "bin_start": -16.962000000000003,
                                                "bin_end": -8.491,
                                                "count": 0
                                            },
                                            {
                                                "bin_start": -8.491,
                                                "bin_end": -0.02,
                                                "count": 2
                                            }
                                        ]
                                    }
                                },
                                {
                                    "name": "ICULOS",
                                    "dtype": "int64",
                                    "stats": {
                                        "unique_count": 5,
                                        "nan_count": 0,
                                        "min": "16",
                                        "max": "54",
                                        "histogram": [
                                            {
                                                "bin_start": 16,
                                                "bin_end": 19.8,
                                                "count": 1
                                            },
                                            {
                                                "bin_start": 19.8,
                                                "bin_end": 23.6,
                                                "count": 1
                                            },
                                            {
                                                "bin_start": 23.6,
                                                "bin_end": 27.4,
                                                "count": 1
                                            },
                                            {
                                                "bin_start": 27.4,
                                                "bin_end": 31.2,
                                                "count": 1
                                            },
                                            {
                                                "bin_start": 31.2,
                                                "bin_end": 35,
                                                "count": 0
                                            },
                                            {
                                                "bin_start": 35,
                                                "bin_end": 38.8,
                                                "count": 0
                                            },
                                            {
                                                "bin_start": 38.8,
                                                "bin_end": 42.599999999999994,
                                                "count": 0
                                            },
                                            {
                                                "bin_start": 42.599999999999994,
                                                "bin_end": 46.4,
                                                "count": 0
                                            },
                                            {
                                                "bin_start": 46.4,
                                                "bin_end": 50.199999999999996,
                                                "count": 0
                                            },
                                            {
                                                "bin_start": 50.199999999999996,
                                                "bin_end": 54,
                                                "count": 1
                                            }
                                        ]
                                    }
                                },
                                {
                                    "name": "SepsisLabel",
                                    "dtype": "int64",
                                    "stats": {
                                        "unique_count": 1,
                                        "nan_count": 0,
                                        "min": "0",
                                        "max": "0",
                                        "histogram": [
                                            {
                                                "bin_start": -0.5,
                                                "bin_end": -0.4,
                                                "count": 0
                                            },
                                            {
                                                "bin_start": -0.4,
                                                "bin_end": -0.3,
                                                "count": 0
                                            },
                                            {
                                                "bin_start": -0.3,
                                                "bin_end": -0.19999999999999996,
                                                "count": 0
                                            },
                                            {
                                                "bin_start": -0.19999999999999996,
                                                "bin_end": -0.09999999999999998,
                                                "count": 0
                                            },
                                            {
                                                "bin_start": -0.09999999999999998,
                                                "bin_end": 0,
                                                "count": 0
                                            },
                                            {
                                                "bin_start": 0,
                                                "bin_end": 0.10000000000000009,
                                                "count": 5
                                            },
                                            {
                                                "bin_start": 0.10000000000000009,
                                                "bin_end": 0.20000000000000007,
                                                "count": 0
                                            },
                                            {
                                                "bin_start": 0.20000000000000007,
                                                "bin_end": 0.30000000000000004,
                                                "count": 0
                                            },
                                            {
                                                "bin_start": 0.30000000000000004,
                                                "bin_end": 0.4,
                                                "count": 0
                                            },
                                            {
                                                "bin_start": 0.4,
                                                "bin_end": 0.5,
                                                "count": 0
                                            }
                                        ]
                                    }
                                },
                                {
                                    "name": "Patient_ID",
                                    "dtype": "int64",
                                    "stats": {
                                        "unique_count": 5,
                                        "nan_count": 0,
                                        "min": "14692",
                                        "max": "117203",
                                        "histogram": [
                                            {
                                                "bin_start": 14692,
                                                "bin_end": 24943.1,
                                                "count": 2
                                            },
                                            {
                                                "bin_start": 24943.1,
                                                "bin_end": 35194.2,
                                                "count": 0
                                            },
                                            {
                                                "bin_start": 35194.2,
                                                "bin_end": 45445.3,
                                                "count": 0
                                            },
                                            {
                                                "bin_start": 45445.3,
                                                "bin_end": 55696.4,
                                                "count": 0
                                            },
                                            {
                                                "bin_start": 55696.4,
                                                "bin_end": 65947.5,
                                                "count": 0
                                            },
                                            {
                                                "bin_start": 65947.5,
                                                "bin_end": 76198.6,
                                                "count": 0
                                            },
                                            {
                                                "bin_start": 76198.6,
                                                "bin_end": 86449.7,
                                                "count": 0
                                            },
                                            {
                                                "bin_start": 86449.7,
                                                "bin_end": 96700.8,
                                                "count": 0
                                            },
                                            {
                                                "bin_start": 96700.8,
                                                "bin_end": 106951.90000000001,
                                                "count": 1
                                            },
                                            {
                                                "bin_start": 106951.90000000001,
                                                "bin_end": 117203,
                                                "count": 2
                                            }
                                        ]
                                    }
                                },
                                {
                                    "name": "_deepnote_index_column",
                                    "dtype": "int64"
                                }
                            ],
                            "rows": [
                                {
                                    "Unnamed: 0.1": 1353110,
                                    "Unnamed: 0": 53,
                                    "Hour": 53,
                                    "HR": 61.5,
                                    "O2Sat": 99.5,
                                    "Temp": 38.25,
                                    "SBP": 140,
                                    "MAP": 89,
                                    "DBP": 64,
                                    "Resp": 20,
                                    "EtCO2": 34.5,
                                    "BaseExcess": "nan",
                                    "HCO3": "nan",
                                    "FiO2": "nan",
                                    "pH": "nan",
                                    "PaCO2": "nan",
                                    "SaO2": "nan",
                                    "AST": "nan",
                                    "BUN": "nan",
                                    "Alkalinephos": "nan",
                                    "Calcium": "nan",
                                    "Chloride": "nan",
                                    "Creatinine": "nan",
                                    "Bilirubin_direct": "nan",
                                    "Glucose": "nan",
                                    "Lactate": "nan",
                                    "Magnesium": "nan",
                                    "Phosphate": "nan",
                                    "Potassium": "nan",
                                    "Bilirubin_total": "nan",
                                    "TroponinI": "nan",
                                    "Hct": "nan",
                                    "Hgb": "nan",
                                    "PTT": "nan",
                                    "WBC": "nan",
                                    "Fibrinogen": "nan",
                                    "Platelets": "nan",
                                    "Age": 72,
                                    "Gender": 1,
                                    "Unit1": 0,
                                    "Unit2": 1,
                                    "HospAdmTime": -84.73,
                                    "ICULOS": 54,
                                    "SepsisLabel": 0,
                                    "Patient_ID": 117203,
                                    "_deepnote_index_column": 0
                                },
                                {
                                    "Unnamed: 0.1": 1259425,
                                    "Unnamed: 0": 15,
                                    "Hour": 15,
                                    "HR": 90,
                                    "O2Sat": 96,
                                    "Temp": 36.8,
                                    "SBP": 125,
                                    "MAP": 77,
                                    "DBP": 54,
                                    "Resp": 20,
                                    "EtCO2": "nan",
                                    "BaseExcess": "nan",
                                    "HCO3": "nan",
                                    "FiO2": "nan",
                                    "pH": "nan",
                                    "PaCO2": "nan",
                                    "SaO2": "nan",
                                    "AST": "nan",
                                    "BUN": "nan",
                                    "Alkalinephos": "nan",
                                    "Calcium": "nan",
                                    "Chloride": "nan",
                                    "Creatinine": "nan",
                                    "Bilirubin_direct": "nan",
                                    "Glucose": "nan",
                                    "Lactate": "nan",
                                    "Magnesium": "nan",
                                    "Phosphate": "nan",
                                    "Potassium": "nan",
                                    "Bilirubin_total": "nan",
                                    "TroponinI": "nan",
                                    "Hct": "nan",
                                    "Hgb": "nan",
                                    "PTT": "nan",
                                    "WBC": "nan",
                                    "Fibrinogen": "nan",
                                    "Platelets": "nan",
                                    "Age": 75,
                                    "Gender": 0,
                                    "Unit1": 0,
                                    "Unit2": 1,
                                    "HospAdmTime": -25.44,
                                    "ICULOS": 16,
                                    "SepsisLabel": 0,
                                    "Patient_ID": 115025,
                                    "_deepnote_index_column": 1
                                },
                                {
                                    "Unnamed: 0.1": 15353,
                                    "Unnamed: 0": 18,
                                    "Hour": 18,
                                    "HR": 78,
                                    "O2Sat": 97,
                                    "Temp": "nan",
                                    "SBP": 121,
                                    "MAP": 86,
                                    "DBP": 76,
                                    "Resp": 21,
                                    "EtCO2": "nan",
                                    "BaseExcess": "nan",
                                    "HCO3": "nan",
                                    "FiO2": "nan",
                                    "pH": "nan",
                                    "PaCO2": "nan",
                                    "SaO2": "nan",
                                    "AST": "nan",
                                    "BUN": "nan",
                                    "Alkalinephos": "nan",
                                    "Calcium": "nan",
                                    "Chloride": "nan",
                                    "Creatinine": "nan",
                                    "Bilirubin_direct": "nan",
                                    "Glucose": "nan",
                                    "Lactate": "nan",
                                    "Magnesium": "nan",
                                    "Phosphate": "nan",
                                    "Potassium": "nan",
                                    "Bilirubin_total": "nan",
                                    "TroponinI": "nan",
                                    "Hct": "nan",
                                    "Hgb": "nan",
                                    "PTT": "nan",
                                    "WBC": "nan",
                                    "Fibrinogen": "nan",
                                    "Platelets": "nan",
                                    "Age": 68.63,
                                    "Gender": 1,
                                    "Unit1": 0,
                                    "Unit2": 1,
                                    "HospAdmTime": -67.35,
                                    "ICULOS": 23,
                                    "SepsisLabel": 0,
                                    "Patient_ID": 14692,
                                    "_deepnote_index_column": 2
                                },
                                {
                                    "Unnamed: 0.1": 223518,
                                    "Unnamed: 0": 26,
                                    "Hour": 26,
                                    "HR": 82,
                                    "O2Sat": 95,
                                    "Temp": "nan",
                                    "SBP": 133,
                                    "MAP": 80,
                                    "DBP": 59,
                                    "Resp": 12,
                                    "EtCO2": "nan",
                                    "BaseExcess": "nan",
                                    "HCO3": "nan",
                                    "FiO2": "nan",
                                    "pH": "nan",
                                    "PaCO2": "nan",
                                    "SaO2": "nan",
                                    "AST": "nan",
                                    "BUN": "nan",
                                    "Alkalinephos": "nan",
                                    "Calcium": "nan",
                                    "Chloride": "nan",
                                    "Creatinine": "nan",
                                    "Bilirubin_direct": "nan",
                                    "Glucose": "nan",
                                    "Lactate": "nan",
                                    "Magnesium": "nan",
                                    "Phosphate": "nan",
                                    "Potassium": "nan",
                                    "Bilirubin_total": "nan",
                                    "TroponinI": "nan",
                                    "Hct": "nan",
                                    "Hgb": "nan",
                                    "PTT": "nan",
                                    "WBC": "nan",
                                    "Fibrinogen": "nan",
                                    "Platelets": "nan",
                                    "Age": 66.36,
                                    "Gender": 1,
                                    "Unit1": "nan",
                                    "Unit2": "nan",
                                    "HospAdmTime": -0.02,
                                    "ICULOS": 31,
                                    "SepsisLabel": 0,
                                    "Patient_ID": 16777,
                                    "_deepnote_index_column": 3
                                },
                                {
                                    "Unnamed: 0.1": 917766,
                                    "Unnamed: 0": 23,
                                    "Hour": 23,
                                    "HR": 84,
                                    "O2Sat": 96,
                                    "Temp": "nan",
                                    "SBP": 151,
                                    "MAP": 130,
                                    "DBP": 115,
                                    "Resp": 26,
                                    "EtCO2": "nan",
                                    "BaseExcess": "nan",
                                    "HCO3": "nan",
                                    "FiO2": "nan",
                                    "pH": "nan",
                                    "PaCO2": "nan",
                                    "SaO2": "nan",
                                    "AST": "nan",
                                    "BUN": "nan",
                                    "Alkalinephos": "nan",
                                    "Calcium": "nan",
                                    "Chloride": "nan",
                                    "Creatinine": "nan",
                                    "Bilirubin_direct": "nan",
                                    "Glucose": "nan",
                                    "Lactate": "nan",
                                    "Magnesium": "nan",
                                    "Phosphate": "nan",
                                    "Potassium": "nan",
                                    "Bilirubin_total": "nan",
                                    "TroponinI": "nan",
                                    "Hct": "nan",
                                    "Hgb": "nan",
                                    "PTT": "nan",
                                    "WBC": "nan",
                                    "Fibrinogen": "nan",
                                    "Platelets": "nan",
                                    "Age": 55,
                                    "Gender": 0,
                                    "Unit1": 0,
                                    "Unit2": 1,
                                    "HospAdmTime": -6.26,
                                    "ICULOS": 24,
                                    "SepsisLabel": 0,
                                    "Patient_ID": 100738,
                                    "_deepnote_index_column": 4
                                }
                            ]
                        },
                        "text/plain": "   Unnamed: 0.1  Unnamed: 0  Hour    HR  O2Sat   Temp    SBP    MAP    DBP  \\\n0       1353110          53    53  61.5   99.5  38.25  140.0   89.0   64.0   \n1       1259425          15    15  90.0   96.0  36.80  125.0   77.0   54.0   \n2         15353          18    18  78.0   97.0    NaN  121.0   86.0   76.0   \n3        223518          26    26  82.0   95.0    NaN  133.0   80.0   59.0   \n4        917766          23    23  84.0   96.0    NaN  151.0  130.0  115.0   \n\n   Resp  ...  Fibrinogen  Platelets    Age  Gender  Unit1  Unit2  HospAdmTime  \\\n0  20.0  ...         NaN        NaN  72.00       1    0.0    1.0       -84.73   \n1  20.0  ...         NaN        NaN  75.00       0    0.0    1.0       -25.44   \n2  21.0  ...         NaN        NaN  68.63       1    0.0    1.0       -67.35   \n3  12.0  ...         NaN        NaN  66.36       1    NaN    NaN        -0.02   \n4  26.0  ...         NaN        NaN  55.00       0    0.0    1.0        -6.26   \n\n   ICULOS  SepsisLabel  Patient_ID  \n0      54            0      117203  \n1      16            0      115025  \n2      23            0       14692  \n3      31            0       16777  \n4      24            0      100738  \n\n[5 rows x 45 columns]",
                        "text/html": "<div>\n<style scoped>\n    .dataframe tbody tr th:only-of-type {\n        vertical-align: middle;\n    }\n\n    .dataframe tbody tr th {\n        vertical-align: top;\n    }\n\n    .dataframe thead th {\n        text-align: right;\n    }\n</style>\n<table border=\"1\" class=\"dataframe\">\n  <thead>\n    <tr style=\"text-align: right;\">\n      <th></th>\n      <th>Unnamed: 0.1</th>\n      <th>Unnamed: 0</th>\n      <th>Hour</th>\n      <th>HR</th>\n      <th>O2Sat</th>\n      <th>Temp</th>\n      <th>SBP</th>\n      <th>MAP</th>\n      <th>DBP</th>\n      <th>Resp</th>\n      <th>...</th>\n      <th>Fibrinogen</th>\n      <th>Platelets</th>\n      <th>Age</th>\n      <th>Gender</th>\n      <th>Unit1</th>\n      <th>Unit2</th>\n      <th>HospAdmTime</th>\n      <th>ICULOS</th>\n      <th>SepsisLabel</th>\n      <th>Patient_ID</th>\n    </tr>\n  </thead>\n  <tbody>\n    <tr>\n      <th>0</th>\n      <td>1353110</td>\n      <td>53</td>\n      <td>53</td>\n      <td>61.5</td>\n      <td>99.5</td>\n      <td>38.25</td>\n      <td>140.0</td>\n      <td>89.0</td>\n      <td>64.0</td>\n      <td>20.0</td>\n      <td>...</td>\n      <td>NaN</td>\n      <td>NaN</td>\n      <td>72.00</td>\n      <td>1</td>\n      <td>0.0</td>\n      <td>1.0</td>\n      <td>-84.73</td>\n      <td>54</td>\n      <td>0</td>\n      <td>117203</td>\n    </tr>\n    <tr>\n      <th>1</th>\n      <td>1259425</td>\n      <td>15</td>\n      <td>15</td>\n      <td>90.0</td>\n      <td>96.0</td>\n      <td>36.80</td>\n      <td>125.0</td>\n      <td>77.0</td>\n      <td>54.0</td>\n      <td>20.0</td>\n      <td>...</td>\n      <td>NaN</td>\n      <td>NaN</td>\n      <td>75.00</td>\n      <td>0</td>\n      <td>0.0</td>\n      <td>1.0</td>\n      <td>-25.44</td>\n      <td>16</td>\n      <td>0</td>\n      <td>115025</td>\n    </tr>\n    <tr>\n      <th>2</th>\n      <td>15353</td>\n      <td>18</td>\n      <td>18</td>\n      <td>78.0</td>\n      <td>97.0</td>\n      <td>NaN</td>\n      <td>121.0</td>\n      <td>86.0</td>\n      <td>76.0</td>\n      <td>21.0</td>\n      <td>...</td>\n      <td>NaN</td>\n      <td>NaN</td>\n      <td>68.63</td>\n      <td>1</td>\n      <td>0.0</td>\n      <td>1.0</td>\n      <td>-67.35</td>\n      <td>23</td>\n      <td>0</td>\n      <td>14692</td>\n    </tr>\n    <tr>\n      <th>3</th>\n      <td>223518</td>\n      <td>26</td>\n      <td>26</td>\n      <td>82.0</td>\n      <td>95.0</td>\n      <td>NaN</td>\n      <td>133.0</td>\n      <td>80.0</td>\n      <td>59.0</td>\n      <td>12.0</td>\n      <td>...</td>\n      <td>NaN</td>\n      <td>NaN</td>\n      <td>66.36</td>\n      <td>1</td>\n      <td>NaN</td>\n      <td>NaN</td>\n      <td>-0.02</td>\n      <td>31</td>\n      <td>0</td>\n      <td>16777</td>\n    </tr>\n    <tr>\n      <th>4</th>\n      <td>917766</td>\n      <td>23</td>\n      <td>23</td>\n      <td>84.0</td>\n      <td>96.0</td>\n      <td>NaN</td>\n      <td>151.0</td>\n      <td>130.0</td>\n      <td>115.0</td>\n      <td>26.0</td>\n      <td>...</td>\n      <td>NaN</td>\n      <td>NaN</td>\n      <td>55.00</td>\n      <td>0</td>\n      <td>0.0</td>\n      <td>1.0</td>\n      <td>-6.26</td>\n      <td>24</td>\n      <td>0</td>\n      <td>100738</td>\n    </tr>\n  </tbody>\n</table>\n<p>5 rows × 45 columns</p>\n</div>"
                    },
                    "metadata": {}
                }
            ],
            "outputs_reference": "s3:deepnote-cell-outputs-production/58064460-1604-4ae5-9d6a-e15b02fecd1e",
            "content_dependencies": null
        },
        {
            "cell_type": "markdown",
            "metadata": {
                "cell_id": "f6b692a5fcc640e98db7ebf57ddb449f",
                "deepnote_cell_type": "markdown"
            },
            "source": "### Obteniendo información general de la base de datos\nEl método *df.info()* devuelve la información acerca del Dataframe incluyendo el índice, el tipo de datos y columnas, valores no nulos y la memoria usada",
            "block_group": "5ef1fe761ac7442b9a4174fd825c4d73"
        },
        {
            "cell_type": "code",
            "metadata": {
                "source_hash": "de1e323c",
                "execution_start": 1725726508446,
                "execution_millis": 172,
                "deepnote_to_be_reexecuted": false,
                "cell_id": "6472e064523146549856986c153c3a04",
                "deepnote_cell_type": "code"
            },
            "source": "df.info()",
            "block_group": "7be1820cd14e4c01aa093d8b2f00c6a1",
            "execution_count": 3,
            "outputs": [
                {
                    "name": "stdout",
                    "text": "<class 'pandas.core.frame.DataFrame'>\nRangeIndex: 15522 entries, 0 to 15521\nData columns (total 45 columns):\n #   Column            Non-Null Count  Dtype  \n---  ------            --------------  -----  \n 0   Unnamed: 0.1      15522 non-null  int64  \n 1   Unnamed: 0        15522 non-null  int64  \n 2   Hour              15522 non-null  int64  \n 3   HR                13933 non-null  float64\n 4   O2Sat             13479 non-null  float64\n 5   Temp              5204 non-null   float64\n 6   SBP               13204 non-null  float64\n 7   MAP               13522 non-null  float64\n 8   DBP               10628 non-null  float64\n 9   Resp              13048 non-null  float64\n 10  EtCO2             570 non-null    float64\n 11  BaseExcess        779 non-null    float64\n 12  HCO3              643 non-null    float64\n 13  FiO2              1232 non-null   float64\n 14  pH                1001 non-null   float64\n 15  PaCO2             821 non-null    float64\n 16  SaO2              528 non-null    float64\n 17  AST               261 non-null    float64\n 18  BUN               1046 non-null   float64\n 19  Alkalinephos      263 non-null    float64\n 20  Calcium           922 non-null    float64\n 21  Chloride          700 non-null    float64\n 22  Creatinine        931 non-null    float64\n 23  Bilirubin_direct  36 non-null     float64\n 24  Glucose           2639 non-null   float64\n 25  Lactate           400 non-null    float64\n 26  Magnesium         948 non-null    float64\n 27  Phosphate         618 non-null    float64\n 28  Potassium         1419 non-null   float64\n 29  Bilirubin_total   254 non-null    float64\n 30  TroponinI         148 non-null    float64\n 31  Hct               1326 non-null   float64\n 32  Hgb               1153 non-null   float64\n 33  PTT               457 non-null    float64\n 34  WBC               993 non-null    float64\n 35  Fibrinogen        108 non-null    float64\n 36  Platelets         931 non-null    float64\n 37  Age               15522 non-null  float64\n 38  Gender            15522 non-null  int64  \n 39  Unit1             9418 non-null   float64\n 40  Unit2             9418 non-null   float64\n 41  HospAdmTime       15522 non-null  float64\n 42  ICULOS            15522 non-null  int64  \n 43  SepsisLabel       15522 non-null  int64  \n 44  Patient_ID        15522 non-null  int64  \ndtypes: float64(38), int64(7)\nmemory usage: 5.3 MB\n",
                    "output_type": "stream"
                }
            ],
            "outputs_reference": "s3:deepnote-cell-outputs-production/2c31260a-0840-4582-b4ca-0992f7fc57d2",
            "content_dependencies": null
        },
        {
            "cell_type": "markdown",
            "metadata": {
                "cell_id": "80010ef6363141b7827e23e81a1a55c8",
                "deepnote_cell_type": "markdown"
            },
            "source": "### Obtenemos la forma de la base de base de datos",
            "block_group": "a921253ab1e64452b6364fb8e293d8c3"
        },
        {
            "cell_type": "code",
            "metadata": {
                "source_hash": "14f60b8f",
                "execution_start": 1725726512412,
                "execution_millis": 39,
                "deepnote_to_be_reexecuted": false,
                "cell_id": "8939e33608604af7a4dbae4371eb403e",
                "deepnote_cell_type": "code"
            },
            "source": "df.shape",
            "block_group": "f02ae1911ec24a08966a4a9c6b543c66",
            "execution_count": 4,
            "outputs": [
                {
                    "output_type": "execute_result",
                    "execution_count": 4,
                    "data": {
                        "text/plain": "(15522, 45)"
                    },
                    "metadata": {}
                }
            ],
            "outputs_reference": "dbtable:cell_outputs/686bd644-6280-4666-9594-c8112259cb18",
            "content_dependencies": null
        },
        {
            "cell_type": "markdown",
            "metadata": {
                "cell_id": "ec30ac948f0b45489f3deb91f482257a",
                "deepnote_cell_type": "markdown"
            },
            "source": "### Inspeccionamos las nombres de las variables",
            "block_group": "5031298e012442d1af7286363ed9b033"
        },
        {
            "cell_type": "code",
            "metadata": {
                "source_hash": "25d43fa0",
                "execution_start": 1725726515166,
                "execution_millis": 108,
                "deepnote_to_be_reexecuted": false,
                "cell_id": "8de9a58850cd4375b8f3adf3d1925163",
                "deepnote_cell_type": "code"
            },
            "source": "df.columns",
            "block_group": "6bbea5a654384443a0743053a2095298",
            "execution_count": 5,
            "outputs": [
                {
                    "output_type": "execute_result",
                    "execution_count": 5,
                    "data": {
                        "text/plain": "Index(['Unnamed: 0.1', 'Unnamed: 0', 'Hour', 'HR', 'O2Sat', 'Temp', 'SBP',\n       'MAP', 'DBP', 'Resp', 'EtCO2', 'BaseExcess', 'HCO3', 'FiO2', 'pH',\n       'PaCO2', 'SaO2', 'AST', 'BUN', 'Alkalinephos', 'Calcium', 'Chloride',\n       'Creatinine', 'Bilirubin_direct', 'Glucose', 'Lactate', 'Magnesium',\n       'Phosphate', 'Potassium', 'Bilirubin_total', 'TroponinI', 'Hct', 'Hgb',\n       'PTT', 'WBC', 'Fibrinogen', 'Platelets', 'Age', 'Gender', 'Unit1',\n       'Unit2', 'HospAdmTime', 'ICULOS', 'SepsisLabel', 'Patient_ID'],\n      dtype='object')"
                    },
                    "metadata": {}
                }
            ],
            "outputs_reference": "dbtable:cell_outputs/f8be0682-ef84-4f18-9fce-8d5a30e355b8",
            "content_dependencies": null
        },
        {
            "cell_type": "markdown",
            "metadata": {
                "cell_id": "fe98b88a28de4104ba27bbe888059532",
                "deepnote_cell_type": "markdown"
            },
            "source": "### Estadisticas descriptivas para la base de datos",
            "block_group": "ea57d5427d744addbfc32de5fb09feed"
        },
        {
            "cell_type": "code",
            "metadata": {
                "source_hash": "f88152d9",
                "execution_start": 1725726518193,
                "execution_millis": 185,
                "deepnote_to_be_reexecuted": false,
                "cell_id": "cbfd12993e11469e8953adf77f4b5387",
                "deepnote_cell_type": "code"
            },
            "source": "df.describe()",
            "block_group": "586b976125a04f1cb72d6de0f9e780dc",
            "execution_count": 6,
            "outputs": [
                {
                    "output_type": "execute_result",
                    "execution_count": 6,
                    "data": {
                        "application/vnd.deepnote.dataframe.v3+json": {
                            "column_count": 45,
                            "row_count": 8,
                            "columns": [
                                {
                                    "name": "Unnamed: 0.1",
                                    "dtype": "float64",
                                    "stats": {
                                        "unique_count": 8,
                                        "nan_count": 0,
                                        "min": "12.0",
                                        "max": "1552206.0",
                                        "histogram": [
                                            {
                                                "bin_start": 12,
                                                "bin_end": 155231.4,
                                                "count": 2
                                            },
                                            {
                                                "bin_start": 155231.4,
                                                "bin_end": 310450.8,
                                                "count": 0
                                            },
                                            {
                                                "bin_start": 310450.8,
                                                "bin_end": 465670.19999999995,
                                                "count": 2
                                            },
                                            {
                                                "bin_start": 465670.19999999995,
                                                "bin_end": 620889.6,
                                                "count": 0
                                            },
                                            {
                                                "bin_start": 620889.6,
                                                "bin_end": 776109,
                                                "count": 0
                                            },
                                            {
                                                "bin_start": 776109,
                                                "bin_end": 931328.3999999999,
                                                "count": 2
                                            },
                                            {
                                                "bin_start": 931328.3999999999,
                                                "bin_end": 1086547.8,
                                                "count": 0
                                            },
                                            {
                                                "bin_start": 1086547.8,
                                                "bin_end": 1241767.2,
                                                "count": 1
                                            },
                                            {
                                                "bin_start": 1241767.2,
                                                "bin_end": 1396986.5999999999,
                                                "count": 0
                                            },
                                            {
                                                "bin_start": 1396986.5999999999,
                                                "bin_end": 1552206,
                                                "count": 1
                                            }
                                        ]
                                    }
                                },
                                {
                                    "name": "Unnamed: 0",
                                    "dtype": "float64",
                                    "stats": {
                                        "unique_count": 8,
                                        "nan_count": 0,
                                        "min": "0.0",
                                        "max": "15522.0",
                                        "histogram": [
                                            {
                                                "bin_start": 0,
                                                "bin_end": 1552.2,
                                                "count": 7
                                            },
                                            {
                                                "bin_start": 1552.2,
                                                "bin_end": 3104.4,
                                                "count": 0
                                            },
                                            {
                                                "bin_start": 3104.4,
                                                "bin_end": 4656.6,
                                                "count": 0
                                            },
                                            {
                                                "bin_start": 4656.6,
                                                "bin_end": 6208.8,
                                                "count": 0
                                            },
                                            {
                                                "bin_start": 6208.8,
                                                "bin_end": 7761,
                                                "count": 0
                                            },
                                            {
                                                "bin_start": 7761,
                                                "bin_end": 9313.2,
                                                "count": 0
                                            },
                                            {
                                                "bin_start": 9313.2,
                                                "bin_end": 10865.4,
                                                "count": 0
                                            },
                                            {
                                                "bin_start": 10865.4,
                                                "bin_end": 12417.6,
                                                "count": 0
                                            },
                                            {
                                                "bin_start": 12417.6,
                                                "bin_end": 13969.800000000001,
                                                "count": 0
                                            },
                                            {
                                                "bin_start": 13969.800000000001,
                                                "bin_end": 15522,
                                                "count": 1
                                            }
                                        ]
                                    }
                                },
                                {
                                    "name": "Hour",
                                    "dtype": "float64",
                                    "stats": {
                                        "unique_count": 8,
                                        "nan_count": 0,
                                        "min": "0.0",
                                        "max": "15522.0",
                                        "histogram": [
                                            {
                                                "bin_start": 0,
                                                "bin_end": 1552.2,
                                                "count": 7
                                            },
                                            {
                                                "bin_start": 1552.2,
                                                "bin_end": 3104.4,
                                                "count": 0
                                            },
                                            {
                                                "bin_start": 3104.4,
                                                "bin_end": 4656.6,
                                                "count": 0
                                            },
                                            {
                                                "bin_start": 4656.6,
                                                "bin_end": 6208.8,
                                                "count": 0
                                            },
                                            {
                                                "bin_start": 6208.8,
                                                "bin_end": 7761,
                                                "count": 0
                                            },
                                            {
                                                "bin_start": 7761,
                                                "bin_end": 9313.2,
                                                "count": 0
                                            },
                                            {
                                                "bin_start": 9313.2,
                                                "bin_end": 10865.4,
                                                "count": 0
                                            },
                                            {
                                                "bin_start": 10865.4,
                                                "bin_end": 12417.6,
                                                "count": 0
                                            },
                                            {
                                                "bin_start": 12417.6,
                                                "bin_end": 13969.800000000001,
                                                "count": 0
                                            },
                                            {
                                                "bin_start": 13969.800000000001,
                                                "bin_end": 15522,
                                                "count": 1
                                            }
                                        ]
                                    }
                                },
                                {
                                    "name": "HR",
                                    "dtype": "float64",
                                    "stats": {
                                        "unique_count": 8,
                                        "nan_count": 0,
                                        "min": "17.398287205550364",
                                        "max": "13933.0",
                                        "histogram": [
                                            {
                                                "bin_start": 17.398287205550364,
                                                "bin_end": 1408.9584584849952,
                                                "count": 7
                                            },
                                            {
                                                "bin_start": 1408.9584584849952,
                                                "bin_end": 2800.51862976444,
                                                "count": 0
                                            },
                                            {
                                                "bin_start": 2800.51862976444,
                                                "bin_end": 4192.078801043885,
                                                "count": 0
                                            },
                                            {
                                                "bin_start": 4192.078801043885,
                                                "bin_end": 5583.63897232333,
                                                "count": 0
                                            },
                                            {
                                                "bin_start": 5583.63897232333,
                                                "bin_end": 6975.199143602775,
                                                "count": 0
                                            },
                                            {
                                                "bin_start": 6975.199143602775,
                                                "bin_end": 8366.75931488222,
                                                "count": 0
                                            },
                                            {
                                                "bin_start": 8366.75931488222,
                                                "bin_end": 9758.319486161665,
                                                "count": 0
                                            },
                                            {
                                                "bin_start": 9758.319486161665,
                                                "bin_end": 11149.87965744111,
                                                "count": 0
                                            },
                                            {
                                                "bin_start": 11149.87965744111,
                                                "bin_end": 12541.439828720555,
                                                "count": 0
                                            },
                                            {
                                                "bin_start": 12541.439828720555,
                                                "bin_end": 13933,
                                                "count": 1
                                            }
                                        ]
                                    }
                                },
                                {
                                    "name": "O2Sat",
                                    "dtype": "float64",
                                    "stats": {
                                        "unique_count": 8,
                                        "nan_count": 0,
                                        "min": "2.978057275527211",
                                        "max": "13479.0",
                                        "histogram": [
                                            {
                                                "bin_start": 2.978057275527211,
                                                "bin_end": 1350.5802515479743,
                                                "count": 7
                                            },
                                            {
                                                "bin_start": 1350.5802515479743,
                                                "bin_end": 2698.1824458204214,
                                                "count": 0
                                            },
                                            {
                                                "bin_start": 2698.1824458204214,
                                                "bin_end": 4045.7846400928684,
                                                "count": 0
                                            },
                                            {
                                                "bin_start": 4045.7846400928684,
                                                "bin_end": 5393.386834365316,
                                                "count": 0
                                            },
                                            {
                                                "bin_start": 5393.386834365316,
                                                "bin_end": 6740.989028637763,
                                                "count": 0
                                            },
                                            {
                                                "bin_start": 6740.989028637763,
                                                "bin_end": 8088.59122291021,
                                                "count": 0
                                            },
                                            {
                                                "bin_start": 8088.59122291021,
                                                "bin_end": 9436.193417182658,
                                                "count": 0
                                            },
                                            {
                                                "bin_start": 9436.193417182658,
                                                "bin_end": 10783.795611455105,
                                                "count": 0
                                            },
                                            {
                                                "bin_start": 10783.795611455105,
                                                "bin_end": 12131.397805727553,
                                                "count": 0
                                            },
                                            {
                                                "bin_start": 12131.397805727553,
                                                "bin_end": 13479,
                                                "count": 1
                                            }
                                        ]
                                    }
                                },
                                {
                                    "name": "Temp",
                                    "dtype": "float64",
                                    "stats": {
                                        "unique_count": 8,
                                        "nan_count": 0,
                                        "min": "0.7706061311111198",
                                        "max": "5204.0",
                                        "histogram": [
                                            {
                                                "bin_start": 0.7706061311111198,
                                                "bin_end": 521.093545518,
                                                "count": 7
                                            },
                                            {
                                                "bin_start": 521.093545518,
                                                "bin_end": 1041.416484904889,
                                                "count": 0
                                            },
                                            {
                                                "bin_start": 1041.416484904889,
                                                "bin_end": 1561.739424291778,
                                                "count": 0
                                            },
                                            {
                                                "bin_start": 1561.739424291778,
                                                "bin_end": 2082.0623636786668,
                                                "count": 0
                                            },
                                            {
                                                "bin_start": 2082.0623636786668,
                                                "bin_end": 2602.3853030655555,
                                                "count": 0
                                            },
                                            {
                                                "bin_start": 2602.3853030655555,
                                                "bin_end": 3122.7082424524447,
                                                "count": 0
                                            },
                                            {
                                                "bin_start": 3122.7082424524447,
                                                "bin_end": 3643.031181839334,
                                                "count": 0
                                            },
                                            {
                                                "bin_start": 3643.031181839334,
                                                "bin_end": 4163.354121226223,
                                                "count": 0
                                            },
                                            {
                                                "bin_start": 4163.354121226223,
                                                "bin_end": 4683.677060613111,
                                                "count": 0
                                            },
                                            {
                                                "bin_start": 4683.677060613111,
                                                "bin_end": 5204,
                                                "count": 1
                                            }
                                        ]
                                    }
                                },
                                {
                                    "name": "SBP",
                                    "dtype": "float64",
                                    "stats": {
                                        "unique_count": 8,
                                        "nan_count": 0,
                                        "min": "23.34964077490138",
                                        "max": "13204.0",
                                        "histogram": [
                                            {
                                                "bin_start": 23.34964077490138,
                                                "bin_end": 1341.4146766974113,
                                                "count": 7
                                            },
                                            {
                                                "bin_start": 1341.4146766974113,
                                                "bin_end": 2659.479712619921,
                                                "count": 0
                                            },
                                            {
                                                "bin_start": 2659.479712619921,
                                                "bin_end": 3977.5447485424306,
                                                "count": 0
                                            },
                                            {
                                                "bin_start": 3977.5447485424306,
                                                "bin_end": 5295.609784464941,
                                                "count": 0
                                            },
                                            {
                                                "bin_start": 5295.609784464941,
                                                "bin_end": 6613.674820387451,
                                                "count": 0
                                            },
                                            {
                                                "bin_start": 6613.674820387451,
                                                "bin_end": 7931.7398563099605,
                                                "count": 0
                                            },
                                            {
                                                "bin_start": 7931.7398563099605,
                                                "bin_end": 9249.80489223247,
                                                "count": 0
                                            },
                                            {
                                                "bin_start": 9249.80489223247,
                                                "bin_end": 10567.86992815498,
                                                "count": 0
                                            },
                                            {
                                                "bin_start": 10567.86992815498,
                                                "bin_end": 11885.934964077489,
                                                "count": 0
                                            },
                                            {
                                                "bin_start": 11885.934964077489,
                                                "bin_end": 13204,
                                                "count": 1
                                            }
                                        ]
                                    }
                                },
                                {
                                    "name": "MAP",
                                    "dtype": "float64",
                                    "stats": {
                                        "unique_count": 8,
                                        "nan_count": 0,
                                        "min": "16.55859653278572",
                                        "max": "13522.0",
                                        "histogram": [
                                            {
                                                "bin_start": 16.55859653278572,
                                                "bin_end": 1367.1027368795071,
                                                "count": 7
                                            },
                                            {
                                                "bin_start": 1367.1027368795071,
                                                "bin_end": 2717.6468772262288,
                                                "count": 0
                                            },
                                            {
                                                "bin_start": 2717.6468772262288,
                                                "bin_end": 4068.1910175729504,
                                                "count": 0
                                            },
                                            {
                                                "bin_start": 4068.1910175729504,
                                                "bin_end": 5418.735157919671,
                                                "count": 0
                                            },
                                            {
                                                "bin_start": 5418.735157919671,
                                                "bin_end": 6769.279298266392,
                                                "count": 0
                                            },
                                            {
                                                "bin_start": 6769.279298266392,
                                                "bin_end": 8119.823438613114,
                                                "count": 0
                                            },
                                            {
                                                "bin_start": 8119.823438613114,
                                                "bin_end": 9470.367578959836,
                                                "count": 0
                                            },
                                            {
                                                "bin_start": 9470.367578959836,
                                                "bin_end": 10820.911719306558,
                                                "count": 0
                                            },
                                            {
                                                "bin_start": 10820.911719306558,
                                                "bin_end": 12171.455859653279,
                                                "count": 0
                                            },
                                            {
                                                "bin_start": 12171.455859653279,
                                                "bin_end": 13522,
                                                "count": 1
                                            }
                                        ]
                                    }
                                },
                                {
                                    "name": "DBP",
                                    "dtype": "float64",
                                    "stats": {
                                        "unique_count": 8,
                                        "nan_count": 0,
                                        "min": "14.262690566932553",
                                        "max": "10628.0",
                                        "histogram": [
                                            {
                                                "bin_start": 14.262690566932553,
                                                "bin_end": 1075.6364215102394,
                                                "count": 7
                                            },
                                            {
                                                "bin_start": 1075.6364215102394,
                                                "bin_end": 2137.010152453546,
                                                "count": 0
                                            },
                                            {
                                                "bin_start": 2137.010152453546,
                                                "bin_end": 3198.383883396853,
                                                "count": 0
                                            },
                                            {
                                                "bin_start": 3198.383883396853,
                                                "bin_end": 4259.757614340159,
                                                "count": 0
                                            },
                                            {
                                                "bin_start": 4259.757614340159,
                                                "bin_end": 5321.1313452834665,
                                                "count": 0
                                            },
                                            {
                                                "bin_start": 5321.1313452834665,
                                                "bin_end": 6382.505076226773,
                                                "count": 0
                                            },
                                            {
                                                "bin_start": 6382.505076226773,
                                                "bin_end": 7443.878807170079,
                                                "count": 0
                                            },
                                            {
                                                "bin_start": 7443.878807170079,
                                                "bin_end": 8505.252538113387,
                                                "count": 0
                                            },
                                            {
                                                "bin_start": 8505.252538113387,
                                                "bin_end": 9566.626269056695,
                                                "count": 0
                                            },
                                            {
                                                "bin_start": 9566.626269056695,
                                                "bin_end": 10628,
                                                "count": 1
                                            }
                                        ]
                                    }
                                },
                                {
                                    "name": "Resp",
                                    "dtype": "float64",
                                    "stats": {
                                        "unique_count": 8,
                                        "nan_count": 0,
                                        "min": "1.0",
                                        "max": "13048.0",
                                        "histogram": [
                                            {
                                                "bin_start": 1,
                                                "bin_end": 1305.7,
                                                "count": 7
                                            },
                                            {
                                                "bin_start": 1305.7,
                                                "bin_end": 2610.4,
                                                "count": 0
                                            },
                                            {
                                                "bin_start": 2610.4,
                                                "bin_end": 3915.1000000000004,
                                                "count": 0
                                            },
                                            {
                                                "bin_start": 3915.1000000000004,
                                                "bin_end": 5219.8,
                                                "count": 0
                                            },
                                            {
                                                "bin_start": 5219.8,
                                                "bin_end": 6524.5,
                                                "count": 0
                                            },
                                            {
                                                "bin_start": 6524.5,
                                                "bin_end": 7829.200000000001,
                                                "count": 0
                                            },
                                            {
                                                "bin_start": 7829.200000000001,
                                                "bin_end": 9133.9,
                                                "count": 0
                                            },
                                            {
                                                "bin_start": 9133.9,
                                                "bin_end": 10438.6,
                                                "count": 0
                                            },
                                            {
                                                "bin_start": 10438.6,
                                                "bin_end": 11743.300000000001,
                                                "count": 0
                                            },
                                            {
                                                "bin_start": 11743.300000000001,
                                                "bin_end": 13048,
                                                "count": 1
                                            }
                                        ]
                                    }
                                },
                                {
                                    "name": "EtCO2",
                                    "dtype": "float64",
                                    "stats": {
                                        "unique_count": 8,
                                        "nan_count": 0,
                                        "min": "8.288760253626727",
                                        "max": "570.0",
                                        "histogram": [
                                            {
                                                "bin_start": 8.288760253626727,
                                                "bin_end": 64.45988422826406,
                                                "count": 6
                                            },
                                            {
                                                "bin_start": 64.45988422826406,
                                                "bin_end": 120.63100820290137,
                                                "count": 1
                                            },
                                            {
                                                "bin_start": 120.63100820290137,
                                                "bin_end": 176.80213217753868,
                                                "count": 0
                                            },
                                            {
                                                "bin_start": 176.80213217753868,
                                                "bin_end": 232.97325615217602,
                                                "count": 0
                                            },
                                            {
                                                "bin_start": 232.97325615217602,
                                                "bin_end": 289.14438012681336,
                                                "count": 0
                                            },
                                            {
                                                "bin_start": 289.14438012681336,
                                                "bin_end": 345.31550410145064,
                                                "count": 0
                                            },
                                            {
                                                "bin_start": 345.31550410145064,
                                                "bin_end": 401.486628076088,
                                                "count": 0
                                            },
                                            {
                                                "bin_start": 401.486628076088,
                                                "bin_end": 457.6577520507253,
                                                "count": 0
                                            },
                                            {
                                                "bin_start": 457.6577520507253,
                                                "bin_end": 513.8288760253627,
                                                "count": 0
                                            },
                                            {
                                                "bin_start": 513.8288760253627,
                                                "bin_end": 570,
                                                "count": 1
                                            }
                                        ]
                                    }
                                },
                                {
                                    "name": "BaseExcess",
                                    "dtype": "float64",
                                    "stats": {
                                        "unique_count": 8,
                                        "nan_count": 0,
                                        "min": "-20.0",
                                        "max": "779.0",
                                        "histogram": [
                                            {
                                                "bin_start": -20,
                                                "bin_end": 59.900000000000006,
                                                "count": 7
                                            },
                                            {
                                                "bin_start": 59.900000000000006,
                                                "bin_end": 139.8,
                                                "count": 0
                                            },
                                            {
                                                "bin_start": 139.8,
                                                "bin_end": 219.70000000000002,
                                                "count": 0
                                            },
                                            {
                                                "bin_start": 219.70000000000002,
                                                "bin_end": 299.6,
                                                "count": 0
                                            },
                                            {
                                                "bin_start": 299.6,
                                                "bin_end": 379.5,
                                                "count": 0
                                            },
                                            {
                                                "bin_start": 379.5,
                                                "bin_end": 459.40000000000003,
                                                "count": 0
                                            },
                                            {
                                                "bin_start": 459.40000000000003,
                                                "bin_end": 539.3000000000001,
                                                "count": 0
                                            },
                                            {
                                                "bin_start": 539.3000000000001,
                                                "bin_end": 619.2,
                                                "count": 0
                                            },
                                            {
                                                "bin_start": 619.2,
                                                "bin_end": 699.1,
                                                "count": 0
                                            },
                                            {
                                                "bin_start": 699.1,
                                                "bin_end": 779,
                                                "count": 1
                                            }
                                        ]
                                    }
                                },
                                {
                                    "name": "HCO3",
                                    "dtype": "float64",
                                    "stats": {
                                        "unique_count": 8,
                                        "nan_count": 0,
                                        "min": "4.330079001937596",
                                        "max": "643.0",
                                        "histogram": [
                                            {
                                                "bin_start": 4.330079001937596,
                                                "bin_end": 68.19707110174383,
                                                "count": 7
                                            },
                                            {
                                                "bin_start": 68.19707110174383,
                                                "bin_end": 132.06406320155008,
                                                "count": 0
                                            },
                                            {
                                                "bin_start": 132.06406320155008,
                                                "bin_end": 195.93105530135634,
                                                "count": 0
                                            },
                                            {
                                                "bin_start": 195.93105530135634,
                                                "bin_end": 259.79804740116253,
                                                "count": 0
                                            },
                                            {
                                                "bin_start": 259.79804740116253,
                                                "bin_end": 323.66503950096876,
                                                "count": 0
                                            },
                                            {
                                                "bin_start": 323.66503950096876,
                                                "bin_end": 387.53203160077504,
                                                "count": 0
                                            },
                                            {
                                                "bin_start": 387.53203160077504,
                                                "bin_end": 451.39902370058127,
                                                "count": 0
                                            },
                                            {
                                                "bin_start": 451.39902370058127,
                                                "bin_end": 515.2660158003875,
                                                "count": 0
                                            },
                                            {
                                                "bin_start": 515.2660158003875,
                                                "bin_end": 579.1330079001938,
                                                "count": 0
                                            },
                                            {
                                                "bin_start": 579.1330079001938,
                                                "bin_end": 643,
                                                "count": 1
                                            }
                                        ]
                                    }
                                },
                                {
                                    "name": "FiO2",
                                    "dtype": "float64",
                                    "stats": {
                                        "unique_count": 8,
                                        "nan_count": 0,
                                        "min": "0.0",
                                        "max": "1232.0",
                                        "histogram": [
                                            {
                                                "bin_start": 0,
                                                "bin_end": 123.2,
                                                "count": 7
                                            },
                                            {
                                                "bin_start": 123.2,
                                                "bin_end": 246.4,
                                                "count": 0
                                            },
                                            {
                                                "bin_start": 246.4,
                                                "bin_end": 369.6,
                                                "count": 0
                                            },
                                            {
                                                "bin_start": 369.6,
                                                "bin_end": 492.8,
                                                "count": 0
                                            },
                                            {
                                                "bin_start": 492.8,
                                                "bin_end": 616,
                                                "count": 0
                                            },
                                            {
                                                "bin_start": 616,
                                                "bin_end": 739.2,
                                                "count": 0
                                            },
                                            {
                                                "bin_start": 739.2,
                                                "bin_end": 862.4,
                                                "count": 0
                                            },
                                            {
                                                "bin_start": 862.4,
                                                "bin_end": 985.6,
                                                "count": 0
                                            },
                                            {
                                                "bin_start": 985.6,
                                                "bin_end": 1108.8,
                                                "count": 0
                                            },
                                            {
                                                "bin_start": 1108.8,
                                                "bin_end": 1232,
                                                "count": 1
                                            }
                                        ]
                                    }
                                },
                                {
                                    "name": "pH",
                                    "dtype": "float64",
                                    "stats": {
                                        "unique_count": 8,
                                        "nan_count": 0,
                                        "min": "0.07689709511264545",
                                        "max": "1001.0",
                                        "histogram": [
                                            {
                                                "bin_start": 0.07689709511264545,
                                                "bin_end": 100.16920738560138,
                                                "count": 7
                                            },
                                            {
                                                "bin_start": 100.16920738560138,
                                                "bin_end": 200.26151767609014,
                                                "count": 0
                                            },
                                            {
                                                "bin_start": 200.26151767609014,
                                                "bin_end": 300.3538279665789,
                                                "count": 0
                                            },
                                            {
                                                "bin_start": 300.3538279665789,
                                                "bin_end": 400.4461382570676,
                                                "count": 0
                                            },
                                            {
                                                "bin_start": 400.4461382570676,
                                                "bin_end": 500.53844854755636,
                                                "count": 0
                                            },
                                            {
                                                "bin_start": 500.53844854755636,
                                                "bin_end": 600.630758838045,
                                                "count": 0
                                            },
                                            {
                                                "bin_start": 600.630758838045,
                                                "bin_end": 700.7230691285338,
                                                "count": 0
                                            },
                                            {
                                                "bin_start": 700.7230691285338,
                                                "bin_end": 800.8153794190225,
                                                "count": 0
                                            },
                                            {
                                                "bin_start": 800.8153794190225,
                                                "bin_end": 900.9076897095113,
                                                "count": 0
                                            },
                                            {
                                                "bin_start": 900.9076897095113,
                                                "bin_end": 1001,
                                                "count": 1
                                            }
                                        ]
                                    }
                                },
                                {
                                    "name": "PaCO2",
                                    "dtype": "float64",
                                    "stats": {
                                        "unique_count": 8,
                                        "nan_count": 0,
                                        "min": "9.702318550988036",
                                        "max": "821.0",
                                        "histogram": [
                                            {
                                                "bin_start": 9.702318550988036,
                                                "bin_end": 90.83208669588923,
                                                "count": 6
                                            },
                                            {
                                                "bin_start": 90.83208669588923,
                                                "bin_end": 171.9618548407904,
                                                "count": 1
                                            },
                                            {
                                                "bin_start": 171.9618548407904,
                                                "bin_end": 253.0916229856916,
                                                "count": 0
                                            },
                                            {
                                                "bin_start": 253.0916229856916,
                                                "bin_end": 334.2213911305928,
                                                "count": 0
                                            },
                                            {
                                                "bin_start": 334.2213911305928,
                                                "bin_end": 415.35115927549396,
                                                "count": 0
                                            },
                                            {
                                                "bin_start": 415.35115927549396,
                                                "bin_end": 496.4809274203952,
                                                "count": 0
                                            },
                                            {
                                                "bin_start": 496.4809274203952,
                                                "bin_end": 577.6106955652964,
                                                "count": 0
                                            },
                                            {
                                                "bin_start": 577.6106955652964,
                                                "bin_end": 658.7404637101976,
                                                "count": 0
                                            },
                                            {
                                                "bin_start": 658.7404637101976,
                                                "bin_end": 739.8702318550987,
                                                "count": 0
                                            },
                                            {
                                                "bin_start": 739.8702318550987,
                                                "bin_end": 821,
                                                "count": 1
                                            }
                                        ]
                                    }
                                },
                                {
                                    "name": "SaO2",
                                    "dtype": "float64",
                                    "stats": {
                                        "unique_count": 8,
                                        "nan_count": 0,
                                        "min": "11.433054022555607",
                                        "max": "528.0",
                                        "histogram": [
                                            {
                                                "bin_start": 11.433054022555607,
                                                "bin_end": 63.08974862030006,
                                                "count": 2
                                            },
                                            {
                                                "bin_start": 63.08974862030006,
                                                "bin_end": 114.7464432180445,
                                                "count": 5
                                            },
                                            {
                                                "bin_start": 114.7464432180445,
                                                "bin_end": 166.40313781578897,
                                                "count": 0
                                            },
                                            {
                                                "bin_start": 166.40313781578897,
                                                "bin_end": 218.0598324135334,
                                                "count": 0
                                            },
                                            {
                                                "bin_start": 218.0598324135334,
                                                "bin_end": 269.71652701127783,
                                                "count": 0
                                            },
                                            {
                                                "bin_start": 269.71652701127783,
                                                "bin_end": 321.3732216090223,
                                                "count": 0
                                            },
                                            {
                                                "bin_start": 321.3732216090223,
                                                "bin_end": 373.02991620676676,
                                                "count": 0
                                            },
                                            {
                                                "bin_start": 373.02991620676676,
                                                "bin_end": 424.6866108045112,
                                                "count": 0
                                            },
                                            {
                                                "bin_start": 424.6866108045112,
                                                "bin_end": 476.3433054022556,
                                                "count": 0
                                            },
                                            {
                                                "bin_start": 476.3433054022556,
                                                "bin_end": 528,
                                                "count": 1
                                            }
                                        ]
                                    }
                                },
                                {
                                    "name": "AST",
                                    "dtype": "float64",
                                    "stats": {
                                        "unique_count": 8,
                                        "nan_count": 0,
                                        "min": "6.0",
                                        "max": "9640.0",
                                        "histogram": [
                                            {
                                                "bin_start": 6,
                                                "bin_end": 969.4,
                                                "count": 7
                                            },
                                            {
                                                "bin_start": 969.4,
                                                "bin_end": 1932.8,
                                                "count": 0
                                            },
                                            {
                                                "bin_start": 1932.8,
                                                "bin_end": 2896.2,
                                                "count": 0
                                            },
                                            {
                                                "bin_start": 2896.2,
                                                "bin_end": 3859.6,
                                                "count": 0
                                            },
                                            {
                                                "bin_start": 3859.6,
                                                "bin_end": 4823,
                                                "count": 0
                                            },
                                            {
                                                "bin_start": 4823,
                                                "bin_end": 5786.4,
                                                "count": 0
                                            },
                                            {
                                                "bin_start": 5786.4,
                                                "bin_end": 6749.8,
                                                "count": 0
                                            },
                                            {
                                                "bin_start": 6749.8,
                                                "bin_end": 7713.2,
                                                "count": 0
                                            },
                                            {
                                                "bin_start": 7713.2,
                                                "bin_end": 8676.6,
                                                "count": 0
                                            },
                                            {
                                                "bin_start": 8676.6,
                                                "bin_end": 9640,
                                                "count": 1
                                            }
                                        ]
                                    }
                                },
                                {
                                    "name": "BUN",
                                    "dtype": "float64",
                                    "stats": {
                                        "unique_count": 8,
                                        "nan_count": 0,
                                        "min": "1.0",
                                        "max": "1046.0",
                                        "histogram": [
                                            {
                                                "bin_start": 1,
                                                "bin_end": 105.5,
                                                "count": 6
                                            },
                                            {
                                                "bin_start": 105.5,
                                                "bin_end": 210,
                                                "count": 1
                                            },
                                            {
                                                "bin_start": 210,
                                                "bin_end": 314.5,
                                                "count": 0
                                            },
                                            {
                                                "bin_start": 314.5,
                                                "bin_end": 419,
                                                "count": 0
                                            },
                                            {
                                                "bin_start": 419,
                                                "bin_end": 523.5,
                                                "count": 0
                                            },
                                            {
                                                "bin_start": 523.5,
                                                "bin_end": 628,
                                                "count": 0
                                            },
                                            {
                                                "bin_start": 628,
                                                "bin_end": 732.5,
                                                "count": 0
                                            },
                                            {
                                                "bin_start": 732.5,
                                                "bin_end": 837,
                                                "count": 0
                                            },
                                            {
                                                "bin_start": 837,
                                                "bin_end": 941.5,
                                                "count": 0
                                            },
                                            {
                                                "bin_start": 941.5,
                                                "bin_end": 1046,
                                                "count": 1
                                            }
                                        ]
                                    }
                                },
                                {
                                    "name": "Alkalinephos",
                                    "dtype": "float64",
                                    "stats": {
                                        "unique_count": 8,
                                        "nan_count": 0,
                                        "min": "22.0",
                                        "max": "1129.0",
                                        "histogram": [
                                            {
                                                "bin_start": 22,
                                                "bin_end": 132.7,
                                                "count": 6
                                            },
                                            {
                                                "bin_start": 132.7,
                                                "bin_end": 243.4,
                                                "count": 0
                                            },
                                            {
                                                "bin_start": 243.4,
                                                "bin_end": 354.1,
                                                "count": 1
                                            },
                                            {
                                                "bin_start": 354.1,
                                                "bin_end": 464.8,
                                                "count": 0
                                            },
                                            {
                                                "bin_start": 464.8,
                                                "bin_end": 575.5,
                                                "count": 0
                                            },
                                            {
                                                "bin_start": 575.5,
                                                "bin_end": 686.2,
                                                "count": 0
                                            },
                                            {
                                                "bin_start": 686.2,
                                                "bin_end": 796.9,
                                                "count": 0
                                            },
                                            {
                                                "bin_start": 796.9,
                                                "bin_end": 907.6,
                                                "count": 0
                                            },
                                            {
                                                "bin_start": 907.6,
                                                "bin_end": 1018.3000000000001,
                                                "count": 0
                                            },
                                            {
                                                "bin_start": 1018.3000000000001,
                                                "bin_end": 1129,
                                                "count": 1
                                            }
                                        ]
                                    }
                                },
                                {
                                    "name": "Calcium",
                                    "dtype": "float64",
                                    "stats": {
                                        "unique_count": 8,
                                        "nan_count": 0,
                                        "min": "1.01",
                                        "max": "922.0",
                                        "histogram": [
                                            {
                                                "bin_start": 1.01,
                                                "bin_end": 93.10900000000001,
                                                "count": 7
                                            },
                                            {
                                                "bin_start": 93.10900000000001,
                                                "bin_end": 185.208,
                                                "count": 0
                                            },
                                            {
                                                "bin_start": 185.208,
                                                "bin_end": 277.307,
                                                "count": 0
                                            },
                                            {
                                                "bin_start": 277.307,
                                                "bin_end": 369.406,
                                                "count": 0
                                            },
                                            {
                                                "bin_start": 369.406,
                                                "bin_end": 461.505,
                                                "count": 0
                                            },
                                            {
                                                "bin_start": 461.505,
                                                "bin_end": 553.604,
                                                "count": 0
                                            },
                                            {
                                                "bin_start": 553.604,
                                                "bin_end": 645.703,
                                                "count": 0
                                            },
                                            {
                                                "bin_start": 645.703,
                                                "bin_end": 737.802,
                                                "count": 0
                                            },
                                            {
                                                "bin_start": 737.802,
                                                "bin_end": 829.9010000000001,
                                                "count": 0
                                            },
                                            {
                                                "bin_start": 829.9010000000001,
                                                "bin_end": 922,
                                                "count": 1
                                            }
                                        ]
                                    }
                                },
                                {
                                    "name": "Chloride",
                                    "dtype": "float64",
                                    "stats": {
                                        "unique_count": 8,
                                        "nan_count": 0,
                                        "min": "5.516872101525486",
                                        "max": "700.0",
                                        "histogram": [
                                            {
                                                "bin_start": 5.516872101525486,
                                                "bin_end": 74.96518489137293,
                                                "count": 1
                                            },
                                            {
                                                "bin_start": 74.96518489137293,
                                                "bin_end": 144.41349768122038,
                                                "count": 6
                                            },
                                            {
                                                "bin_start": 144.41349768122038,
                                                "bin_end": 213.86181047106783,
                                                "count": 0
                                            },
                                            {
                                                "bin_start": 213.86181047106783,
                                                "bin_end": 283.3101232609153,
                                                "count": 0
                                            },
                                            {
                                                "bin_start": 283.3101232609153,
                                                "bin_end": 352.7584360507628,
                                                "count": 0
                                            },
                                            {
                                                "bin_start": 352.7584360507628,
                                                "bin_end": 422.2067488406102,
                                                "count": 0
                                            },
                                            {
                                                "bin_start": 422.2067488406102,
                                                "bin_end": 491.6550616304576,
                                                "count": 0
                                            },
                                            {
                                                "bin_start": 491.6550616304576,
                                                "bin_end": 561.103374420305,
                                                "count": 0
                                            },
                                            {
                                                "bin_start": 561.103374420305,
                                                "bin_end": 630.5516872101525,
                                                "count": 0
                                            },
                                            {
                                                "bin_start": 630.5516872101525,
                                                "bin_end": 700,
                                                "count": 1
                                            }
                                        ]
                                    }
                                },
                                {
                                    "name": "Creatinine",
                                    "dtype": "float64",
                                    "stats": {
                                        "unique_count": 8,
                                        "nan_count": 0,
                                        "min": "0.2",
                                        "max": "931.0",
                                        "histogram": [
                                            {
                                                "bin_start": 0.2,
                                                "bin_end": 93.28,
                                                "count": 7
                                            },
                                            {
                                                "bin_start": 93.28,
                                                "bin_end": 186.35999999999999,
                                                "count": 0
                                            },
                                            {
                                                "bin_start": 186.35999999999999,
                                                "bin_end": 279.44,
                                                "count": 0
                                            },
                                            {
                                                "bin_start": 279.44,
                                                "bin_end": 372.52,
                                                "count": 0
                                            },
                                            {
                                                "bin_start": 372.52,
                                                "bin_end": 465.59999999999997,
                                                "count": 0
                                            },
                                            {
                                                "bin_start": 465.59999999999997,
                                                "bin_end": 558.6800000000001,
                                                "count": 0
                                            },
                                            {
                                                "bin_start": 558.6800000000001,
                                                "bin_end": 651.76,
                                                "count": 0
                                            },
                                            {
                                                "bin_start": 651.76,
                                                "bin_end": 744.84,
                                                "count": 0
                                            },
                                            {
                                                "bin_start": 744.84,
                                                "bin_end": 837.9200000000001,
                                                "count": 0
                                            },
                                            {
                                                "bin_start": 837.9200000000001,
                                                "bin_end": 931,
                                                "count": 1
                                            }
                                        ]
                                    }
                                },
                                {
                                    "name": "Bilirubin_direct",
                                    "dtype": "float64",
                                    "stats": {
                                        "unique_count": 8,
                                        "nan_count": 0,
                                        "min": "0.1",
                                        "max": "36.0",
                                        "histogram": [
                                            {
                                                "bin_start": 0.1,
                                                "bin_end": 3.69,
                                                "count": 6
                                            },
                                            {
                                                "bin_start": 3.69,
                                                "bin_end": 7.279999999999999,
                                                "count": 0
                                            },
                                            {
                                                "bin_start": 7.279999999999999,
                                                "bin_end": 10.87,
                                                "count": 1
                                            },
                                            {
                                                "bin_start": 10.87,
                                                "bin_end": 14.459999999999999,
                                                "count": 0
                                            },
                                            {
                                                "bin_start": 14.459999999999999,
                                                "bin_end": 18.05,
                                                "count": 0
                                            },
                                            {
                                                "bin_start": 18.05,
                                                "bin_end": 21.64,
                                                "count": 0
                                            },
                                            {
                                                "bin_start": 21.64,
                                                "bin_end": 25.23,
                                                "count": 0
                                            },
                                            {
                                                "bin_start": 25.23,
                                                "bin_end": 28.82,
                                                "count": 0
                                            },
                                            {
                                                "bin_start": 28.82,
                                                "bin_end": 32.410000000000004,
                                                "count": 0
                                            },
                                            {
                                                "bin_start": 32.410000000000004,
                                                "bin_end": 36,
                                                "count": 1
                                            }
                                        ]
                                    }
                                },
                                {
                                    "name": "Glucose",
                                    "dtype": "float64",
                                    "stats": {
                                        "unique_count": 8,
                                        "nan_count": 0,
                                        "min": "13.0",
                                        "max": "2639.0",
                                        "histogram": [
                                            {
                                                "bin_start": 13,
                                                "bin_end": 275.6,
                                                "count": 6
                                            },
                                            {
                                                "bin_start": 275.6,
                                                "bin_end": 538.2,
                                                "count": 1
                                            },
                                            {
                                                "bin_start": 538.2,
                                                "bin_end": 800.8000000000001,
                                                "count": 0
                                            },
                                            {
                                                "bin_start": 800.8000000000001,
                                                "bin_end": 1063.4,
                                                "count": 0
                                            },
                                            {
                                                "bin_start": 1063.4,
                                                "bin_end": 1326,
                                                "count": 0
                                            },
                                            {
                                                "bin_start": 1326,
                                                "bin_end": 1588.6000000000001,
                                                "count": 0
                                            },
                                            {
                                                "bin_start": 1588.6000000000001,
                                                "bin_end": 1851.2000000000003,
                                                "count": 0
                                            },
                                            {
                                                "bin_start": 1851.2000000000003,
                                                "bin_end": 2113.8,
                                                "count": 0
                                            },
                                            {
                                                "bin_start": 2113.8,
                                                "bin_end": 2376.4,
                                                "count": 0
                                            },
                                            {
                                                "bin_start": 2376.4,
                                                "bin_end": 2639,
                                                "count": 1
                                            }
                                        ]
                                    }
                                },
                                {
                                    "name": "Lactate",
                                    "dtype": "float64",
                                    "stats": {
                                        "unique_count": 8,
                                        "nan_count": 0,
                                        "min": "0.5",
                                        "max": "400.0",
                                        "histogram": [
                                            {
                                                "bin_start": 0.5,
                                                "bin_end": 40.45,
                                                "count": 7
                                            },
                                            {
                                                "bin_start": 40.45,
                                                "bin_end": 80.4,
                                                "count": 0
                                            },
                                            {
                                                "bin_start": 80.4,
                                                "bin_end": 120.35000000000001,
                                                "count": 0
                                            },
                                            {
                                                "bin_start": 120.35000000000001,
                                                "bin_end": 160.3,
                                                "count": 0
                                            },
                                            {
                                                "bin_start": 160.3,
                                                "bin_end": 200.25,
                                                "count": 0
                                            },
                                            {
                                                "bin_start": 200.25,
                                                "bin_end": 240.20000000000002,
                                                "count": 0
                                            },
                                            {
                                                "bin_start": 240.20000000000002,
                                                "bin_end": 280.15000000000003,
                                                "count": 0
                                            },
                                            {
                                                "bin_start": 280.15000000000003,
                                                "bin_end": 320.1,
                                                "count": 0
                                            },
                                            {
                                                "bin_start": 320.1,
                                                "bin_end": 360.05,
                                                "count": 0
                                            },
                                            {
                                                "bin_start": 360.05,
                                                "bin_end": 400,
                                                "count": 1
                                            }
                                        ]
                                    }
                                },
                                {
                                    "name": "Magnesium",
                                    "dtype": "float64",
                                    "stats": {
                                        "unique_count": 8,
                                        "nan_count": 0,
                                        "min": "0.3601751664611745",
                                        "max": "948.0",
                                        "histogram": [
                                            {
                                                "bin_start": 0.3601751664611745,
                                                "bin_end": 95.12415764981506,
                                                "count": 7
                                            },
                                            {
                                                "bin_start": 95.12415764981506,
                                                "bin_end": 189.88814013316895,
                                                "count": 0
                                            },
                                            {
                                                "bin_start": 189.88814013316895,
                                                "bin_end": 284.65212261652283,
                                                "count": 0
                                            },
                                            {
                                                "bin_start": 284.65212261652283,
                                                "bin_end": 379.4161050998767,
                                                "count": 0
                                            },
                                            {
                                                "bin_start": 379.4161050998767,
                                                "bin_end": 474.18008758323055,
                                                "count": 0
                                            },
                                            {
                                                "bin_start": 474.18008758323055,
                                                "bin_end": 568.9440700665846,
                                                "count": 0
                                            },
                                            {
                                                "bin_start": 568.9440700665846,
                                                "bin_end": 663.7080525499384,
                                                "count": 0
                                            },
                                            {
                                                "bin_start": 663.7080525499384,
                                                "bin_end": 758.4720350332923,
                                                "count": 0
                                            },
                                            {
                                                "bin_start": 758.4720350332923,
                                                "bin_end": 853.2360175166461,
                                                "count": 0
                                            },
                                            {
                                                "bin_start": 853.2360175166461,
                                                "bin_end": 948,
                                                "count": 1
                                            }
                                        ]
                                    }
                                },
                                {
                                    "name": "Phosphate",
                                    "dtype": "float64",
                                    "stats": {
                                        "unique_count": 8,
                                        "nan_count": 0,
                                        "min": "0.6",
                                        "max": "618.0",
                                        "histogram": [
                                            {
                                                "bin_start": 0.6,
                                                "bin_end": 62.339999999999996,
                                                "count": 7
                                            },
                                            {
                                                "bin_start": 62.339999999999996,
                                                "bin_end": 124.07999999999998,
                                                "count": 0
                                            },
                                            {
                                                "bin_start": 124.07999999999998,
                                                "bin_end": 185.81999999999996,
                                                "count": 0
                                            },
                                            {
                                                "bin_start": 185.81999999999996,
                                                "bin_end": 247.55999999999997,
                                                "count": 0
                                            },
                                            {
                                                "bin_start": 247.55999999999997,
                                                "bin_end": 309.3,
                                                "count": 0
                                            },
                                            {
                                                "bin_start": 309.3,
                                                "bin_end": 371.03999999999996,
                                                "count": 0
                                            },
                                            {
                                                "bin_start": 371.03999999999996,
                                                "bin_end": 432.78,
                                                "count": 0
                                            },
                                            {
                                                "bin_start": 432.78,
                                                "bin_end": 494.52,
                                                "count": 0
                                            },
                                            {
                                                "bin_start": 494.52,
                                                "bin_end": 556.26,
                                                "count": 0
                                            },
                                            {
                                                "bin_start": 556.26,
                                                "bin_end": 618,
                                                "count": 1
                                            }
                                        ]
                                    }
                                },
                                {
                                    "name": "Potassium",
                                    "dtype": "float64",
                                    "stats": {
                                        "unique_count": 8,
                                        "nan_count": 0,
                                        "min": "0.6090830592189787",
                                        "max": "1419.0",
                                        "histogram": [
                                            {
                                                "bin_start": 0.6090830592189787,
                                                "bin_end": 142.44817475329708,
                                                "count": 7
                                            },
                                            {
                                                "bin_start": 142.44817475329708,
                                                "bin_end": 284.28726644737515,
                                                "count": 0
                                            },
                                            {
                                                "bin_start": 284.28726644737515,
                                                "bin_end": 426.12635814145324,
                                                "count": 0
                                            },
                                            {
                                                "bin_start": 426.12635814145324,
                                                "bin_end": 567.9654498355313,
                                                "count": 0
                                            },
                                            {
                                                "bin_start": 567.9654498355313,
                                                "bin_end": 709.8045415296094,
                                                "count": 0
                                            },
                                            {
                                                "bin_start": 709.8045415296094,
                                                "bin_end": 851.6436332236875,
                                                "count": 0
                                            },
                                            {
                                                "bin_start": 851.6436332236875,
                                                "bin_end": 993.4827249177656,
                                                "count": 0
                                            },
                                            {
                                                "bin_start": 993.4827249177656,
                                                "bin_end": 1135.3218166118438,
                                                "count": 0
                                            },
                                            {
                                                "bin_start": 1135.3218166118438,
                                                "bin_end": 1277.1609083059218,
                                                "count": 0
                                            },
                                            {
                                                "bin_start": 1277.1609083059218,
                                                "bin_end": 1419,
                                                "count": 1
                                            }
                                        ]
                                    }
                                },
                                {
                                    "name": "Bilirubin_total",
                                    "dtype": "float64",
                                    "stats": {
                                        "unique_count": 8,
                                        "nan_count": 0,
                                        "min": "0.1",
                                        "max": "254.0",
                                        "histogram": [
                                            {
                                                "bin_start": 0.1,
                                                "bin_end": 25.490000000000002,
                                                "count": 6
                                            },
                                            {
                                                "bin_start": 25.490000000000002,
                                                "bin_end": 50.88,
                                                "count": 1
                                            },
                                            {
                                                "bin_start": 50.88,
                                                "bin_end": 76.27,
                                                "count": 0
                                            },
                                            {
                                                "bin_start": 76.27,
                                                "bin_end": 101.66,
                                                "count": 0
                                            },
                                            {
                                                "bin_start": 101.66,
                                                "bin_end": 127.05,
                                                "count": 0
                                            },
                                            {
                                                "bin_start": 127.05,
                                                "bin_end": 152.44,
                                                "count": 0
                                            },
                                            {
                                                "bin_start": 152.44,
                                                "bin_end": 177.83,
                                                "count": 0
                                            },
                                            {
                                                "bin_start": 177.83,
                                                "bin_end": 203.22,
                                                "count": 0
                                            },
                                            {
                                                "bin_start": 203.22,
                                                "bin_end": 228.60999999999999,
                                                "count": 0
                                            },
                                            {
                                                "bin_start": 228.60999999999999,
                                                "bin_end": 254,
                                                "count": 1
                                            }
                                        ]
                                    }
                                },
                                {
                                    "name": "TroponinI",
                                    "dtype": "float64",
                                    "stats": {
                                        "unique_count": 8,
                                        "nan_count": 0,
                                        "min": "0.01",
                                        "max": "200.0",
                                        "histogram": [
                                            {
                                                "bin_start": 0.01,
                                                "bin_end": 20.009000000000004,
                                                "count": 5
                                            },
                                            {
                                                "bin_start": 20.009000000000004,
                                                "bin_end": 40.008,
                                                "count": 1
                                            },
                                            {
                                                "bin_start": 40.008,
                                                "bin_end": 60.007000000000005,
                                                "count": 0
                                            },
                                            {
                                                "bin_start": 60.007000000000005,
                                                "bin_end": 80.00600000000001,
                                                "count": 0
                                            },
                                            {
                                                "bin_start": 80.00600000000001,
                                                "bin_end": 100.00500000000001,
                                                "count": 0
                                            },
                                            {
                                                "bin_start": 100.00500000000001,
                                                "bin_end": 120.00400000000002,
                                                "count": 0
                                            },
                                            {
                                                "bin_start": 120.00400000000002,
                                                "bin_end": 140.00300000000001,
                                                "count": 0
                                            },
                                            {
                                                "bin_start": 140.00300000000001,
                                                "bin_end": 160.002,
                                                "count": 1
                                            },
                                            {
                                                "bin_start": 160.002,
                                                "bin_end": 180.001,
                                                "count": 0
                                            },
                                            {
                                                "bin_start": 180.001,
                                                "bin_end": 200,
                                                "count": 1
                                            }
                                        ]
                                    }
                                },
                                {
                                    "name": "Hct",
                                    "dtype": "float64",
                                    "stats": {
                                        "unique_count": 8,
                                        "nan_count": 0,
                                        "min": "5.686551972120349",
                                        "max": "1326.0",
                                        "histogram": [
                                            {
                                                "bin_start": 5.686551972120349,
                                                "bin_end": 137.71789677490833,
                                                "count": 7
                                            },
                                            {
                                                "bin_start": 137.71789677490833,
                                                "bin_end": 269.7492415776963,
                                                "count": 0
                                            },
                                            {
                                                "bin_start": 269.7492415776963,
                                                "bin_end": 401.78058638048424,
                                                "count": 0
                                            },
                                            {
                                                "bin_start": 401.78058638048424,
                                                "bin_end": 533.8119311832722,
                                                "count": 0
                                            },
                                            {
                                                "bin_start": 533.8119311832722,
                                                "bin_end": 665.8432759860602,
                                                "count": 0
                                            },
                                            {
                                                "bin_start": 665.8432759860602,
                                                "bin_end": 797.8746207888481,
                                                "count": 0
                                            },
                                            {
                                                "bin_start": 797.8746207888481,
                                                "bin_end": 929.9059655916361,
                                                "count": 0
                                            },
                                            {
                                                "bin_start": 929.9059655916361,
                                                "bin_end": 1061.937310394424,
                                                "count": 0
                                            },
                                            {
                                                "bin_start": 1061.937310394424,
                                                "bin_end": 1193.968655197212,
                                                "count": 0
                                            },
                                            {
                                                "bin_start": 1193.968655197212,
                                                "bin_end": 1326,
                                                "count": 1
                                            }
                                        ]
                                    }
                                },
                                {
                                    "name": "Hgb",
                                    "dtype": "float64",
                                    "stats": {
                                        "unique_count": 8,
                                        "nan_count": 0,
                                        "min": "2.0037238794149865",
                                        "max": "1153.0",
                                        "histogram": [
                                            {
                                                "bin_start": 2.0037238794149865,
                                                "bin_end": 117.10335149147349,
                                                "count": 7
                                            },
                                            {
                                                "bin_start": 117.10335149147349,
                                                "bin_end": 232.202979103532,
                                                "count": 0
                                            },
                                            {
                                                "bin_start": 232.202979103532,
                                                "bin_end": 347.30260671559046,
                                                "count": 0
                                            },
                                            {
                                                "bin_start": 347.30260671559046,
                                                "bin_end": 462.40223432764896,
                                                "count": 0
                                            },
                                            {
                                                "bin_start": 462.40223432764896,
                                                "bin_end": 577.5018619397075,
                                                "count": 0
                                            },
                                            {
                                                "bin_start": 577.5018619397075,
                                                "bin_end": 692.601489551766,
                                                "count": 0
                                            },
                                            {
                                                "bin_start": 692.601489551766,
                                                "bin_end": 807.7011171638245,
                                                "count": 0
                                            },
                                            {
                                                "bin_start": 807.7011171638245,
                                                "bin_end": 922.800744775883,
                                                "count": 0
                                            },
                                            {
                                                "bin_start": 922.800744775883,
                                                "bin_end": 1037.9003723879416,
                                                "count": 0
                                            },
                                            {
                                                "bin_start": 1037.9003723879416,
                                                "bin_end": 1153,
                                                "count": 1
                                            }
                                        ]
                                    }
                                },
                                {
                                    "name": "PTT",
                                    "dtype": "float64",
                                    "stats": {
                                        "unique_count": 8,
                                        "nan_count": 0,
                                        "min": "19.4",
                                        "max": "457.0",
                                        "histogram": [
                                            {
                                                "bin_start": 19.4,
                                                "bin_end": 63.160000000000004,
                                                "count": 6
                                            },
                                            {
                                                "bin_start": 63.160000000000004,
                                                "bin_end": 106.92000000000002,
                                                "count": 0
                                            },
                                            {
                                                "bin_start": 106.92000000000002,
                                                "bin_end": 150.68000000000004,
                                                "count": 0
                                            },
                                            {
                                                "bin_start": 150.68000000000004,
                                                "bin_end": 194.44000000000003,
                                                "count": 0
                                            },
                                            {
                                                "bin_start": 194.44000000000003,
                                                "bin_end": 238.20000000000002,
                                                "count": 0
                                            },
                                            {
                                                "bin_start": 238.20000000000002,
                                                "bin_end": 281.96000000000004,
                                                "count": 1
                                            },
                                            {
                                                "bin_start": 281.96000000000004,
                                                "bin_end": 325.72,
                                                "count": 0
                                            },
                                            {
                                                "bin_start": 325.72,
                                                "bin_end": 369.48,
                                                "count": 0
                                            },
                                            {
                                                "bin_start": 369.48,
                                                "bin_end": 413.24,
                                                "count": 0
                                            },
                                            {
                                                "bin_start": 413.24,
                                                "bin_end": 457,
                                                "count": 1
                                            }
                                        ]
                                    }
                                },
                                {
                                    "name": "WBC",
                                    "dtype": "float64",
                                    "stats": {
                                        "unique_count": 8,
                                        "nan_count": 0,
                                        "min": "1.2",
                                        "max": "993.0",
                                        "histogram": [
                                            {
                                                "bin_start": 1.2,
                                                "bin_end": 100.38,
                                                "count": 7
                                            },
                                            {
                                                "bin_start": 100.38,
                                                "bin_end": 199.55999999999997,
                                                "count": 0
                                            },
                                            {
                                                "bin_start": 199.55999999999997,
                                                "bin_end": 298.73999999999995,
                                                "count": 0
                                            },
                                            {
                                                "bin_start": 298.73999999999995,
                                                "bin_end": 397.91999999999996,
                                                "count": 0
                                            },
                                            {
                                                "bin_start": 397.91999999999996,
                                                "bin_end": 497.09999999999997,
                                                "count": 0
                                            },
                                            {
                                                "bin_start": 497.09999999999997,
                                                "bin_end": 596.28,
                                                "count": 0
                                            },
                                            {
                                                "bin_start": 596.28,
                                                "bin_end": 695.46,
                                                "count": 0
                                            },
                                            {
                                                "bin_start": 695.46,
                                                "bin_end": 794.64,
                                                "count": 0
                                            },
                                            {
                                                "bin_start": 794.64,
                                                "bin_end": 893.8199999999999,
                                                "count": 0
                                            },
                                            {
                                                "bin_start": 893.8199999999999,
                                                "bin_end": 993,
                                                "count": 1
                                            }
                                        ]
                                    }
                                },
                                {
                                    "name": "Fibrinogen",
                                    "dtype": "float64",
                                    "stats": {
                                        "unique_count": 8,
                                        "nan_count": 0,
                                        "min": "52.0",
                                        "max": "816.0",
                                        "histogram": [
                                            {
                                                "bin_start": 52,
                                                "bin_end": 128.4,
                                                "count": 2
                                            },
                                            {
                                                "bin_start": 128.4,
                                                "bin_end": 204.8,
                                                "count": 2
                                            },
                                            {
                                                "bin_start": 204.8,
                                                "bin_end": 281.20000000000005,
                                                "count": 1
                                            },
                                            {
                                                "bin_start": 281.20000000000005,
                                                "bin_end": 357.6,
                                                "count": 2
                                            },
                                            {
                                                "bin_start": 357.6,
                                                "bin_end": 434,
                                                "count": 0
                                            },
                                            {
                                                "bin_start": 434,
                                                "bin_end": 510.40000000000003,
                                                "count": 0
                                            },
                                            {
                                                "bin_start": 510.40000000000003,
                                                "bin_end": 586.8000000000001,
                                                "count": 0
                                            },
                                            {
                                                "bin_start": 586.8000000000001,
                                                "bin_end": 663.2,
                                                "count": 0
                                            },
                                            {
                                                "bin_start": 663.2,
                                                "bin_end": 739.6,
                                                "count": 0
                                            },
                                            {
                                                "bin_start": 739.6,
                                                "bin_end": 816,
                                                "count": 1
                                            }
                                        ]
                                    }
                                },
                                {
                                    "name": "Platelets",
                                    "dtype": "float64",
                                    "stats": {
                                        "unique_count": 8,
                                        "nan_count": 0,
                                        "min": "8.0",
                                        "max": "931.0",
                                        "histogram": [
                                            {
                                                "bin_start": 8,
                                                "bin_end": 100.3,
                                                "count": 2
                                            },
                                            {
                                                "bin_start": 100.3,
                                                "bin_end": 192.6,
                                                "count": 3
                                            },
                                            {
                                                "bin_start": 192.6,
                                                "bin_end": 284.9,
                                                "count": 1
                                            },
                                            {
                                                "bin_start": 284.9,
                                                "bin_end": 377.2,
                                                "count": 0
                                            },
                                            {
                                                "bin_start": 377.2,
                                                "bin_end": 469.5,
                                                "count": 0
                                            },
                                            {
                                                "bin_start": 469.5,
                                                "bin_end": 561.8,
                                                "count": 0
                                            },
                                            {
                                                "bin_start": 561.8,
                                                "bin_end": 654.1,
                                                "count": 0
                                            },
                                            {
                                                "bin_start": 654.1,
                                                "bin_end": 746.4,
                                                "count": 0
                                            },
                                            {
                                                "bin_start": 746.4,
                                                "bin_end": 838.6999999999999,
                                                "count": 0
                                            },
                                            {
                                                "bin_start": 838.6999999999999,
                                                "bin_end": 931,
                                                "count": 2
                                            }
                                        ]
                                    }
                                },
                                {
                                    "name": "Age",
                                    "dtype": "float64",
                                    "stats": {
                                        "unique_count": 8,
                                        "nan_count": 0,
                                        "min": "15.0",
                                        "max": "15522.0",
                                        "histogram": [
                                            {
                                                "bin_start": 15,
                                                "bin_end": 1565.7,
                                                "count": 7
                                            },
                                            {
                                                "bin_start": 1565.7,
                                                "bin_end": 3116.4,
                                                "count": 0
                                            },
                                            {
                                                "bin_start": 3116.4,
                                                "bin_end": 4667.1,
                                                "count": 0
                                            },
                                            {
                                                "bin_start": 4667.1,
                                                "bin_end": 6217.8,
                                                "count": 0
                                            },
                                            {
                                                "bin_start": 6217.8,
                                                "bin_end": 7768.5,
                                                "count": 0
                                            },
                                            {
                                                "bin_start": 7768.5,
                                                "bin_end": 9319.2,
                                                "count": 0
                                            },
                                            {
                                                "bin_start": 9319.2,
                                                "bin_end": 10869.9,
                                                "count": 0
                                            },
                                            {
                                                "bin_start": 10869.9,
                                                "bin_end": 12420.6,
                                                "count": 0
                                            },
                                            {
                                                "bin_start": 12420.6,
                                                "bin_end": 13971.300000000001,
                                                "count": 0
                                            },
                                            {
                                                "bin_start": 13971.300000000001,
                                                "bin_end": 15522,
                                                "count": 1
                                            }
                                        ]
                                    }
                                },
                                {
                                    "name": "Gender",
                                    "dtype": "float64",
                                    "stats": {
                                        "unique_count": 5,
                                        "nan_count": 0,
                                        "min": "0.0",
                                        "max": "15522.0",
                                        "histogram": [
                                            {
                                                "bin_start": 0,
                                                "bin_end": 1552.2,
                                                "count": 7
                                            },
                                            {
                                                "bin_start": 1552.2,
                                                "bin_end": 3104.4,
                                                "count": 0
                                            },
                                            {
                                                "bin_start": 3104.4,
                                                "bin_end": 4656.6,
                                                "count": 0
                                            },
                                            {
                                                "bin_start": 4656.6,
                                                "bin_end": 6208.8,
                                                "count": 0
                                            },
                                            {
                                                "bin_start": 6208.8,
                                                "bin_end": 7761,
                                                "count": 0
                                            },
                                            {
                                                "bin_start": 7761,
                                                "bin_end": 9313.2,
                                                "count": 0
                                            },
                                            {
                                                "bin_start": 9313.2,
                                                "bin_end": 10865.4,
                                                "count": 0
                                            },
                                            {
                                                "bin_start": 10865.4,
                                                "bin_end": 12417.6,
                                                "count": 0
                                            },
                                            {
                                                "bin_start": 12417.6,
                                                "bin_end": 13969.800000000001,
                                                "count": 0
                                            },
                                            {
                                                "bin_start": 13969.800000000001,
                                                "bin_end": 15522,
                                                "count": 1
                                            }
                                        ]
                                    }
                                },
                                {
                                    "name": "Unit1",
                                    "dtype": "float64",
                                    "stats": {
                                        "unique_count": 5,
                                        "nan_count": 0,
                                        "min": "0.0",
                                        "max": "9418.0",
                                        "histogram": [
                                            {
                                                "bin_start": 0,
                                                "bin_end": 941.8,
                                                "count": 7
                                            },
                                            {
                                                "bin_start": 941.8,
                                                "bin_end": 1883.6,
                                                "count": 0
                                            },
                                            {
                                                "bin_start": 1883.6,
                                                "bin_end": 2825.3999999999996,
                                                "count": 0
                                            },
                                            {
                                                "bin_start": 2825.3999999999996,
                                                "bin_end": 3767.2,
                                                "count": 0
                                            },
                                            {
                                                "bin_start": 3767.2,
                                                "bin_end": 4709,
                                                "count": 0
                                            },
                                            {
                                                "bin_start": 4709,
                                                "bin_end": 5650.799999999999,
                                                "count": 0
                                            },
                                            {
                                                "bin_start": 5650.799999999999,
                                                "bin_end": 6592.599999999999,
                                                "count": 0
                                            },
                                            {
                                                "bin_start": 6592.599999999999,
                                                "bin_end": 7534.4,
                                                "count": 0
                                            },
                                            {
                                                "bin_start": 7534.4,
                                                "bin_end": 8476.199999999999,
                                                "count": 0
                                            },
                                            {
                                                "bin_start": 8476.199999999999,
                                                "bin_end": 9418,
                                                "count": 1
                                            }
                                        ]
                                    }
                                },
                                {
                                    "name": "Unit2",
                                    "dtype": "float64",
                                    "stats": {
                                        "unique_count": 5,
                                        "nan_count": 0,
                                        "min": "0.0",
                                        "max": "9418.0",
                                        "histogram": [
                                            {
                                                "bin_start": 0,
                                                "bin_end": 941.8,
                                                "count": 7
                                            },
                                            {
                                                "bin_start": 941.8,
                                                "bin_end": 1883.6,
                                                "count": 0
                                            },
                                            {
                                                "bin_start": 1883.6,
                                                "bin_end": 2825.3999999999996,
                                                "count": 0
                                            },
                                            {
                                                "bin_start": 2825.3999999999996,
                                                "bin_end": 3767.2,
                                                "count": 0
                                            },
                                            {
                                                "bin_start": 3767.2,
                                                "bin_end": 4709,
                                                "count": 0
                                            },
                                            {
                                                "bin_start": 4709,
                                                "bin_end": 5650.799999999999,
                                                "count": 0
                                            },
                                            {
                                                "bin_start": 5650.799999999999,
                                                "bin_end": 6592.599999999999,
                                                "count": 0
                                            },
                                            {
                                                "bin_start": 6592.599999999999,
                                                "bin_end": 7534.4,
                                                "count": 0
                                            },
                                            {
                                                "bin_start": 7534.4,
                                                "bin_end": 8476.199999999999,
                                                "count": 0
                                            },
                                            {
                                                "bin_start": 8476.199999999999,
                                                "bin_end": 9418,
                                                "count": 1
                                            }
                                        ]
                                    }
                                },
                                {
                                    "name": "HospAdmTime",
                                    "dtype": "float64",
                                    "stats": {
                                        "unique_count": 8,
                                        "nan_count": 0,
                                        "min": "-5366.86",
                                        "max": "15522.0",
                                        "histogram": [
                                            {
                                                "bin_start": -5366.86,
                                                "bin_end": -3277.9739999999997,
                                                "count": 1
                                            },
                                            {
                                                "bin_start": -3277.9739999999997,
                                                "bin_end": -1189.0879999999997,
                                                "count": 0
                                            },
                                            {
                                                "bin_start": -1189.0879999999997,
                                                "bin_end": 899.7979999999998,
                                                "count": 6
                                            },
                                            {
                                                "bin_start": 899.7979999999998,
                                                "bin_end": 2988.684,
                                                "count": 0
                                            },
                                            {
                                                "bin_start": 2988.684,
                                                "bin_end": 5077.570000000001,
                                                "count": 0
                                            },
                                            {
                                                "bin_start": 5077.570000000001,
                                                "bin_end": 7166.455999999999,
                                                "count": 0
                                            },
                                            {
                                                "bin_start": 7166.455999999999,
                                                "bin_end": 9255.342,
                                                "count": 0
                                            },
                                            {
                                                "bin_start": 9255.342,
                                                "bin_end": 11344.228,
                                                "count": 0
                                            },
                                            {
                                                "bin_start": 11344.228,
                                                "bin_end": 13433.113999999998,
                                                "count": 0
                                            },
                                            {
                                                "bin_start": 13433.113999999998,
                                                "bin_end": 15522,
                                                "count": 1
                                            }
                                        ]
                                    }
                                },
                                {
                                    "name": "ICULOS",
                                    "dtype": "float64",
                                    "stats": {
                                        "unique_count": 8,
                                        "nan_count": 0,
                                        "min": "1.0",
                                        "max": "15522.0",
                                        "histogram": [
                                            {
                                                "bin_start": 1,
                                                "bin_end": 1553.1,
                                                "count": 7
                                            },
                                            {
                                                "bin_start": 1553.1,
                                                "bin_end": 3105.2,
                                                "count": 0
                                            },
                                            {
                                                "bin_start": 3105.2,
                                                "bin_end": 4657.299999999999,
                                                "count": 0
                                            },
                                            {
                                                "bin_start": 4657.299999999999,
                                                "bin_end": 6209.4,
                                                "count": 0
                                            },
                                            {
                                                "bin_start": 6209.4,
                                                "bin_end": 7761.5,
                                                "count": 0
                                            },
                                            {
                                                "bin_start": 7761.5,
                                                "bin_end": 9313.599999999999,
                                                "count": 0
                                            },
                                            {
                                                "bin_start": 9313.599999999999,
                                                "bin_end": 10865.699999999999,
                                                "count": 0
                                            },
                                            {
                                                "bin_start": 10865.699999999999,
                                                "bin_end": 12417.8,
                                                "count": 0
                                            },
                                            {
                                                "bin_start": 12417.8,
                                                "bin_end": 13969.9,
                                                "count": 0
                                            },
                                            {
                                                "bin_start": 13969.9,
                                                "bin_end": 15522,
                                                "count": 1
                                            }
                                        ]
                                    }
                                },
                                {
                                    "name": "SepsisLabel",
                                    "dtype": "float64",
                                    "stats": {
                                        "unique_count": 5,
                                        "nan_count": 0,
                                        "min": "0.0",
                                        "max": "15522.0",
                                        "histogram": [
                                            {
                                                "bin_start": 0,
                                                "bin_end": 1552.2,
                                                "count": 7
                                            },
                                            {
                                                "bin_start": 1552.2,
                                                "bin_end": 3104.4,
                                                "count": 0
                                            },
                                            {
                                                "bin_start": 3104.4,
                                                "bin_end": 4656.6,
                                                "count": 0
                                            },
                                            {
                                                "bin_start": 4656.6,
                                                "bin_end": 6208.8,
                                                "count": 0
                                            },
                                            {
                                                "bin_start": 6208.8,
                                                "bin_end": 7761,
                                                "count": 0
                                            },
                                            {
                                                "bin_start": 7761,
                                                "bin_end": 9313.2,
                                                "count": 0
                                            },
                                            {
                                                "bin_start": 9313.2,
                                                "bin_end": 10865.4,
                                                "count": 0
                                            },
                                            {
                                                "bin_start": 10865.4,
                                                "bin_end": 12417.6,
                                                "count": 0
                                            },
                                            {
                                                "bin_start": 12417.6,
                                                "bin_end": 13969.800000000001,
                                                "count": 0
                                            },
                                            {
                                                "bin_start": 13969.800000000001,
                                                "bin_end": 15522,
                                                "count": 1
                                            }
                                        ]
                                    }
                                },
                                {
                                    "name": "Patient_ID",
                                    "dtype": "float64",
                                    "stats": {
                                        "unique_count": 8,
                                        "nan_count": 0,
                                        "min": "9.0",
                                        "max": "119992.0",
                                        "histogram": [
                                            {
                                                "bin_start": 9,
                                                "bin_end": 12007.3,
                                                "count": 2
                                            },
                                            {
                                                "bin_start": 12007.3,
                                                "bin_end": 24005.6,
                                                "count": 2
                                            },
                                            {
                                                "bin_start": 24005.6,
                                                "bin_end": 36003.899999999994,
                                                "count": 0
                                            },
                                            {
                                                "bin_start": 36003.899999999994,
                                                "bin_end": 48002.2,
                                                "count": 0
                                            },
                                            {
                                                "bin_start": 48002.2,
                                                "bin_end": 60000.5,
                                                "count": 2
                                            },
                                            {
                                                "bin_start": 60000.5,
                                                "bin_end": 71998.79999999999,
                                                "count": 0
                                            },
                                            {
                                                "bin_start": 71998.79999999999,
                                                "bin_end": 83997.09999999999,
                                                "count": 0
                                            },
                                            {
                                                "bin_start": 83997.09999999999,
                                                "bin_end": 95995.4,
                                                "count": 0
                                            },
                                            {
                                                "bin_start": 95995.4,
                                                "bin_end": 107993.7,
                                                "count": 0
                                            },
                                            {
                                                "bin_start": 107993.7,
                                                "bin_end": 119992,
                                                "count": 2
                                            }
                                        ]
                                    }
                                },
                                {
                                    "name": "_deepnote_index_column",
                                    "dtype": "object"
                                }
                            ],
                            "rows": [
                                {
                                    "Unnamed: 0.1": 15522,
                                    "Unnamed: 0": 15522,
                                    "Hour": 15522,
                                    "HR": 13933,
                                    "O2Sat": 13479,
                                    "Temp": 5204,
                                    "SBP": 13204,
                                    "MAP": 13522,
                                    "DBP": 10628,
                                    "Resp": 13048,
                                    "EtCO2": 570,
                                    "BaseExcess": 779,
                                    "HCO3": 643,
                                    "FiO2": 1232,
                                    "pH": 1001,
                                    "PaCO2": 821,
                                    "SaO2": 528,
                                    "AST": 261,
                                    "BUN": 1046,
                                    "Alkalinephos": 263,
                                    "Calcium": 922,
                                    "Chloride": 700,
                                    "Creatinine": 931,
                                    "Bilirubin_direct": 36,
                                    "Glucose": 2639,
                                    "Lactate": 400,
                                    "Magnesium": 948,
                                    "Phosphate": 618,
                                    "Potassium": 1419,
                                    "Bilirubin_total": 254,
                                    "TroponinI": 148,
                                    "Hct": 1326,
                                    "Hgb": 1153,
                                    "PTT": 457,
                                    "WBC": 993,
                                    "Fibrinogen": 108,
                                    "Platelets": 931,
                                    "Age": 15522,
                                    "Gender": 15522,
                                    "Unit1": 9418,
                                    "Unit2": 9418,
                                    "HospAdmTime": 15522,
                                    "ICULOS": 15522,
                                    "SepsisLabel": 15522,
                                    "Patient_ID": 15522,
                                    "_deepnote_index_column": "count"
                                },
                                {
                                    "Unnamed: 0.1": 778737.4487179487,
                                    "Unnamed: 0": 25.39595412962247,
                                    "Hour": 25.39595412962247,
                                    "HR": 84.57191559606689,
                                    "O2Sat": 97.16073150827212,
                                    "Temp": 36.965436202920834,
                                    "SBP": 123.53205468039988,
                                    "MAP": 82.13689616920573,
                                    "DBP": 63.60458223560406,
                                    "Resp": 18.746417075413856,
                                    "EtCO2": 32.67982456140351,
                                    "BaseExcess": -0.728369704749679,
                                    "HCO3": 24.345256609642302,
                                    "FiO2": 0.5334172077922078,
                                    "pH": 7.372707292707292,
                                    "PaCO2": 41.35736906211936,
                                    "SaO2": 92.47575757575757,
                                    "AST": 318.53256704980845,
                                    "BUN": 24.632887189292543,
                                    "Alkalinephos": 100.0190114068441,
                                    "Calcium": 7.474533622559653,
                                    "Chloride": 105.47857142857143,
                                    "Creatinine": 1.5938131041890442,
                                    "Bilirubin_direct": 1.0536111111111113,
                                    "Glucose": 135.1488253126184,
                                    "Lactate": 2.8101250000000007,
                                    "Magnesium": 2.0420886075949367,
                                    "Phosphate": 3.5669902912621354,
                                    "Potassium": 4.13291754756871,
                                    "Bilirubin_total": 1.8326771653543308,
                                    "TroponinI": 11.768918918918917,
                                    "Hct": 30.770965309200605,
                                    "Hgb": 10.42489158716392,
                                    "PTT": 41.839824945295405,
                                    "WBC": 11.4392749244713,
                                    "Fibrinogen": 289.72222222222223,
                                    "Platelets": 191.36358754027927,
                                    "Age": 61.987202035820125,
                                    "Gender": 0.5589485890993429,
                                    "Unit1": 0.49617753238479506,
                                    "Unit2": 0.5038224676152049,
                                    "HospAdmTime": -55.780406519778374,
                                    "ICULOS": 26.870377528668985,
                                    "SepsisLabel": 0.01778121376111326,
                                    "Patient_ID": 59807.965532792165,
                                    "_deepnote_index_column": "mean"
                                },
                                {
                                    "Unnamed: 0.1": 448228.3441558219,
                                    "Unnamed: 0": 28.845925111243044,
                                    "Hour": 28.845925111243044,
                                    "HR": 17.398287205550364,
                                    "O2Sat": 2.978057275527211,
                                    "Temp": 0.7706061311111198,
                                    "SBP": 23.34964077490138,
                                    "MAP": 16.55859653278572,
                                    "DBP": 14.262690566932553,
                                    "Resp": 5.159580857238931,
                                    "EtCO2": 8.288760253626727,
                                    "BaseExcess": 4.6947193204817,
                                    "HCO3": 4.330079001937596,
                                    "FiO2": 0.1971806018045938,
                                    "pH": 0.07689709511264545,
                                    "PaCO2": 9.702318550988036,
                                    "SaO2": 11.433054022555607,
                                    "AST": 906.1824255404565,
                                    "BUN": 19.86074796532813,
                                    "Alkalinephos": 97.07927241883355,
                                    "Calcium": 2.5334630908803657,
                                    "Chloride": 5.516872101525486,
                                    "Creatinine": 1.9123775562687848,
                                    "Bilirubin_direct": 1.5005620904519703,
                                    "Glucose": 49.27843295263968,
                                    "Lactate": 2.879732780414092,
                                    "Magnesium": 0.3601751664611745,
                                    "Phosphate": 1.4559922579928388,
                                    "Potassium": 0.6090830592189787,
                                    "Bilirubin_total": 3.2439659884316026,
                                    "TroponinI": 30.295560486940506,
                                    "Hct": 5.686551972120349,
                                    "Hgb": 2.0037238794149865,
                                    "PTT": 28.1063564010835,
                                    "WBC": 6.582973308359545,
                                    "Fibrinogen": 156.0844387660798,
                                    "Platelets": 97.33013974517165,
                                    "Age": 16.365492046565276,
                                    "Gender": 0.4965288986219069,
                                    "Unit1": 0.5000119347801323,
                                    "Unit2": 0.5000119347801322,
                                    "HospAdmTime": 163.00991705555379,
                                    "ICULOS": 28.86079531236033,
                                    "SepsisLabel": 0.13215962867182773,
                                    "Patient_ID": 50286.653499897046,
                                    "_deepnote_index_column": "std"
                                },
                                {
                                    "Unnamed: 0.1": 12,
                                    "Unnamed: 0": 0,
                                    "Hour": 0,
                                    "HR": 31,
                                    "O2Sat": 20,
                                    "Temp": 31.9,
                                    "SBP": 39,
                                    "MAP": 21,
                                    "DBP": 20,
                                    "Resp": 1,
                                    "EtCO2": 10,
                                    "BaseExcess": -20,
                                    "HCO3": 7,
                                    "FiO2": 0,
                                    "pH": 6.93,
                                    "PaCO2": 16,
                                    "SaO2": 37,
                                    "AST": 6,
                                    "BUN": 1,
                                    "Alkalinephos": 22,
                                    "Calcium": 1.01,
                                    "Chloride": 82,
                                    "Creatinine": 0.2,
                                    "Bilirubin_direct": 0.1,
                                    "Glucose": 13,
                                    "Lactate": 0.5,
                                    "Magnesium": 0.9,
                                    "Phosphate": 0.6,
                                    "Potassium": 2.6,
                                    "Bilirubin_total": 0.1,
                                    "TroponinI": 0.01,
                                    "Hct": 9.7,
                                    "Hgb": 3.2,
                                    "PTT": 19.4,
                                    "WBC": 1.2,
                                    "Fibrinogen": 52,
                                    "Platelets": 8,
                                    "Age": 15,
                                    "Gender": 0,
                                    "Unit1": 0,
                                    "Unit2": 0,
                                    "HospAdmTime": -5366.86,
                                    "ICULOS": 1,
                                    "SepsisLabel": 0,
                                    "Patient_ID": 9,
                                    "_deepnote_index_column": "min"
                                },
                                {
                                    "Unnamed: 0.1": 391385,
                                    "Unnamed: 0": 9,
                                    "Hour": 9,
                                    "HR": 72,
                                    "O2Sat": 96,
                                    "Temp": 36.5,
                                    "SBP": 106.25,
                                    "MAP": 71,
                                    "DBP": 54,
                                    "Resp": 15.5,
                                    "EtCO2": 28,
                                    "BaseExcess": -3,
                                    "HCO3": 22,
                                    "FiO2": 0.4,
                                    "pH": 7.33,
                                    "PaCO2": 36,
                                    "SaO2": 95,
                                    "AST": 22,
                                    "BUN": 12,
                                    "Alkalinephos": 54.5,
                                    "Calcium": 7.6,
                                    "Chloride": 102,
                                    "Creatinine": 0.7,
                                    "Bilirubin_direct": 0.11499999999999999,
                                    "Glucose": 105,
                                    "Lactate": 1.26,
                                    "Magnesium": 1.8,
                                    "Phosphate": 2.7,
                                    "Potassium": 3.8,
                                    "Bilirubin_total": 0.5,
                                    "TroponinI": 0.03,
                                    "Hct": 27,
                                    "Hgb": 9,
                                    "PTT": 27.9,
                                    "WBC": 7.5,
                                    "Fibrinogen": 191.5,
                                    "Platelets": 123.5,
                                    "Age": 52,
                                    "Gender": 0,
                                    "Unit1": 0,
                                    "Unit2": 0,
                                    "HospAdmTime": -45.7725,
                                    "ICULOS": 11,
                                    "SepsisLabel": 0,
                                    "Patient_ID": 10241,
                                    "_deepnote_index_column": "25%"
                                },
                                {
                                    "Unnamed: 0.1": 784222,
                                    "Unnamed: 0": 19,
                                    "Hour": 19,
                                    "HR": 83,
                                    "O2Sat": 98,
                                    "Temp": 37,
                                    "SBP": 121,
                                    "MAP": 80,
                                    "DBP": 62,
                                    "Resp": 18,
                                    "EtCO2": 33,
                                    "BaseExcess": 0,
                                    "HCO3": 24,
                                    "FiO2": 0.5,
                                    "pH": 7.38,
                                    "PaCO2": 40,
                                    "SaO2": 97,
                                    "AST": 43,
                                    "BUN": 18,
                                    "Alkalinephos": 78,
                                    "Calcium": 8.2,
                                    "Chloride": 106,
                                    "Creatinine": 1,
                                    "Bilirubin_direct": 0.375,
                                    "Glucose": 125,
                                    "Lactate": 1.85,
                                    "Magnesium": 2,
                                    "Phosphate": 3.3,
                                    "Potassium": 4.1,
                                    "Bilirubin_total": 0.9,
                                    "TroponinI": 0.33499999999999996,
                                    "Hct": 30.2,
                                    "Hgb": 10.3,
                                    "PTT": 31.9,
                                    "WBC": 10.4,
                                    "Fibrinogen": 258.5,
                                    "Platelets": 180,
                                    "Age": 64,
                                    "Gender": 1,
                                    "Unit1": 0,
                                    "Unit2": 1,
                                    "HospAdmTime": -6.12,
                                    "ICULOS": 21,
                                    "SepsisLabel": 0,
                                    "Patient_ID": 20493.5,
                                    "_deepnote_index_column": "50%"
                                },
                                {
                                    "Unnamed: 0.1": 1164367.25,
                                    "Unnamed: 0": 33,
                                    "Hour": 33,
                                    "HR": 95,
                                    "O2Sat": 99.5,
                                    "Temp": 37.44,
                                    "SBP": 138,
                                    "MAP": 91.67,
                                    "DBP": 72,
                                    "Resp": 21,
                                    "EtCO2": 38,
                                    "BaseExcess": 1,
                                    "HCO3": 27,
                                    "FiO2": 0.6,
                                    "pH": 7.42,
                                    "PaCO2": 45.5,
                                    "SaO2": 98,
                                    "AST": 189,
                                    "BUN": 30,
                                    "Alkalinephos": 103,
                                    "Calcium": 8.7,
                                    "Chloride": 109,
                                    "Creatinine": 1.58,
                                    "Bilirubin_direct": 1.6500000000000001,
                                    "Glucose": 153,
                                    "Lactate": 3.2,
                                    "Magnesium": 2.2,
                                    "Phosphate": 4.1,
                                    "Potassium": 4.4,
                                    "Bilirubin_total": 1.8,
                                    "TroponinI": 4.1725,
                                    "Hct": 34.3,
                                    "Hgb": 11.7,
                                    "PTT": 42.9,
                                    "WBC": 14,
                                    "Fibrinogen": 322.75,
                                    "Platelets": 237.5,
                                    "Age": 74,
                                    "Gender": 1,
                                    "Unit1": 1,
                                    "Unit2": 1,
                                    "HospAdmTime": -0.04,
                                    "ICULOS": 34,
                                    "SepsisLabel": 0,
                                    "Patient_ID": 110087,
                                    "_deepnote_index_column": "75%"
                                },
                                {
                                    "Unnamed: 0.1": 1552206,
                                    "Unnamed: 0": 329,
                                    "Hour": 329,
                                    "HR": 181,
                                    "O2Sat": 100,
                                    "Temp": 42.22,
                                    "SBP": 296,
                                    "MAP": 296,
                                    "DBP": 296,
                                    "Resp": 99,
                                    "EtCO2": 79,
                                    "BaseExcess": 49.5,
                                    "HCO3": 45,
                                    "FiO2": 1,
                                    "pH": 7.64,
                                    "PaCO2": 98,
                                    "SaO2": 99.9,
                                    "AST": 9640,
                                    "BUN": 148,
                                    "Alkalinephos": 1129,
                                    "Calcium": 17.6,
                                    "Chloride": 121,
                                    "Creatinine": 19.89,
                                    "Bilirubin_direct": 7.7,
                                    "Glucose": 485,
                                    "Lactate": 17.9,
                                    "Magnesium": 4.3,
                                    "Phosphate": 12,
                                    "Potassium": 8.8,
                                    "Bilirubin_total": 26.5,
                                    "TroponinI": 200,
                                    "Hct": 55,
                                    "Hgb": 18.4,
                                    "PTT": 249,
                                    "WBC": 93.9,
                                    "Fibrinogen": 816,
                                    "Platelets": 902,
                                    "Age": 100,
                                    "Gender": 1,
                                    "Unit1": 1,
                                    "Unit2": 1,
                                    "HospAdmTime": 22.04,
                                    "ICULOS": 330,
                                    "SepsisLabel": 1,
                                    "Patient_ID": 119992,
                                    "_deepnote_index_column": "max"
                                }
                            ]
                        },
                        "text/plain": "       Unnamed: 0.1    Unnamed: 0          Hour            HR         O2Sat  \\\ncount  1.552200e+04  15522.000000  15522.000000  13933.000000  13479.000000   \nmean   7.787374e+05     25.395954     25.395954     84.571916     97.160732   \nstd    4.482283e+05     28.845925     28.845925     17.398287      2.978057   \nmin    1.200000e+01      0.000000      0.000000     31.000000     20.000000   \n25%    3.913850e+05      9.000000      9.000000     72.000000     96.000000   \n50%    7.842220e+05     19.000000     19.000000     83.000000     98.000000   \n75%    1.164367e+06     33.000000     33.000000     95.000000     99.500000   \nmax    1.552206e+06    329.000000    329.000000    181.000000    100.000000   \n\n              Temp           SBP           MAP           DBP          Resp  \\\ncount  5204.000000  13204.000000  13522.000000  10628.000000  13048.000000   \nmean     36.965436    123.532055     82.136896     63.604582     18.746417   \nstd       0.770606     23.349641     16.558597     14.262691      5.159581   \nmin      31.900000     39.000000     21.000000     20.000000      1.000000   \n25%      36.500000    106.250000     71.000000     54.000000     15.500000   \n50%      37.000000    121.000000     80.000000     62.000000     18.000000   \n75%      37.440000    138.000000     91.670000     72.000000     21.000000   \nmax      42.220000    296.000000    296.000000    296.000000     99.000000   \n\n       ...  Fibrinogen   Platelets           Age        Gender        Unit1  \\\ncount  ...  108.000000  931.000000  15522.000000  15522.000000  9418.000000   \nmean   ...  289.722222  191.363588     61.987202      0.558949     0.496178   \nstd    ...  156.084439   97.330140     16.365492      0.496529     0.500012   \nmin    ...   52.000000    8.000000     15.000000      0.000000     0.000000   \n25%    ...  191.500000  123.500000     52.000000      0.000000     0.000000   \n50%    ...  258.500000  180.000000     64.000000      1.000000     0.000000   \n75%    ...  322.750000  237.500000     74.000000      1.000000     1.000000   \nmax    ...  816.000000  902.000000    100.000000      1.000000     1.000000   \n\n             Unit2   HospAdmTime        ICULOS   SepsisLabel     Patient_ID  \ncount  9418.000000  15522.000000  15522.000000  15522.000000   15522.000000  \nmean      0.503822    -55.780407     26.870378      0.017781   59807.965533  \nstd       0.500012    163.009917     28.860795      0.132160   50286.653500  \nmin       0.000000  -5366.860000      1.000000      0.000000       9.000000  \n25%       0.000000    -45.772500     11.000000      0.000000   10241.000000  \n50%       1.000000     -6.120000     21.000000      0.000000   20493.500000  \n75%       1.000000     -0.040000     34.000000      0.000000  110087.000000  \nmax       1.000000     22.040000    330.000000      1.000000  119992.000000  \n\n[8 rows x 45 columns]",
                        "text/html": "<div>\n<style scoped>\n    .dataframe tbody tr th:only-of-type {\n        vertical-align: middle;\n    }\n\n    .dataframe tbody tr th {\n        vertical-align: top;\n    }\n\n    .dataframe thead th {\n        text-align: right;\n    }\n</style>\n<table border=\"1\" class=\"dataframe\">\n  <thead>\n    <tr style=\"text-align: right;\">\n      <th></th>\n      <th>Unnamed: 0.1</th>\n      <th>Unnamed: 0</th>\n      <th>Hour</th>\n      <th>HR</th>\n      <th>O2Sat</th>\n      <th>Temp</th>\n      <th>SBP</th>\n      <th>MAP</th>\n      <th>DBP</th>\n      <th>Resp</th>\n      <th>...</th>\n      <th>Fibrinogen</th>\n      <th>Platelets</th>\n      <th>Age</th>\n      <th>Gender</th>\n      <th>Unit1</th>\n      <th>Unit2</th>\n      <th>HospAdmTime</th>\n      <th>ICULOS</th>\n      <th>SepsisLabel</th>\n      <th>Patient_ID</th>\n    </tr>\n  </thead>\n  <tbody>\n    <tr>\n      <th>count</th>\n      <td>1.552200e+04</td>\n      <td>15522.000000</td>\n      <td>15522.000000</td>\n      <td>13933.000000</td>\n      <td>13479.000000</td>\n      <td>5204.000000</td>\n      <td>13204.000000</td>\n      <td>13522.000000</td>\n      <td>10628.000000</td>\n      <td>13048.000000</td>\n      <td>...</td>\n      <td>108.000000</td>\n      <td>931.000000</td>\n      <td>15522.000000</td>\n      <td>15522.000000</td>\n      <td>9418.000000</td>\n      <td>9418.000000</td>\n      <td>15522.000000</td>\n      <td>15522.000000</td>\n      <td>15522.000000</td>\n      <td>15522.000000</td>\n    </tr>\n    <tr>\n      <th>mean</th>\n      <td>7.787374e+05</td>\n      <td>25.395954</td>\n      <td>25.395954</td>\n      <td>84.571916</td>\n      <td>97.160732</td>\n      <td>36.965436</td>\n      <td>123.532055</td>\n      <td>82.136896</td>\n      <td>63.604582</td>\n      <td>18.746417</td>\n      <td>...</td>\n      <td>289.722222</td>\n      <td>191.363588</td>\n      <td>61.987202</td>\n      <td>0.558949</td>\n      <td>0.496178</td>\n      <td>0.503822</td>\n      <td>-55.780407</td>\n      <td>26.870378</td>\n      <td>0.017781</td>\n      <td>59807.965533</td>\n    </tr>\n    <tr>\n      <th>std</th>\n      <td>4.482283e+05</td>\n      <td>28.845925</td>\n      <td>28.845925</td>\n      <td>17.398287</td>\n      <td>2.978057</td>\n      <td>0.770606</td>\n      <td>23.349641</td>\n      <td>16.558597</td>\n      <td>14.262691</td>\n      <td>5.159581</td>\n      <td>...</td>\n      <td>156.084439</td>\n      <td>97.330140</td>\n      <td>16.365492</td>\n      <td>0.496529</td>\n      <td>0.500012</td>\n      <td>0.500012</td>\n      <td>163.009917</td>\n      <td>28.860795</td>\n      <td>0.132160</td>\n      <td>50286.653500</td>\n    </tr>\n    <tr>\n      <th>min</th>\n      <td>1.200000e+01</td>\n      <td>0.000000</td>\n      <td>0.000000</td>\n      <td>31.000000</td>\n      <td>20.000000</td>\n      <td>31.900000</td>\n      <td>39.000000</td>\n      <td>21.000000</td>\n      <td>20.000000</td>\n      <td>1.000000</td>\n      <td>...</td>\n      <td>52.000000</td>\n      <td>8.000000</td>\n      <td>15.000000</td>\n      <td>0.000000</td>\n      <td>0.000000</td>\n      <td>0.000000</td>\n      <td>-5366.860000</td>\n      <td>1.000000</td>\n      <td>0.000000</td>\n      <td>9.000000</td>\n    </tr>\n    <tr>\n      <th>25%</th>\n      <td>3.913850e+05</td>\n      <td>9.000000</td>\n      <td>9.000000</td>\n      <td>72.000000</td>\n      <td>96.000000</td>\n      <td>36.500000</td>\n      <td>106.250000</td>\n      <td>71.000000</td>\n      <td>54.000000</td>\n      <td>15.500000</td>\n      <td>...</td>\n      <td>191.500000</td>\n      <td>123.500000</td>\n      <td>52.000000</td>\n      <td>0.000000</td>\n      <td>0.000000</td>\n      <td>0.000000</td>\n      <td>-45.772500</td>\n      <td>11.000000</td>\n      <td>0.000000</td>\n      <td>10241.000000</td>\n    </tr>\n    <tr>\n      <th>50%</th>\n      <td>7.842220e+05</td>\n      <td>19.000000</td>\n      <td>19.000000</td>\n      <td>83.000000</td>\n      <td>98.000000</td>\n      <td>37.000000</td>\n      <td>121.000000</td>\n      <td>80.000000</td>\n      <td>62.000000</td>\n      <td>18.000000</td>\n      <td>...</td>\n      <td>258.500000</td>\n      <td>180.000000</td>\n      <td>64.000000</td>\n      <td>1.000000</td>\n      <td>0.000000</td>\n      <td>1.000000</td>\n      <td>-6.120000</td>\n      <td>21.000000</td>\n      <td>0.000000</td>\n      <td>20493.500000</td>\n    </tr>\n    <tr>\n      <th>75%</th>\n      <td>1.164367e+06</td>\n      <td>33.000000</td>\n      <td>33.000000</td>\n      <td>95.000000</td>\n      <td>99.500000</td>\n      <td>37.440000</td>\n      <td>138.000000</td>\n      <td>91.670000</td>\n      <td>72.000000</td>\n      <td>21.000000</td>\n      <td>...</td>\n      <td>322.750000</td>\n      <td>237.500000</td>\n      <td>74.000000</td>\n      <td>1.000000</td>\n      <td>1.000000</td>\n      <td>1.000000</td>\n      <td>-0.040000</td>\n      <td>34.000000</td>\n      <td>0.000000</td>\n      <td>110087.000000</td>\n    </tr>\n    <tr>\n      <th>max</th>\n      <td>1.552206e+06</td>\n      <td>329.000000</td>\n      <td>329.000000</td>\n      <td>181.000000</td>\n      <td>100.000000</td>\n      <td>42.220000</td>\n      <td>296.000000</td>\n      <td>296.000000</td>\n      <td>296.000000</td>\n      <td>99.000000</td>\n      <td>...</td>\n      <td>816.000000</td>\n      <td>902.000000</td>\n      <td>100.000000</td>\n      <td>1.000000</td>\n      <td>1.000000</td>\n      <td>1.000000</td>\n      <td>22.040000</td>\n      <td>330.000000</td>\n      <td>1.000000</td>\n      <td>119992.000000</td>\n    </tr>\n  </tbody>\n</table>\n<p>8 rows × 45 columns</p>\n</div>"
                    },
                    "metadata": {}
                }
            ],
            "outputs_reference": "s3:deepnote-cell-outputs-production/b4bb0f3c-8146-4984-a752-4a1368ef389b",
            "content_dependencies": null
        },
        {
            "cell_type": "code",
            "metadata": {
                "source_hash": "cfb7452d",
                "execution_start": 1725726521976,
                "execution_millis": 31,
                "deepnote_to_be_reexecuted": false,
                "cell_id": "9fa3390eac6547bcbf81dc6fdf72e769",
                "deepnote_cell_type": "code"
            },
            "source": "list(df.SepsisLabel.unique())",
            "block_group": "2a0a50a167484b4799753c3826399ba3",
            "execution_count": 7,
            "outputs": [
                {
                    "output_type": "execute_result",
                    "execution_count": 7,
                    "data": {
                        "text/plain": "[0, 1]"
                    },
                    "metadata": {}
                }
            ],
            "outputs_reference": "dbtable:cell_outputs/f1102eb4-cf89-4f61-9c33-4feb6ac5bf8a",
            "content_dependencies": null
        },
        {
            "cell_type": "code",
            "metadata": {
                "source_hash": "de21d449",
                "execution_start": 1725726604840,
                "execution_millis": 684,
                "deepnote_to_be_reexecuted": false,
                "cell_id": "6680ea23c9f44f26afa1f936006f77fa",
                "deepnote_cell_type": "code"
            },
            "source": "asdasd",
            "block_group": "2920b5fed18c4a5c8858bbde73907982",
            "execution_count": 8,
            "outputs": [
                {
                    "output_type": "error",
                    "ename": "NameError",
                    "evalue": "name 'asdasd' is not defined",
                    "traceback": [
                        "\u001b[0;31m---------------------------------------------------------------------------\u001b[0m",
                        "\u001b[0;31mNameError\u001b[0m                                 Traceback (most recent call last)",
                        "Cell \u001b[0;32mIn [8], line 1\u001b[0m\n\u001b[0;32m----> 1\u001b[0m \u001b[43masdasd\u001b[49m\n",
                        "\u001b[0;31mNameError\u001b[0m: name 'asdasd' is not defined"
                    ]
                }
            ],
            "outputs_reference": "dbtable:cell_outputs/8e61309f-26ab-4f56-a718-5b63af0c20ca",
            "content_dependencies": null
        },
        {
            "cell_type": "markdown",
            "source": "<a style='text-decoration:none;line-height:16px;display:flex;color:#5B5B62;padding:10px;justify-content:end;' href='https://deepnote.com?utm_source=created-in-deepnote-cell&projectId=b931f52d-e49b-43bc-8480-f1d6d97b9312' target=\"_blank\">\n<img alt='Created in deepnote.com' style='display:inline;max-height:16px;margin:0px;margin-right:7.5px;' src='data:image/svg+xml;base64,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' > </img>\nCreated in <span style='font-weight:600;margin-left:4px;'>Deepnote</span></a>",
            "metadata": {
                "created_in_deepnote_cell": true,
                "deepnote_cell_type": "markdown"
            }
        }
    ],
    "nbformat": 4,
    "nbformat_minor": 0,
    "metadata": {
        "deepnote_notebook_id": "3195cd4789754ad280c188ea2e569260",
        "deepnote_execution_queue": []
    }
}